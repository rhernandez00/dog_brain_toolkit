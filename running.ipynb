{
 "cells": [
  {
   "cell_type": "markdown",
   "metadata": {},
   "source": [
    "# Apply flirt using different parameters"
   ]
  },
  {
   "cell_type": "code",
   "execution_count": 2,
   "metadata": {},
   "outputs": [
    {
     "name": "stdout",
     "output_type": "stream",
     "text": [
      "flirt -in /home\\raulh87\\mnt\\a471\\userdata\\raulh87\\github\\dog_brain_toolkit\\Atlas\\Dog\\Johnson\\brain.nii.gz -ref /home\\raulh87\\mnt\\a471\\userdata\\raulh87\\github\\dog_brain_toolkit\\Atlas\\Dog\\Nitzsche\\brain.nii.gz -out /home\\raulh87\\mnt\\a471\\userdata\\raulh87\\github\\dog_brain_toolkit\\Atlas\\Dog\\Johnson2Nitzsche.nii.gz -omat /home\\raulh87\\mnt\\a471\\userdata\\raulh87\\github\\dog_brain_toolkit\\Atlas\\Dog\\Johnson2Nitzsche.mat -bins 256 -cost corratio -searchrx -25 25 -searchry -25 25 -searchrz -25 25 -dof 12 -interp trilinear\n"
     ]
    }
   ],
   "source": [
    "import utils\n",
    "from importlib import reload\n",
    "reload(utils)\n",
    "import os\n",
    "\n",
    "reference_file = '/home' + os.sep + 'raulh87' + os.sep + 'mnt' + os.sep + 'a471' + os.sep + 'userdata' + os.sep + 'raulh87' + os.sep + 'github' + os.sep + 'dog_brain_toolkit' + os.sep + 'Atlas' + os.sep + 'Dog' + os.sep + 'Nitzsche' + os.sep + 'brain.nii.gz'\n",
    "# reference_file = r\"P:\\userdata\\raulh87\\github\\dog_brain_toolkit\\Atlas\\Dog\\Nitzsche\\brain.nii.gz\"\n",
    "input_file = '/home' + os.sep + 'raulh87' + os.sep + 'mnt' + os.sep + 'a471' + os.sep + 'userdata' + os.sep + 'raulh87' + os.sep + 'github' + os.sep + 'dog_brain_toolkit' + os.sep + 'Atlas' + os.sep + 'Dog' + os.sep + 'Johnson' + os.sep + 'brain.nii.gz'\n",
    "# input_file = r\"P:\\userdata\\raulh87\\github\\dog_brain_toolkit\\Atlas\\Dog\\Johnson\\brain.nii.gz\"\n",
    "# output_file = '/home' + os.sep + 'raulh87' + os.sep + 'mnt' + os.sep + 'a471' + os.sep + 'userdata' + os.sep + 'raulh87' + os.sep + 'github' + os.sep + 'dog_brain_toolkit' + os.sep + 'Atlas' + os.sep + 'Dog' + os.sep + 'Johnson2Nitzsche.nii.gz'\n",
    "# output_file = r\"P:\\userdata\\raulh87\\github\\dog_brain_toolkit\\Atlas\\Dog\\Nitzsche\\Johnson2Nitzsche.nii.gz\"\n",
    "\n",
    "params_possible = list(range(-180,181,40))\n",
    "\n",
    "for x_min in params_possible:\n",
    "    for x_max in params_possible:\n",
    "        if x_min >= x_max:\n",
    "            continue\n",
    "        for y_min in params_possible:\n",
    "            for y_max in params_possible:\n",
    "                if y_min >= y_max:\n",
    "                    continue\n",
    "                for z_min in params_possible:\n",
    "                    for z_max in params_possible:\n",
    "                        if z_min >= z_max:\n",
    "                            continue\n",
    "                        output_file = '/home' + os.sep + 'raulh87' + os.sep + 'mnt' + os.sep + 'a471' + os.sep + 'userdata' + os.sep + 'raulh87' + os.sep + 'github' + os.sep + 'dog_brain_toolkit' + os.sep + 'Atlas' + os.sep + 'Dog' + os.sep + 'Nitzsche' + os.sep + 'Johnson2Nitzsche_x' + str(x_min) + '_' + str(x_max) + '_y' + str(y_min) + '_' + str(y_max) + '_z' + str(z_min) + '_' + str(z_max) + '.nii.gz'\n",
    "\n",
    "                        parameters = {\n",
    "                            'x_min': x_min,\n",
    "                            'x_max': x_max,\n",
    "                            'y_min': y_min,\n",
    "                            'y_max': y_max,\n",
    "                            'z_min': z_min,\n",
    "                            'z_max': z_max,\n",
    "                        }\n",
    "\n",
    "                        utils.apply_flirt(input_file, output_file, reference_file, parameters)"
   ]
  },
  {
   "cell_type": "code",
   "execution_count": 9,
   "metadata": {},
   "outputs": [
    {
     "name": "stdout",
     "output_type": "stream",
     "text": [
      "voxel 27,36,52 has different values: 107.0 and 330.0\n"
     ]
    },
    {
     "ename": "Exception",
     "evalue": "voxel 27,36,52 has different values: 107.0 and 330.0",
     "output_type": "error",
     "traceback": [
      "\u001b[1;31m---------------------------------------------------------------------------\u001b[0m",
      "\u001b[1;31mException\u001b[0m                                 Traceback (most recent call last)",
      "Cell \u001b[1;32mIn[9], line 24\u001b[0m\n\u001b[0;32m     22\u001b[0m subcortical_data[x,y,z] \u001b[38;5;241m=\u001b[39m \u001b[38;5;241m0\u001b[39m\n\u001b[0;32m     23\u001b[0m \u001b[38;5;66;03m# trigger exception\u001b[39;00m\n\u001b[1;32m---> 24\u001b[0m \u001b[38;5;28;01mraise\u001b[39;00m \u001b[38;5;167;01mException\u001b[39;00m(\u001b[38;5;124mf\u001b[39m\u001b[38;5;124m\"\u001b[39m\u001b[38;5;124mvoxel \u001b[39m\u001b[38;5;132;01m{\u001b[39;00mx\u001b[38;5;132;01m}\u001b[39;00m\u001b[38;5;124m,\u001b[39m\u001b[38;5;132;01m{\u001b[39;00my\u001b[38;5;132;01m}\u001b[39;00m\u001b[38;5;124m,\u001b[39m\u001b[38;5;132;01m{\u001b[39;00mz\u001b[38;5;132;01m}\u001b[39;00m\u001b[38;5;124m has different values: \u001b[39m\u001b[38;5;132;01m{\u001b[39;00mval_cortical\u001b[38;5;132;01m}\u001b[39;00m\u001b[38;5;124m and \u001b[39m\u001b[38;5;132;01m{\u001b[39;00mval_subcortical\u001b[38;5;132;01m}\u001b[39;00m\u001b[38;5;124m\"\u001b[39m)\n",
      "\u001b[1;31mException\u001b[0m: voxel 27,36,52 has different values: 107.0 and 330.0"
     ]
    }
   ],
   "source": [
    "import nibabel as nib\n",
    "cortical_path = r\"C:\\github\\dog_brain_toolkit\\Atlas\\Dog\\Johnson\\Johnson_cortical.nii.gz\"\n",
    "subcortical_path = r\"C:\\github\\dog_brain_toolkit\\Atlas\\Dog\\Johnson\\Johnson_subcortical.nii.gz\"\n",
    "\n",
    "# load the cortical and subcortical nii\n",
    "cortical = nib.load(cortical_path)\n",
    "subcortical = nib.load(subcortical_path)\n",
    "# get the data\n",
    "cortical_data = cortical.get_fdata()\n",
    "subcortical_data = subcortical.get_fdata()\n",
    "# for each voxel in the cortical data\n",
    "for x in range(cortical_data.shape[0]):\n",
    "    for y in range(cortical_data.shape[1]):\n",
    "        for z in range(cortical_data.shape[2]):\n",
    "            val_cortical = cortical_data[x,y,z]\n",
    "            val_subcortical = subcortical_data[x,y,z]\n",
    "            if val_cortical > 0 and val_subcortical > 0:\n",
    "                #if val_cortical is differrent from val_subcortical\n",
    "                if val_cortical != val_subcortical:\n",
    "                    print(f\"voxel {x},{y},{z} has different values: {val_cortical} and {val_subcortical}\")\n",
    "                    cortical_data[x,y,z] = 0\n",
    "                    subcortical_data[x,y,z] = 0\n",
    "                    # trigger exception\n",
    "                    raise Exception(f\"voxel {x},{y},{z} has different values: {val_cortical} and {val_subcortical}\")\n",
    "\n",
    "            \n",
    "\n",
    "\n"
   ]
  }
 ],
 "metadata": {
  "kernelspec": {
   "display_name": "base",
   "language": "python",
   "name": "python3"
  },
  "language_info": {
   "codemirror_mode": {
    "name": "ipython",
    "version": 3
   },
   "file_extension": ".py",
   "mimetype": "text/x-python",
   "name": "python",
   "nbconvert_exporter": "python",
   "pygments_lexer": "ipython3",
   "version": "3.11.5"
  }
 },
 "nbformat": 4,
 "nbformat_minor": 2
}
