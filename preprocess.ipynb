{
 "cells": [
  {
   "cell_type": "code",
   "execution_count": 1,
   "metadata": {},
   "outputs": [
    {
     "data": {
      "text/plain": [
       "<module 'utils' from 'c:\\\\github\\\\dog_brain_toolkit\\\\utils.py'>"
      ]
     },
     "execution_count": 1,
     "metadata": {},
     "output_type": "execute_result"
    }
   ],
   "source": [
    "import ipywidgets as widgets\n",
    "import utils\n",
    "import os\n",
    "from importlib import reload\n",
    "\n",
    "reload(utils)"
   ]
  },
  {
   "cell_type": "code",
   "execution_count": 7,
   "metadata": {},
   "outputs": [
    {
     "data": {
      "text/plain": [
       "'/home/raulh87/mnt/a471/userdata/raulh87/data'"
      ]
     },
     "execution_count": 7,
     "metadata": {},
     "output_type": "execute_result"
    }
   ],
   "source": [
    "username = \"raulh87\"\n",
    "datafolder = r\"P:\\userdata\" + username + r\"\\data\"\n",
    "datafolder = '/home' + '/' + username + '/mnt/a471/userdata/' + username + '/data'\n",
    "datafolder\n",
    "\n"
   ]
  },
  {
   "cell_type": "code",
   "execution_count": 19,
   "metadata": {},
   "outputs": [],
   "source": [
    "import utils\n",
    "import preprocess_functions\n",
    "from importlib import reload\n",
    "import os"
   ]
  },
  {
   "cell_type": "code",
   "execution_count": 41,
   "metadata": {},
   "outputs": [
    {
     "name": "stdout",
     "output_type": "stream",
     "text": [
      "This is a test, no actual fslinfo command will be run, giving back random values\n",
      "Output design file: c:\\github\\dog_brain_toolkit\\FSL_designs\\preprocess_modified.fsf\n",
      "./feat c:\\github\\dog_brain_toolkit\\FSL_designs\\preprocess_modified.fsf\n",
      "system is windows, command not executed.\n",
      "FSL output directory: P:\\userdata\\raulh87\\data\\Complex\\preprocessing\\D-sub-001_task-visual_run-01\n",
      "system is windows, command not executed.\n",
      "orientation to use:  ['-x', 'z', '-y']\n",
      "non-oriented file: P:\\userdata\\raulh87\\data\\Complex\\preprocessing\\D-sub-001\\D-sub-001_task-visual_run-01_not-oriented.nii.gz\n",
      "oriented file: P:\\userdata\\raulh87\\data\\Complex\\preprocessing\\D-sub-001\\D-sub-001_task-visual_run-01_reoriented.nii.gz\n",
      "The system is windows, this is a test, no actual fsl commands will be run\n",
      "Working with P:\\userdata\\raulh87\\data\\Complex\\preprocessing\\D-sub-001\\D-sub-001_task-visual_run-01_not-oriented.nii.gz\n",
      "Creating P:\\userdata\\raulh87\\data\\Complex\\preprocessing\\D-sub-001\\D-sub-001_task-visual_run-01_reoriented.nii.gz...\n",
      "Deleting orientation...\n",
      "fslorient -deleteorient P:\\userdata\\raulh87\\data\\Complex\\preprocessing\\D-sub-001\\D-sub-001_task-visual_run-01_reoriented.nii.gz\n",
      "Swapping axes...\n",
      "fslswapdim P:\\userdata\\raulh87\\data\\Complex\\preprocessing\\D-sub-001\\D-sub-001_task-visual_run-01_reoriented.nii.gz -x z -y P:\\userdata\\raulh87\\data\\Complex\\preprocessing\\D-sub-001\\D-sub-001_task-visual_run-01_reoriented.nii.gz\n",
      "Adding labels...\n",
      "fslorient -setqformcode 1 -setqformcode 1 P:\\userdata\\raulh87\\data\\Complex\\preprocessing\\D-sub-001\\D-sub-001_task-visual_run-01_reoriented.nii.gz\n",
      "Reorientation done!\n"
     ]
    }
   ],
   "source": [
    "reload(utils)\n",
    "reload(preprocess_functions)\n",
    "dataset = 'Complex'\n",
    "session = ''\n",
    "task = 'visual' \n",
    "specie= 'D'\n",
    "username='raulh87'\n",
    "# check if the system is windows\n",
    "if os.name == 'nt':\n",
    "    #datafolder = r\"C:\\data\"\n",
    "    datafolder = r\"P:\\userdata\" + os.sep + username + r\"\\data\"\n",
    "else:\n",
    "    datafolder = '/home' + os.sep + username + '/mnt/a471/userdata/' + username + '/data'\n",
    "sub_N = 1\n",
    "run_N = 1\n",
    "smooth=0\n",
    "combination=['-x','z','-y']\n",
    "\n",
    "\n",
    "preprocess_functions.preprocess_run(sub_N, run_N, dataset, task, specie, datafolder, session, smooth, combination)\n"
   ]
  },
  {
   "cell_type": "code",
   "execution_count": 21,
   "metadata": {},
   "outputs": [
    {
     "name": "stdout",
     "output_type": "stream",
     "text": [
      "Combination: ['-x', 'z', '-y']\n"
     ]
    }
   ],
   "source": [
    "combination=['-x','z','-y']\n",
    "# indicate what combination it is\n",
    "print('Combination:', combination)"
   ]
  },
  {
   "cell_type": "code",
   "execution_count": null,
   "metadata": {},
   "outputs": [],
   "source": [
    "combination = ['-x','-y','-z'] # voice_sens\n",
    "combination = ['-x','z','-y'] # prosody, complex, actions\n",
    "utils.reorient_file(workingdir + os.sep + non_oriented_file, workingdir + os.sep + reoriented_file, combination)\n"
   ]
  },
  {
   "cell_type": "markdown",
   "metadata": {},
   "source": [
    "## Calculating mean_fct"
   ]
  },
  {
   "cell_type": "code",
   "execution_count": 10,
   "metadata": {},
   "outputs": [],
   "source": [
    "import preprocess_functions"
   ]
  },
  {
   "cell_type": "code",
   "execution_count": 46,
   "metadata": {},
   "outputs": [
    {
     "name": "stdout",
     "output_type": "stream",
     "text": [
      "The system is Windows, this is a test, no actual system or FSL commands will be run\n",
      "processing 1 of 4\n",
      "calculating motion...\n",
      "mcflirt -in P:\\userdata\\raulh87\\data\\Complex\\preprocessing\\D-sub-001\\D-sub-001\\D-sub-001_task-visual_run-01_reoriented.nii.gz -out P:\\userdata\\raulh87\\data\\Complex\\preprocessing\\D-sub-001\\D-sub-001\\D-sub-001_task-visual_run-01_reoriented_mc_tmp.nii.gz -plots\n",
      "par file saved as: P:\\userdata\\raulh87\\data\\Complex\\movement\\D-sub-001_task-visual_run-01.par\n",
      "correcting motion...\n",
      "mcflirt -in P:\\userdata\\raulh87\\data\\Complex\\preprocessing\\D-sub-001\\D-sub-001\\D-sub-001_task-visual_run-01_reoriented.nii.gz -out P:\\userdata\\raulh87\\data\\Complex\\preprocessing\\D-sub-001\\D-sub-001\\D-sub-001_task-visual_run-01_reoriented_mc.nii.gz -reffile P:\\userdata\\raulh87\\data\\Complex\\preprocessing\\D-sub-001\\D-sub-001\\base_vol.nii.gz\n",
      "motion corrected file saved as D-sub-001_task-visual_run-01_reoriented_mc.nii.gz\n",
      "removing temporal file: P:\\userdata\\raulh87\\data\\Complex\\preprocessing\\D-sub-001\\D-sub-001\\D-sub-001_task-visual_run-01_reoriented_mc_tmp.nii.gz\n",
      "calculating mean image...\n",
      "fslmaths P:\\userdata\\raulh87\\data\\Complex\\preprocessing\\D-sub-001\\D-sub-001\\D-sub-001_task-visual_run-01_reoriented_mc.nii.gz -Tmean P:\\userdata\\raulh87\\data\\Complex\\preprocessing\\D-sub-001\\D-sub-001\\D-sub-001_task-visual_run-01_mean.nii.gz\n",
      "processing 2 of 4\n",
      "calculating motion...\n",
      "mcflirt -in P:\\userdata\\raulh87\\data\\Complex\\preprocessing\\D-sub-001\\D-sub-001\\D-sub-001_task-visual_run-02_reoriented.nii.gz -out P:\\userdata\\raulh87\\data\\Complex\\preprocessing\\D-sub-001\\D-sub-001\\D-sub-001_task-visual_run-02_reoriented_mc_tmp.nii.gz -plots\n",
      "par file saved as: P:\\userdata\\raulh87\\data\\Complex\\movement\\D-sub-001_task-visual_run-02.par\n",
      "correcting motion...\n",
      "mcflirt -in P:\\userdata\\raulh87\\data\\Complex\\preprocessing\\D-sub-001\\D-sub-001\\D-sub-001_task-visual_run-02_reoriented.nii.gz -out P:\\userdata\\raulh87\\data\\Complex\\preprocessing\\D-sub-001\\D-sub-001\\D-sub-001_task-visual_run-02_reoriented_mc.nii.gz -reffile P:\\userdata\\raulh87\\data\\Complex\\preprocessing\\D-sub-001\\D-sub-001\\base_vol.nii.gz\n",
      "motion corrected file saved as D-sub-001_task-visual_run-02_reoriented_mc.nii.gz\n",
      "removing temporal file: P:\\userdata\\raulh87\\data\\Complex\\preprocessing\\D-sub-001\\D-sub-001\\D-sub-001_task-visual_run-02_reoriented_mc_tmp.nii.gz\n",
      "calculating mean image...\n",
      "fslmaths P:\\userdata\\raulh87\\data\\Complex\\preprocessing\\D-sub-001\\D-sub-001\\D-sub-001_task-visual_run-02_reoriented_mc.nii.gz -Tmean P:\\userdata\\raulh87\\data\\Complex\\preprocessing\\D-sub-001\\D-sub-001\\D-sub-001_task-visual_run-02_mean.nii.gz\n",
      "processing 3 of 4\n",
      "calculating motion...\n",
      "mcflirt -in P:\\userdata\\raulh87\\data\\Complex\\preprocessing\\D-sub-001\\D-sub-001\\D-sub-001_task-visual_run-03_reoriented.nii.gz -out P:\\userdata\\raulh87\\data\\Complex\\preprocessing\\D-sub-001\\D-sub-001\\D-sub-001_task-visual_run-03_reoriented_mc_tmp.nii.gz -plots\n",
      "par file saved as: P:\\userdata\\raulh87\\data\\Complex\\movement\\D-sub-001_task-visual_run-03.par\n",
      "correcting motion...\n",
      "mcflirt -in P:\\userdata\\raulh87\\data\\Complex\\preprocessing\\D-sub-001\\D-sub-001\\D-sub-001_task-visual_run-03_reoriented.nii.gz -out P:\\userdata\\raulh87\\data\\Complex\\preprocessing\\D-sub-001\\D-sub-001\\D-sub-001_task-visual_run-03_reoriented_mc.nii.gz -reffile P:\\userdata\\raulh87\\data\\Complex\\preprocessing\\D-sub-001\\D-sub-001\\base_vol.nii.gz\n",
      "motion corrected file saved as D-sub-001_task-visual_run-03_reoriented_mc.nii.gz\n",
      "removing temporal file: P:\\userdata\\raulh87\\data\\Complex\\preprocessing\\D-sub-001\\D-sub-001\\D-sub-001_task-visual_run-03_reoriented_mc_tmp.nii.gz\n",
      "calculating mean image...\n",
      "fslmaths P:\\userdata\\raulh87\\data\\Complex\\preprocessing\\D-sub-001\\D-sub-001\\D-sub-001_task-visual_run-03_reoriented_mc.nii.gz -Tmean P:\\userdata\\raulh87\\data\\Complex\\preprocessing\\D-sub-001\\D-sub-001\\D-sub-001_task-visual_run-03_mean.nii.gz\n",
      "processing 4 of 4\n",
      "calculating motion...\n",
      "mcflirt -in P:\\userdata\\raulh87\\data\\Complex\\preprocessing\\D-sub-001\\D-sub-001\\D-sub-001_task-visual_run-04_reoriented.nii.gz -out P:\\userdata\\raulh87\\data\\Complex\\preprocessing\\D-sub-001\\D-sub-001\\D-sub-001_task-visual_run-04_reoriented_mc_tmp.nii.gz -plots\n",
      "par file saved as: P:\\userdata\\raulh87\\data\\Complex\\movement\\D-sub-001_task-visual_run-04.par\n",
      "correcting motion...\n",
      "mcflirt -in P:\\userdata\\raulh87\\data\\Complex\\preprocessing\\D-sub-001\\D-sub-001\\D-sub-001_task-visual_run-04_reoriented.nii.gz -out P:\\userdata\\raulh87\\data\\Complex\\preprocessing\\D-sub-001\\D-sub-001\\D-sub-001_task-visual_run-04_reoriented_mc.nii.gz -reffile P:\\userdata\\raulh87\\data\\Complex\\preprocessing\\D-sub-001\\D-sub-001\\base_vol.nii.gz\n",
      "motion corrected file saved as D-sub-001_task-visual_run-04_reoriented_mc.nii.gz\n",
      "removing temporal file: P:\\userdata\\raulh87\\data\\Complex\\preprocessing\\D-sub-001\\D-sub-001\\D-sub-001_task-visual_run-04_reoriented_mc_tmp.nii.gz\n",
      "calculating mean image...\n",
      "fslmaths P:\\userdata\\raulh87\\data\\Complex\\preprocessing\\D-sub-001\\D-sub-001\\D-sub-001_task-visual_run-04_reoriented_mc.nii.gz -Tmean P:\\userdata\\raulh87\\data\\Complex\\preprocessing\\D-sub-001\\D-sub-001\\D-sub-001_task-visual_run-04_mean.nii.gz\n",
      "done\n"
     ]
    }
   ],
   "source": [
    "reload(utils)\n",
    "reload(preprocess_functions)\n",
    "dataset = 'Complex'\n",
    "session = ''\n",
    "task = 'visual' \n",
    "specie= 'D'\n",
    "username='raulh87'\n",
    "# check if the system is windows\n",
    "if os.name == 'nt':\n",
    "    #datafolder = r\"C:\\data\"\n",
    "    datafolder = r\"P:\\userdata\" + os.sep + username + r\"\\data\"\n",
    "else:\n",
    "    datafolder = '/home' + os.sep + username + '/mnt/a471/userdata/' + username + '/data'\n",
    "sub_N = 1\n",
    "run_N = 1\n",
    "\n",
    "# This function will be called get_mean_fct\n",
    "\n",
    "#print(base_filename)\n",
    "first_time = True # flag to create the base volume, True = get the volume, False = do not get the volume it's already created\n",
    "runs_to_use = [1,2,3,4]\n",
    "base_run = 1 # run used as reference to align all the others\n",
    "\n",
    "preprocess_functions.get_mean_fct(sub_N, runs_to_use, base_run, dataset, task, specie, datafolder, session, first_time)\n"
   ]
  },
  {
   "cell_type": "markdown",
   "metadata": {},
   "source": [
    "# Cutting app"
   ]
  },
  {
   "cell_type": "code",
   "execution_count": 2,
   "metadata": {},
   "outputs": [],
   "source": [
    "from nilearn.plotting import plot_anat, show\n",
    "import ipywidgets as widgets\n",
    "import utils\n",
    "import os\n",
    "from importlib import reload\n",
    "from nilearn import plotting\n",
    "from nilearn import image as nli\n",
    "reload(utils)\n",
    "import nibabel as nib\n",
    "import numpy as np\n",
    "from ipywidgets import HBox, VBox\n",
    "import numpy as np\n",
    "from nilearn.plotting import plot_anat, show\n",
    "import ipywidgets as widgets\n",
    "import matplotlib.pyplot as plt\n",
    "\n",
    "#plot_anat(mean_fct_file, display_mode='ortho', cut_coords=[x,y,z])\n"
   ]
  },
  {
   "cell_type": "code",
   "execution_count": 12,
   "metadata": {},
   "outputs": [
    {
     "data": {
      "application/vnd.jupyter.widget-view+json": {
       "model_id": "9b5a5818f8bd45949266153841ae323c",
       "version_major": 2,
       "version_minor": 0
      },
      "text/plain": [
       "HBox(children=(VBox(children=(IntSlider(value=40, description='X', max=80), IntSlider(value=20, description='Y…"
      ]
     },
     "metadata": {},
     "output_type": "display_data"
    },
    {
     "data": {
      "application/vnd.jupyter.widget-view+json": {
       "model_id": "5224921a9ce94a08a832660e68f6ed39",
       "version_major": 2,
       "version_minor": 0
      },
      "text/plain": [
       "Output()"
      ]
     },
     "metadata": {},
     "output_type": "display_data"
    }
   ],
   "source": [
    "def plot_slices(x, y, z, x_lim1, y_lim1, z_lim1, x_lim2, y_lim2, z_lim2):\n",
    "    \n",
    "    \"\"\"\n",
    "    Plot slices from the sagittal, coronal, and axial views side by side.\n",
    "    \"\"\"\n",
    "    fig, axes = plt.subplots(1, 3, figsize=(8, 5))\n",
    "\n",
    "    # Sagittal\n",
    "    sagittal_slice = data[x, :, :]\n",
    "    axes[0].imshow(sagittal_slice.T, cmap='gray', origin='lower')\n",
    "    axes[0].axis('off')\n",
    "\n",
    "    # Coronal\n",
    "    coronal_slice = data[:, y, :]\n",
    "    axes[1].imshow(coronal_slice.T, cmap='gray', origin='lower')\n",
    "    axes[1].axis('off')\n",
    "\n",
    "    # Axial\n",
    "    axial_slice = data[:, :, z]\n",
    "    axes[2].imshow(axial_slice.T, cmap='gray', origin='lower')\n",
    "    axes[2].axis('off')\n",
    "\n",
    "    # make a tight layout\n",
    "    plt.tight_layout()\n",
    "\n",
    "    # make the background black\n",
    "    fig.patch.set_facecolor('black')\n",
    "\n",
    "    \n",
    "    # Plotting red lines\n",
    "    # plotting lines in sagital slice\n",
    "    axes[0].axhline(y=z_lim1, color='red', lw=2)\n",
    "    axes[0].axvline(x=y_lim1, color='red', lw=2)\n",
    "\n",
    "    # plotting lines in coronal slice\n",
    "    axes[1].axvline(x=x_lim1, color='red', lw=2)\n",
    "    axes[1].axhline(y=z_lim1, color='red', lw=2)\n",
    "    \n",
    "    # plotting lines in axial slice\n",
    "    axes[2].axvline(x=x_lim1, color='red', lw=2)\n",
    "    axes[2].axhline(y=y_lim1, color='red', lw=2)\n",
    "\n",
    "    # Plotting blue lines\n",
    "    # plotting lines in sagital slice\n",
    "    axes[0].axhline(y=z_lim2, color='blue', lw=2)\n",
    "    axes[0].axvline(x=y_lim2, color='blue', lw=2)\n",
    "\n",
    "    # plotting lines in coronal slice\n",
    "    axes[1].axvline(x=x_lim2, color='blue', lw=2)\n",
    "    axes[1].axhline(y=z_lim2, color='blue', lw=2)\n",
    "\n",
    "    # plotting lines in axial slice\n",
    "    axes[2].axvline(x=x_lim2, color='blue', lw=2)\n",
    "    axes[2].axhline(y=y_lim2, color='blue', lw=2)\n",
    "\n",
    "    plt.show()\n",
    "\n",
    "\n",
    "def apply_cut_button(x_lim1, y_lim1, z_lim1, x_lim2, y_lim2, z_lim2):\n",
    "    # determine name of params_file based on mean_fct_file\n",
    "    params_file = mean_fct_file[:-7] + '_cut_params.txt'\n",
    "\n",
    "    # create a dict with the cutting parameters\n",
    "    param_dict = {'x_lim1':x_lim1, 'y_lim1':y_lim1,\n",
    "                    'z_lim1':z_lim1, 'x_lim2':x_lim2,\n",
    "                    'y_lim2':y_lim2, 'z_lim2':z_lim2, \n",
    "                    'output_file':cut_mean_fct_file,\n",
    "                    }\n",
    "\n",
    "    # save the cutting parameters\n",
    "    utils.write_params_file(params_file, param_dict)\n",
    "    print('button pressed')\n",
    "    command = f\"./remove_slices.sh {mean_fct_file} {params_file}\"\n",
    "    os.system(command)\n",
    "\n",
    "    \n",
    "\n",
    "dataset = 'Complex'\n",
    "session = ''\n",
    "task = 'visual'\n",
    "specie= 'D'\n",
    "sub_N = 1\n",
    "# check if the system is windows\n",
    "if os.name == 'nt':\n",
    "    datafolder = r\"C:\\data\"\n",
    "    datafolder = r\"P:\\userdata\\raulh87\\data\"\n",
    "else:\n",
    "    datafolder = '/home/raulh87/mnt/a471/userdata/raulh87/data'\n",
    "\n",
    "# working directory\n",
    "workingdir = datafolder + os.sep + dataset + os.sep + 'preprocessing' + os.sep + specie + '-sub-' + str(sub_N).zfill(3)\n",
    "\n",
    "mean_fct_file = workingdir + os.sep + specie + '-sub-' + str(sub_N).zfill(3)\n",
    "# adding session if there is one\n",
    "if session != '':\n",
    "    mean_fct_file += '_ses-' + session\n",
    "cut_mean_fct_file = mean_fct_file + '_task-' + task + '_mean_fct.nii.gz'\n",
    "mean_fct_file += '_task-' + task + '_mean_fct_uncut.nii.gz'\n",
    "\n",
    "\n",
    "# determine min and max values for each axis\n",
    "img = nib.load(mean_fct_file)\n",
    "\n",
    "# Get the data from the image\n",
    "data = img.get_fdata()\n",
    "\n",
    "slider_style = {'description_width': 'initial', 'width': '2px'}\n",
    "\n",
    "maxX,maxY,maxZ = img.shape\n",
    "col1 = widgets.VBox([widgets.IntSlider(min=0, max=maxX, step=1, value=np.round(maxX/2), description='X'),\n",
    "                    widgets.IntSlider(min=0, max=maxY, step=1, value=np.round(maxY/2), description='Y'),\n",
    "                    widgets.IntSlider(min=0, max=maxZ, step=1, value=np.round(maxZ/2), description='Z')])\n",
    "\n",
    "col2 = widgets.VBox([widgets.IntSlider(min=0, max=maxX, step=1, value=0, description='lim X'),\n",
    "                     widgets.IntSlider(min=0, max=maxY, step=1, value=0, description='lim Y'),\n",
    "                     widgets.IntSlider(min=0, max=maxZ, step=1, value=0, description='lim Z')])\n",
    "\n",
    "col3 = widgets.VBox([widgets.IntSlider(min=0, max=maxX, step=1, value=maxX, description='lim X'),\n",
    "                    widgets.IntSlider(min=0, max=maxY, step=1, value=maxY, description='lim Y'),\n",
    "                    widgets.IntSlider(min=0, max=maxZ, step=1, value=maxZ, description='lim Z')])\n",
    "\n",
    "col4 = widgets.Button(description='Apply cut')\n",
    "\n",
    "out = widgets.interactive_output(plot_slices, {'x':col1.children[0], 'y':col1.children[1], 'z':col1.children[2],\n",
    "                                                'x_lim1':col2.children[0], 'y_lim1':col2.children[1], 'z_lim1':col2.children[2],\n",
    "                                                'x_lim2':col3.children[0], 'y_lim2':col3.children[1], 'z_lim2':col3.children[2],\n",
    "                                                })\n",
    "\n",
    "# setting the button to call the function\n",
    "col4.on_click(lambda b: apply_cut_button(\n",
    "    col2.children[0].value, col2.children[1].value, col2.children[2].value,\n",
    "    col3.children[0].value, col3.children[1].value, col3.children[2].value,\n",
    "))\n",
    "\n",
    "display(HBox([col1,col2,col3,col4]),out)"
   ]
  },
  {
   "cell_type": "markdown",
   "metadata": {},
   "source": [
    "# BET spheres"
   ]
  },
  {
   "cell_type": "code",
   "execution_count": 34,
   "metadata": {},
   "outputs": [],
   "source": [
    "from nilearn.plotting import plot_anat, show\n",
    "import ipywidgets as widgets\n",
    "import utils\n",
    "import os\n",
    "from importlib import reload\n",
    "from nilearn import plotting\n",
    "from nilearn import image as nli\n",
    "reload(utils)\n",
    "import nibabel as nib\n",
    "import numpy as np\n",
    "from ipywidgets import HBox, VBox\n",
    "import numpy as np\n",
    "from nilearn.plotting import plot_anat, show\n",
    "import ipywidgets as widgets\n",
    "import matplotlib.pyplot as plt\n",
    "from matplotlib.colors import ListedColormap"
   ]
  },
  {
   "cell_type": "code",
   "execution_count": 39,
   "metadata": {},
   "outputs": [
    {
     "data": {
      "application/vnd.jupyter.widget-view+json": {
       "model_id": "9a6d4ed6015e45b6ad20278c360ea657",
       "version_major": 2,
       "version_minor": 0
      },
      "text/plain": [
       "VBox(children=(HBox(children=(VBox(children=(IntSlider(value=12, description='X', max=24), IntSlider(value=18,…"
      ]
     },
     "metadata": {},
     "output_type": "display_data"
    },
    {
     "data": {
      "application/vnd.jupyter.widget-view+json": {
       "model_id": "99ca5dfec9e5497b8e37eca1b23e6b7d",
       "version_major": 2,
       "version_minor": 0
      },
      "text/plain": [
       "Output()"
      ]
     },
     "metadata": {},
     "output_type": "display_data"
    }
   ],
   "source": [
    "# Create a custom colormaps\n",
    "# black\n",
    "black = np.array([0, 0, 0, 0])   # RGBA for black (last value is alpha)\n",
    "# red\n",
    "red = np.array([1, 0, 0, 1])     # RGBA for red\n",
    "# blue\n",
    "blue = np.array([0, 0, 1, 1])    # RGBA for blue\n",
    "# yellow\n",
    "yellow = np.array([1, 1, 0, 1])  # RGBA for yellow (last value is alpha)\n",
    "\n",
    "# create a red colormap\n",
    "red_cmap = ListedColormap([black, red])\n",
    "# create a blue colormap\n",
    "blue_cmap = ListedColormap([black, blue])\n",
    "# create a yellow colormap\n",
    "yellow_cmap = ListedColormap([black, yellow])\n",
    "\n",
    "\n",
    "def plot_bet(x,y,z, betx_1, bety_1, betz_1, betx_2, bety_2, betz_2, betx_3, bety_3, betz_3, plot_mask):\n",
    "    \n",
    "    \"\"\"\n",
    "    Plot slices from the sagittal, coronal, and axial views side by side.\n",
    "    \"\"\"\n",
    "    fig, axes = plt.subplots(1, 3, figsize=(8, 5))\n",
    "    \n",
    "    # Sagittal\n",
    "    sagittal_slice = data[x, :, :]\n",
    "    axes[0].imshow(sagittal_slice.T, cmap='gray', origin='lower')\n",
    "    axes[0].scatter(bety_1,betz_1,s=200, c='red')\n",
    "    # plot blue only if betx_2 matches the current slice\n",
    "    if betx_2 == x:\n",
    "        axes[0].scatter(bety_2,betz_2,s=200, c='blue')\n",
    "    axes[0].scatter(bety_3,betz_3,s=200, c='yellow')\n",
    "    axes[0].axis('off')\n",
    "    # display mask if plot_mask is True\n",
    "    if plot_mask:\n",
    "        # get mask1 for sagital slice\n",
    "        sagital_mask1 = data_mask1[x, :, :]\n",
    "        # plot mask1 in red\n",
    "        axes[0].imshow(sagital_mask1.T, cmap=red_cmap, origin='lower', alpha=0.5)\n",
    "        # get mask2 for sagital slice\n",
    "        sagital_mask2 = data_mask2[x, :, :]\n",
    "        # plot mask2 in blue\n",
    "        axes[0].imshow(sagital_mask2.T, cmap=blue_cmap, origin='lower', alpha=0.5)\n",
    "        # get mask3 for sagital slice\n",
    "        sagital_mask3 = data_mask3[x, :, :]\n",
    "        # plot mask3 in yellow\n",
    "        axes[0].imshow(sagital_mask3.T, cmap=yellow_cmap, origin='lower', alpha=0.5)\n",
    "\n",
    "    # Coronal\n",
    "    coronal_slice = data[:, y, :]\n",
    "    axes[1].imshow(coronal_slice.T, cmap='gray', origin='lower')\n",
    "    # plot red only if bety_1 matches the current slice\n",
    "    if bety_1 == y:\n",
    "        axes[1].scatter(betx_1,betz_1,s=200, c='red')\n",
    "    axes[1].scatter(betx_2,betz_2,s=200, c='blue')\n",
    "    axes[1].scatter(betx_3,betz_3,s=200, c='yellow')\n",
    "    axes[1].axis('off')\n",
    "    # display mask if plot_mask is True\n",
    "    if plot_mask:\n",
    "        # get mask1 for coronal slice\n",
    "        coronal_mask1 = data_mask1[:, y, :]\n",
    "        # plot mask1 in red\n",
    "        axes[1].imshow(coronal_mask1.T, cmap=red_cmap, origin='lower', alpha=0.5)\n",
    "        # get mask2 for coronal slice\n",
    "        coronal_mask2 = data_mask2[:, y, :]\n",
    "        # plot mask2 in blue\n",
    "        axes[1].imshow(coronal_mask2.T, cmap=blue_cmap, origin='lower', alpha=0.5)\n",
    "        # get mask3 for coronal slice\n",
    "        coronal_mask3 = data_mask3[:, y, :]\n",
    "        # plot mask3 in yellow\n",
    "        axes[1].imshow(coronal_mask3.T, cmap=yellow_cmap, origin='lower', alpha=0.5)\n",
    "\n",
    "    # Axial\n",
    "    axial_slice = data[:, :, z]\n",
    "    axes[2].imshow(axial_slice.T, cmap='gray', origin='lower')\n",
    "    axes[2].scatter(betx_1,bety_1,s=200, c='red')\n",
    "    axes[2].scatter(betx_2,bety_2,s=200, c='blue')\n",
    "    # plot yellow only if betz_3 matches the current slice\n",
    "    if betz_3 == z:\n",
    "        axes[2].scatter(betx_3,bety_3,s=200, c='yellow')\n",
    "    axes[2].axis('off')\n",
    "    # display mask if plot_mask is True\n",
    "    if plot_mask:\n",
    "        # get mask1 for axial slice\n",
    "        axial_mask1 = data_mask1[:, :, z]\n",
    "        # plot mask1 in red\n",
    "        axes[2].imshow(axial_mask1.T, cmap=red_cmap, origin='lower', alpha=0.5)\n",
    "        # get mask2 for axial slice\n",
    "        axial_mask2 = data_mask2[:, :, z]\n",
    "        # plot mask2 in blue\n",
    "        axes[2].imshow(axial_mask2.T, cmap=blue_cmap, origin='lower', alpha=0.5)\n",
    "        # get mask3 for axial slice\n",
    "        axial_mask3 = data_mask3[:, :, z]\n",
    "        # plot mask3 in yellow\n",
    "        axes[2].imshow(axial_mask3.T, cmap=yellow_cmap, origin='lower', alpha=0.5)\n",
    "    \n",
    "    # make a tight layout\n",
    "    plt.tight_layout()\n",
    "\n",
    "    # make the background black\n",
    "    fig.patch.set_facecolor('black')\n",
    "\n",
    "    # display the plot\n",
    "    plt.show()\n",
    "        \n",
    "        \n",
    "\n",
    "\n",
    "\n",
    "dataset = 'Complex'\n",
    "session = ''\n",
    "task = 'visual'\n",
    "specie= 'D'\n",
    "sub_N = 1\n",
    "# check if the system is windows\n",
    "if os.name == 'nt':\n",
    "    datafolder = r\"C:\\data\"\n",
    "    datafolder = r\"P:\\userdata\\raulh87\\data\"\n",
    "else:\n",
    "    datafolder = '/home/raulh87/mnt/a471/userdata/raulh87/data'\n",
    "\n",
    "\n",
    "\n",
    "# working directory\n",
    "workingdir = datafolder + os.sep + dataset + os.sep + 'preprocessing' + os.sep + specie + '-sub-' + str(sub_N).zfill(3)\n",
    "\n",
    "mean_fct_file = workingdir + os.sep + specie + '-sub-' + str(sub_N).zfill(3)\n",
    "# adding session if there is one\n",
    "if session != '':\n",
    "    mean_fct_file += '_ses-' + session\n",
    "cut_mean_fct_file = mean_fct_file + '_task-' + task + '_mean_fct.nii.gz'\n",
    "mask_file = mean_fct_file + '_task-' + task + '_mean_fct_mask.nii.gz'\n",
    "mask_file1 = mean_fct_file + '_task-' + task + '_mean_fct_mask1.nii.gz'\n",
    "mask_file2 = mean_fct_file + '_task-' + task + '_mean_fct_mask2.nii.gz'\n",
    "mask_file3 = mean_fct_file + '_task-' + task + '_mean_fct_mask3.nii.gz'\n",
    "mean_fct_file += '_task-' + task + '_mean_fct_uncut.nii.gz'\n",
    "masked_mean_fct_file = mean_fct_file[:-7] + '_brain.nii.gz'\n",
    "\n",
    "# load cut_mean_fct_file\n",
    "img = nib.load(cut_mean_fct_file)\n",
    "\n",
    "# Get the data from the image\n",
    "data = img.get_fdata()\n",
    "\n",
    "# Load each of the three masks\n",
    "mask_img1 = nib.load(mask_file1)\n",
    "data_mask1 = mask_img1.get_fdata()\n",
    "mask_img2 = nib.load(mask_file2)\n",
    "data_mask2 = mask_img2.get_fdata()\n",
    "mask_img3 = nib.load(mask_file3)\n",
    "data_mask3 = mask_img3.get_fdata()\n",
    "\n",
    "\n",
    "# determine min and max values for each axis\n",
    "maxX,maxY,maxZ = img.shape\n",
    "\n",
    "# define function to apply BET\n",
    "def apply_bet_button(betx_1, bety_1, betz_1, thr_1, betx_2, bety_2, betz_2, thr_2, betx_3, bety_3, betz_3, thr_3):\n",
    "    global data_mask1, data_mask2, data_mask3\n",
    "    # determine name of params_file based on mean_fct_file\n",
    "    params_file = mean_fct_file[:-7] + '_bet_params.txt'\n",
    "    # create a dict with the parameters\n",
    "    param_dict = {'betx_1':betx_1, 'bety_1':bety_1, 'betz_1':betz_1, 'thr_1':thr_1,\n",
    "                    'betx_2':betx_2, 'bety_2':bety_2, 'betz_2':betz_2, 'thr_2':thr_2,\n",
    "                    'betx_3':betx_3, 'bety_3':bety_3, 'betz_3':betz_3, 'thr_3':thr_3,\n",
    "                    'output_file':mask_file, 'masked_file':masked_mean_fct_file,\n",
    "                    'mask_file1':mask_file1, 'mask_file2':mask_file2, 'mask_file3':mask_file3,\n",
    "                    }\n",
    "\n",
    "    # save the cutting parameters\n",
    "    utils.write_params_file(params_file, param_dict)\n",
    "    print('button pressed')\n",
    "    command = f\"./run_bet.sh {cut_mean_fct_file} {params_file}\"\n",
    "    os.system(command)\n",
    "\n",
    "    # update button description and status\n",
    "    col1.children[3].description = 'Display mask'\n",
    "    col1.children[3].disabled = False\n",
    "    \n",
    "    # Load each of the three masks\n",
    "    mask_img1 = nib.load(mask_file1)\n",
    "    data_mask1 = mask_img1.get_fdata()\n",
    "    mask_img2 = nib.load(mask_file2)\n",
    "    data_mask2 = mask_img2.get_fdata()\n",
    "    mask_img3 = nib.load(mask_file3)\n",
    "    data_mask3 = mask_img3.get_fdata()\n",
    "\n",
    "\n",
    "# create 4 sets of sliders, one for the slice, and 3 for the spheres marking the initial place of the BET sphere\n",
    "\n",
    "# check if mask file 1 already exist\n",
    "if os.path.exists(mask_file1):\n",
    "    button_description = 'Display mask'\n",
    "    button_disabled = False\n",
    "else:\n",
    "    button_description = 'Mask not available'\n",
    "    button_disabled = True\n",
    "\n",
    "# sliders for the slice\n",
    "col1 = widgets.VBox([widgets.IntSlider(min=0, max=maxX, step=1, value=np.round(maxX/2), description='X'),\n",
    "                    widgets.IntSlider(min=0, max=maxY, step=1, value=np.round(maxY/2), description='Y'),\n",
    "                    widgets.IntSlider(min=0, max=maxZ, step=1, value=np.round(maxZ/2), description='Z'),\n",
    "                    widgets.ToggleButton(value=False, description=button_description, button_style='info', disabled=button_disabled),\n",
    "                    ])\n",
    "\n",
    "# sliders for the spheres\n",
    "\n",
    "# first sphere, has 4 values, x,y,z and threshold\n",
    "col2 = widgets.VBox([widgets.IntSlider(min=0, max=maxX, step=1, value=np.round(maxX/2), description='betx_1'),\n",
    "                     widgets.IntSlider(min=0, max=maxY, step=1, value=14, description='bety_1'),\n",
    "                     widgets.IntSlider(min=0, max=maxZ, step=1, value=11, description='betz_1'),\n",
    "                     widgets.FloatSlider(min=0, max=1, step=0.05, value=0.8, description='thr_1'),\n",
    "                     ])\n",
    "# second sphere, has 4 values, x,y,z and threshold\n",
    "col3 = widgets.VBox([widgets.IntSlider(min=0, max=maxX, step=1, value=np.round(maxX/2), description='betx_2'),\n",
    "                    widgets.IntSlider(min=0, max=maxY, step=1, value=21, description='bety_2'),\n",
    "                    widgets.IntSlider(min=0, max=maxZ, step=1, value=18, description='betz_2'),\n",
    "                    widgets.FloatSlider(min=0, max=1, step=0.05, value=0.8, description='thr_2'),\n",
    "                    ])\n",
    "# third sphere, has 4 values, x,y,z and threshold\n",
    "col4 = widgets.VBox([widgets.IntSlider(min=0, max=maxX, step=1, value=np.round(maxX/2), description='betx_3'),\n",
    "                    widgets.IntSlider(min=0, max=maxY, step=1, value=30, description='bety_3'),\n",
    "                    widgets.IntSlider(min=0, max=maxZ, step=1, value=6, description='betz_3'),\n",
    "                    widgets.FloatSlider(min=0, max=1, step=0.05, value=0.8, description='thr_3'),\n",
    "                    ])\n",
    "\n",
    "# linkin the sliders to the function\n",
    "out = widgets.interactive_output(plot_bet, {'x':col1.children[0], 'y':col1.children[1], 'z':col1.children[2],\n",
    "                                                'betx_1':col2.children[0], 'bety_1':col2.children[1], 'betz_1':col2.children[2],\n",
    "                                                'betx_2':col3.children[0], 'bety_2':col3.children[1], 'betz_2':col3.children[2],\n",
    "                                                'betx_3':col4.children[0], 'bety_3':col4.children[1], 'betz_3':col4.children[2],\n",
    "                                                'plot_mask':col1.children[3],\n",
    "                                                })\n",
    "# button to apply the BET\n",
    "col5 = widgets.Button(description='Apply BET')\n",
    "\n",
    "# setting the button to call the function\n",
    "col5.on_click(lambda b: apply_bet_button(\n",
    "    col2.children[0].value, col2.children[1].value, col2.children[2].value, col2.children[3].value,\n",
    "    col3.children[0].value, col3.children[1].value, col3.children[2].value, col3.children[3].value,\n",
    "    col4.children[0].value, col4.children[1].value, col4.children[2].value, col4.children[3].value,\n",
    "))\n",
    "\n",
    "\n",
    "row1 = HBox([col1,col2,col3,col4])\n",
    "row2 = HBox([col5])\n",
    "\n",
    "display(VBox([row1,row2]),out)\n"
   ]
  },
  {
   "cell_type": "markdown",
   "metadata": {},
   "source": [
    "# Transformation matrix from mean_fct_cut to atlas"
   ]
  },
  {
   "cell_type": "code",
   "execution_count": 2,
   "metadata": {},
   "outputs": [
    {
     "data": {
      "text/plain": [
       "<module 'utils' from 'c:\\\\github\\\\dog_brain_toolkit\\\\utils.py'>"
      ]
     },
     "execution_count": 2,
     "metadata": {},
     "output_type": "execute_result"
    }
   ],
   "source": [
    "import os\n",
    "import utils\n",
    "from importlib import reload\n",
    "reload(utils)"
   ]
  },
  {
   "cell_type": "code",
   "execution_count": 6,
   "metadata": {},
   "outputs": [
    {
     "name": "stdout",
     "output_type": "stream",
     "text": [
      "system is windows, command not executed. Command is:\n",
      "./flirt -in P:\\userdata\\raulh87\\data\\Complex\\preprocessing\\D-sub-001\\D-sub-001_task-visual_mean_fct_uncut_brain.nii.gz -ref c:\\github\\dog_brain_toolkit\\Atlas\\Dog\\Czeibert\\brain2mm.nii.gz -out P:\\userdata\\raulh87\\data\\Complex\\preprocessing\\D-sub-001\\D-sub-001_task-visual_mean_fct_uncut_STD.nii.gz -omat P:\\userdata\\raulh87\\data\\Complex\\preprocessing\\D-sub-001\\D-sub-001_task-visual_mean_fct_uncut_2STD.mat -bins 256 -cost corratio -searchrx -90 90 -searchry -90 90 -searchrz -90 90 -dof 12  -interp trilinear\n"
     ]
    }
   ],
   "source": [
    "\n",
    "\n",
    "\n",
    "# this should be a function called mean_to_STD\n",
    "reload(utils)\n",
    "dataset = 'Complex'\n",
    "session = ''\n",
    "task = 'visual' \n",
    "specie= 'D'\n",
    "username='raulh87'\n",
    "# check if the system is windows\n",
    "if os.name == 'nt':\n",
    "    datafolder = r\"P:\\userdata\" + os.sep + username + r\"\\data\"\n",
    "else:\n",
    "    datafolder = '/home' + os.sep + username + '/mnt/a471/userdata/' + username + '/data'\n",
    "\n",
    "sub_N= 1\n",
    "\n",
    "atlas_type = 'Czeibert'\n",
    "\n",
    "mean_to_STD(sub_N, dataset, task, specie, datafolder, atlas_type, session='', img_type='brain2mm')"
   ]
  },
  {
   "cell_type": "markdown",
   "metadata": {},
   "source": [
    "# Apply transformation matrix to all runs"
   ]
  },
  {
   "cell_type": "code",
   "execution_count": 17,
   "metadata": {},
   "outputs": [
    {
     "data": {
      "text/plain": [
       "<module 'utils' from 'c:\\\\github\\\\dog_brain_toolkit\\\\utils.py'>"
      ]
     },
     "execution_count": 17,
     "metadata": {},
     "output_type": "execute_result"
    }
   ],
   "source": [
    "import os\n",
    "import utils\n",
    "from importlib import reload\n",
    "import preprocess_functions\n",
    "reload(utils)"
   ]
  },
  {
   "cell_type": "code",
   "execution_count": 19,
   "metadata": {},
   "outputs": [
    {
     "name": "stdout",
     "output_type": "stream",
     "text": [
      "Directory P:\\userdata\\raulh87\\data\\Complex\\normalized\\D-sub-001 already exists\n",
      "transforming 1 of 4\n",
      "Parameters file saved as P:\\userdata\\raulh87\\data\\Complex\\preprocessing\\D-sub-001\\D-sub-001_task-visual_mean_fct_cut_params_run-01_cut_params.txt\n",
      "./remove_slices.sh P:\\userdata\\raulh87\\data\\Complex\\preprocessing\\D-sub-001\\D-sub-001_task-visual_run-01_reoriented_mc.nii.gz P:\\userdata\\raulh87\\data\\Complex\\preprocessing\\D-sub-001\\D-sub-001_task-visual_mean_fct_cut_params_run-01_cut_params.txt\n",
      "transforming 2 of 4\n",
      "Parameters file saved as P:\\userdata\\raulh87\\data\\Complex\\preprocessing\\D-sub-001\\D-sub-001_task-visual_mean_fct_cut_params_run-02_cut_params.txt\n",
      "./remove_slices.sh P:\\userdata\\raulh87\\data\\Complex\\preprocessing\\D-sub-001\\D-sub-001_task-visual_run-02_reoriented_mc.nii.gz P:\\userdata\\raulh87\\data\\Complex\\preprocessing\\D-sub-001\\D-sub-001_task-visual_mean_fct_cut_params_run-02_cut_params.txt\n",
      "transforming 3 of 4\n",
      "Parameters file saved as P:\\userdata\\raulh87\\data\\Complex\\preprocessing\\D-sub-001\\D-sub-001_task-visual_mean_fct_cut_params_run-03_cut_params.txt\n",
      "./remove_slices.sh P:\\userdata\\raulh87\\data\\Complex\\preprocessing\\D-sub-001\\D-sub-001_task-visual_run-03_reoriented_mc.nii.gz P:\\userdata\\raulh87\\data\\Complex\\preprocessing\\D-sub-001\\D-sub-001_task-visual_mean_fct_cut_params_run-03_cut_params.txt\n",
      "transforming 4 of 4\n",
      "Parameters file saved as P:\\userdata\\raulh87\\data\\Complex\\preprocessing\\D-sub-001\\D-sub-001_task-visual_mean_fct_cut_params_run-04_cut_params.txt\n",
      "./remove_slices.sh P:\\userdata\\raulh87\\data\\Complex\\preprocessing\\D-sub-001\\D-sub-001_task-visual_run-04_reoriented_mc.nii.gz P:\\userdata\\raulh87\\data\\Complex\\preprocessing\\D-sub-001\\D-sub-001_task-visual_mean_fct_cut_params_run-04_cut_params.txt\n"
     ]
    }
   ],
   "source": [
    "reload(preprocess_functions)\n",
    "reload(utils)\n",
    "\n",
    "\n",
    "# this should be a function called mean_to_STD\n",
    "reload(utils)\n",
    "dataset = 'Complex'\n",
    "session = ''\n",
    "task = 'visual' \n",
    "specie= 'D'\n",
    "username='raulh87'\n",
    "# check if the system is windows\n",
    "if os.name == 'nt':\n",
    "    datafolder = r\"P:\\userdata\" + os.sep + username + r\"\\data\"\n",
    "else:\n",
    "    datafolder = '/home' + os.sep + username + '/mnt/a471/userdata/' + username + '/data'\n",
    "\n",
    "sub_N= 1\n",
    "\n",
    "atlas_type = 'Czeibert'\n",
    "\n",
    "preprocess_functions.mean_to_STD(sub_N, dataset, task, specie, datafolder, atlas_type, session='', img_type='brain2mm')"
   ]
  },
  {
   "cell_type": "code",
   "execution_count": null,
   "metadata": {},
   "outputs": [],
   "source": [
    "## File check"
   ]
  },
  {
   "cell_type": "code",
   "execution_count": null,
   "metadata": {},
   "outputs": [],
   "source": [
    "fslmaths ${inputFile} -mul ${dataFolder}/${experiment}/data/${sub}/masks/brain_mask_m_BOLD.nii.gz ${inputFile}\n",
    "flirt -in ${tmpFile} -ref ${referenceFile} -applyxfm -init ${conversionMatrixF} -out ${fileOut}"
   ]
  },
  {
   "cell_type": "code",
   "execution_count": null,
   "metadata": {},
   "outputs": [],
   "source": [
    "\n",
    "\n",
    "# working directory\n",
    "workingdir = datafolder + os.sep + dataset + os.sep + 'preprocessing' + os.sep + specie + '-sub-' + str(sub_N).zfill(3)\n",
    "\n",
    "mean_fct_file = workingdir + os.sep + specie + '-sub-' + str(sub_N).zfill(3)\n",
    "# adding session if there is one\n",
    "if session != '':\n",
    "    mean_fct_file += '_ses-' + session\n",
    "cut_mean_fct_file = mean_fct_file + '_task-' + task + '_mean_fct_cut.nii.gz'\n",
    "mask_file = mean_fct_file + '_task-' + task + '_mean_fct_cut_mask.nii.gz'\n",
    "mean_fct_file += '_task-' + task + '_mean_fct.nii.gz'\n",
    "\n",
    "params_file = mean_fct_file[:-7] + '_bet_params.txt'"
   ]
  },
  {
   "cell_type": "code",
   "execution_count": 56,
   "metadata": {},
   "outputs": [
    {
     "name": "stdout",
     "output_type": "stream",
     "text": [
      "P:\\userdata\\raulh87\\data\\Complex\\preprocessing\\D-sub-001\\D-sub-001_task-visual_run-01_reoriented.nii.gz\n"
     ]
    },
    {
     "data": {
      "text/plain": [
       "<matplotlib.image.AxesImage at 0x23b846600d0>"
      ]
     },
     "execution_count": 56,
     "metadata": {},
     "output_type": "execute_result"
    },
    {
     "data": {
      "image/png": "[encoded data removed]",
      "text/plain": [
       "<Figure size 640x480 with 1 Axes>"
      ]
     },
     "metadata": {},
     "output_type": "display_data"
    }
   ],
   "source": [
    "import nibabel as nib\n",
    "import matplotlib.pyplot as plt\n",
    "\n",
    "filename = workingdir + os.sep + reoriented_file\n",
    "print(filename)\n",
    "\n",
    "# load the image\n",
    "img = nib.load(filename)\n",
    "\n",
    "# get the data\n",
    "data = img.get_fdata()\n",
    "\n",
    "# Display a slice\n",
    "plt.imshow(data[:,:,40,0], cmap='gray')\n"
   ]
  },
  {
   "cell_type": "code",
   "execution_count": 89,
   "metadata": {},
   "outputs": [],
   "source": [
    "import shutil\n",
    "\n",
    "runs_possible = range(1,7)\n",
    "\n",
    "dataset = 'Complex'\n",
    "session = ''\n",
    "specie = 'H'\n",
    "task = 'visual'\n",
    "\n",
    "if specie == 'H':\n",
    "    sublist = ['Raul','Laura','Juan','Miriam','Paula','Cecilia','Lili','Rita','Eszter','Yago','Andrea','John','Eniko']\n",
    "elif specie == 'D':\n",
    "    sublist = ['Odin','Kun','Maya','Maverick','Mokka','Alma','Akira','Pan','Monty','Kara','Bodza','Grog','Bingo','Rohan','Nara']\n",
    "\n",
    "\n",
    "for sub_N,participant in enumerate(sublist):\n",
    "    if participant == 'Maverick':\n",
    "        runs_possible = range(1,4)\n",
    "    elif participant == 'Grog':\n",
    "        runs_possible = range(1,4)\n",
    "    else:\n",
    "        runs_possible = range(1,7)\n",
    "    for run_N in runs_possible:\n",
    "        original_name = os.getcwd() + os.sep + participant + '_' + 'run' + str(run_N) + '.nii.gz'\n",
    "\n",
    "        # input directory in BIDS format\n",
    "        filename = datafolder + os.sep + dataset + os.sep + specie + '-sub-' + str(sub_N+1).zfill(3) + os.sep + 'func' + os.sep\n",
    "        # check if session is not empty\n",
    "        if session != '':\n",
    "            filename += 'ses-' + session + os.sep\n",
    "        filename += specie + '-sub-' + str(sub_N+1).zfill(3)\n",
    "        if session != '':\n",
    "            filename += '_ses-' + session\n",
    "        filename += '_task-' + task + '_run-' + str(run_N).zfill(2) + '_bold.nii.gz'\n",
    "        # check if folder related to filename exist\n",
    "        if not os.path.exists(os.path.dirname(filename)):\n",
    "            os.makedirs(os.path.dirname(filename))\n",
    "\n",
    "        print('old name:' + original_name)\n",
    "        print('new name:' + filename)\n",
    "        # create a copy of filename to new location\n",
    "        shutil.copy(original_name, filename)\n",
    "\n",
    "\n",
    "    \n"
   ]
  },
  {
   "cell_type": "code",
   "execution_count": null,
   "metadata": {},
   "outputs": [],
   "source": [
    "dataset = 'Complex'\n",
    "session = ''\n",
    "task = 'visual'\n",
    "specie= 'D'\n",
    "sub_N = 1\n",
    "runs_to_use = [1,2,3,4]\n",
    "sub_list = [1,2,3,4,5]\n",
    "file_type_list = []\n",
    "# check if the system is windows\n",
    "if os.name == 'nt':\n",
    "    datafolder = r\"C:\\data\"\n",
    "    datafolder = r\"P:\\userdata\\raulh87\\data\"\n",
    "else:\n",
    "    datafolder = '/home/raulh87/mnt/a471/userdata/raulh87/data'\n",
    "\n",
    "# Create dataframe status_table which indicates if the file is present or not\n",
    "#status_table = pd.DataFrame(index=sub_list, columns=runs_to_use)\n",
    "\n",
    "\n",
    "\n",
    "\n",
    "# initial files\n",
    "\n",
    "\n",
    "\n",
    "'''\n",
    "#P:\\userdata\\raulh87\\data\\Complex\\BIDS\\D-sub-001\\func\n",
    "'''\n",
    "\n",
    "\n",
    "\n",
    "\n",
    "\n",
    "\n",
    "# working directories\n",
    "std_dir = datafolder + os.sep + dataset + os.sep + 'normalized' + os.sep + specie + '-sub-' + str(sub_N).zfill(3)\n",
    "preprocess_dir = datafolder + os.sep + dataset + os.sep + 'preprocessing' + os.sep + specie + '-sub-' + str(sub_N).zfill(3)\n",
    "\n",
    "# cutting parameters file\n",
    "params_file = preprocess_dir + os.sep + specie + '-sub-' + str(sub_N).zfill(3)\n",
    "# adding session if there is one\n",
    "if session != '':\n",
    "    params_file += '_ses-' + session\n",
    "\n",
    "params_file += '_task-' + task + '_mean_fct_cut_params.txt'\n",
    "\n",
    "# if working directory does not exist, create it\n",
    "if not os.path.exists(std_dir):\n",
    "    os.makedirs(std_dir)\n",
    "    print('Directory ' + std_dir + ' created')\n",
    "else:\n",
    "    print('Directory ' + std_dir + ' already exists')\n",
    "\n"
   ]
  },
  {
   "cell_type": "code",
   "execution_count": null,
   "metadata": {},
   "outputs": [],
   "source": [
    "\n",
    "dataset = 'Complex'\n",
    "session = ''\n",
    "task = 'visual'\n",
    "specie= 'D'\n",
    "sub_N = 1\n",
    "runs_to_use = [1,2,3,4]\n",
    "\n",
    "\n",
    "# working directories\n",
    "std_dir = datafolder + os.sep + dataset + os.sep + 'normalized' + os.sep + specie + '-sub-' + str(sub_N).zfill(3)\n",
    "preprocess_dir = datafolder + os.sep + dataset + os.sep + 'preprocessing' + os.sep + specie + '-sub-' + str(sub_N).zfill(3)\n"
   ]
  }
 ],
 "metadata": {
  "kernelspec": {
   "display_name": "Python 3 (ipykernel)",
   "language": "python",
   "name": "python3"
  },
  "language_info": {
   "codemirror_mode": {
    "name": "ipython",
    "version": 3
   },
   "file_extension": ".py",
   "mimetype": "text/x-python",
   "name": "python",
   "nbconvert_exporter": "python",
   "pygments_lexer": "ipython3",
   "version": "3.11.5"
  }
 },
 "nbformat": 4,
 "nbformat_minor": 2
}
