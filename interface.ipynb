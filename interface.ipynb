{
 "cells": [
  {
   "cell_type": "markdown",
   "metadata": {},
   "source": [
    "# User interface"
   ]
  },
  {
   "cell_type": "code",
   "execution_count": 3,
   "metadata": {},
   "outputs": [],
   "source": [
    "from nilearn.plotting import plot_anat, show\n",
    "import ipywidgets as widgets\n",
    "import utils\n",
    "import os\n",
    "from importlib import reload\n",
    "from nilearn import plotting\n",
    "from nilearn import image as nli\n",
    "reload(utils)\n",
    "import nibabel as nib\n",
    "import numpy as np\n",
    "from ipywidgets import HBox, VBox\n",
    "import numpy as np\n",
    "from nilearn.plotting import plot_anat, show\n",
    "import ipywidgets as widgets\n",
    "import matplotlib.pyplot as plt\n",
    "from matplotlib.colors import ListedColormap"
   ]
  },
  {
   "cell_type": "code",
   "execution_count": 5,
   "metadata": {},
   "outputs": [
    {
     "data": {
      "application/vnd.jupyter.widget-view+json": {
       "model_id": "11618ef5325b402f99d0018fd4c493ae",
       "version_major": 2,
       "version_minor": 0
      },
      "text/plain": [
       "Text(value='Hello World', description='String:', placeholder='Type something')"
      ]
     },
     "execution_count": 5,
     "metadata": {},
     "output_type": "execute_result"
    }
   ],
   "source": [
    "# Data input\n",
    "\n",
    "# This block will collect database info\n",
    "\n",
    "widgets.Text(\n",
    "    value='Hello World',\n",
    "    placeholder='Type something',\n",
    "    description='String:',\n",
    "    disabled=False   \n",
    ")"
   ]
  },
  {
   "cell_type": "code",
   "execution_count": null,
   "metadata": {},
   "outputs": [],
   "source": [
    "import ipywidgets as widgets\n",
    "from IPython.display import display, Markdown"
   ]
  },
  {
   "cell_type": "code",
   "execution_count": null,
   "metadata": {},
   "outputs": [
    {
     "data": {
      "text/markdown": [
       "\n",
       "    ### Experiment Data\n",
       "    **Dataset:** fc  \n",
       "\n",
       "    **Participants:** 1,2,3,4  \n",
       "\n",
       "    **Runs:** 1,2,3,4  \n",
       "\n",
       "    **Otro:** 111  \n",
       "    "
      ],
      "text/plain": [
       "<IPython.core.display.Markdown object>"
      ]
     },
     "metadata": {},
     "output_type": "display_data"
    },
    {
     "data": {
      "application/vnd.jupyter.widget-view+json": {
       "model_id": "f144646dcbca445e92e0acadf56bc681",
       "version_major": 2,
       "version_minor": 0
      },
      "text/plain": [
       "Text(value='fc', description='Dataset:')"
      ]
     },
     "metadata": {},
     "output_type": "display_data"
    },
    {
     "data": {
      "application/vnd.jupyter.widget-view+json": {
       "model_id": "473d768426fb4590a6dfaee03ace3baf",
       "version_major": 2,
       "version_minor": 0
      },
      "text/plain": [
       "Text(value='1,2,3,4', description='Participants:')"
      ]
     },
     "metadata": {},
     "output_type": "display_data"
    },
    {
     "data": {
      "application/vnd.jupyter.widget-view+json": {
       "model_id": "b21bbc2cdc2b46de9744bd61d7104052",
       "version_major": 2,
       "version_minor": 0
      },
      "text/plain": [
       "Text(value='1,2,3,4', description='Runs:')"
      ]
     },
     "metadata": {},
     "output_type": "display_data"
    },
    {
     "data": {
      "application/vnd.jupyter.widget-view+json": {
       "model_id": "35601e519d3342dea41507b34bea21dd",
       "version_major": 2,
       "version_minor": 0
      },
      "text/plain": [
       "Text(value='111', description='Otro:')"
      ]
     },
     "metadata": {},
     "output_type": "display_data"
    },
    {
     "data": {
      "application/vnd.jupyter.widget-view+json": {
       "model_id": "b7903eed1b7f467eb863f761d622f950",
       "version_major": 2,
       "version_minor": 0
      },
      "text/plain": [
       "Button(description='Update', style=ButtonStyle())"
      ]
     },
     "metadata": {},
     "output_type": "display_data"
    },
    {
     "data": {
      "application/vnd.jupyter.widget-view+json": {
       "model_id": "fc394635529e4077938f0b9493064d37",
       "version_major": 2,
       "version_minor": 0
      },
      "text/plain": [
       "Button(description='Cancel', style=ButtonStyle())"
      ]
     },
     "metadata": {},
     "output_type": "display_data"
    }
   ],
   "source": [
    "import ipywidgets as widgets\n",
    "from IPython.display import display, Markdown, clear_output\n",
    "\n",
    "# Display initial data_dict\n",
    "data_dict = {\n",
    "    \"Dataset\": \"fc\",\n",
    "    \"Participants\": \"1,2,3,4\",\n",
    "    \"Runs\": \"1,2,3,4\",\n",
    "    \"Otro\": \"\"\n",
    "}\n",
    "\n",
    "# Function to display markdown text\n",
    "def display_markdown():\n",
    "    markdown_text = f\"\"\"\n",
    "    ### Experiment Data\n",
    "    **Dataset:** {data_dict['Dataset']}  \\n\n",
    "    **Participants:** {data_dict['Participants']}  \\n\n",
    "    **Runs:** {data_dict['Runs']}  \\n\n",
    "    **Otro:** {data_dict['Otro']}  \n",
    "    \"\"\"\n",
    "    display(Markdown(markdown_text))\n",
    "\n",
    "# Initial display\n",
    "display_markdown()\n",
    "\n",
    "# Create widgets for input\n",
    "input_widgets = {\n",
    "    \"Dataset\": widgets.Text(value=data_dict['Dataset'], description='Dataset:'),\n",
    "    \"Participants\": widgets.Text(value=data_dict['Participants'], description='Participants:'),\n",
    "    \"Runs\": widgets.Text(value=data_dict['Runs'], description='Runs:'),\n",
    "    \"Otro\": widgets.Text(value=data_dict['Otro'], description='Otro:')\n",
    "}\n",
    "\n",
    "update_button = widgets.Button(description=\"Update\")\n",
    "cancel_button = widgets.Button(description=\"Cancel\")\n",
    "\n",
    "# Display widgets\n",
    "for widget in input_widgets.values():\n",
    "    display(widget)\n",
    "display(update_button)\n",
    "display(cancel_button)\n",
    "\n",
    "# Update function\n",
    "def update_data(b):\n",
    "    # declare data_dict as global variable\n",
    "    global data_dict\n",
    "\n",
    "    clear_output(wait=True)  # Clears the current output and waits for new output to be displayed\n",
    "    data_dict = {key: widget.value for key, widget in input_widgets.items()}\n",
    "    display_markdown()  # Display updated markdown\n",
    "    for widget in input_widgets.values():  # Redisplay input widgets for further updates\n",
    "        display(widget)\n",
    "    display(update_button)  # Redisplay the update button\n",
    "    display(cancel_button)  # Redisplay the cancel button\n",
    "\n",
    "# Cancel function\n",
    "def cancel_update(b):\n",
    "    clear_output(wait=True)\n",
    "    for key, widget in input_widgets.items():\n",
    "        widget.value = data_dict[key]  # Reset to original values\n",
    "    display_markdown()  # Redisplay original data_dict\n",
    "    for widget in input_widgets.values():  # Redisplay input widgets\n",
    "        display(widget)\n",
    "    display(update_button)\n",
    "    display(cancel_button)\n",
    "\n",
    "update_button.on_click(update_data)\n",
    "cancel_button.on_click(cancel_update)\n"
   ]
  },
  {
   "cell_type": "code",
   "execution_count": 41,
   "metadata": {},
   "outputs": [
    {
     "data": {
      "text/markdown": [
       "\n",
       "    ### Experiment Data\n",
       "    **Dataset:** fc  \n",
       "\n",
       "    **Participants:** 1,2,3,4  \n",
       "\n",
       "    **Runs:** 1,2,3,4  \n",
       "\n",
       "    **Otro:**   \n",
       "    "
      ],
      "text/plain": [
       "<IPython.core.display.Markdown object>"
      ]
     },
     "metadata": {},
     "output_type": "display_data"
    },
    {
     "ename": "AttributeError",
     "evalue": "'Text' object has no attribute 'on_event'",
     "output_type": "error",
     "traceback": [
      "\u001b[1;31m---------------------------------------------------------------------------\u001b[0m",
      "\u001b[1;31mAttributeError\u001b[0m                            Traceback (most recent call last)",
      "Cell \u001b[1;32mIn[41], line 54\u001b[0m\n\u001b[0;32m     52\u001b[0m \u001b[38;5;66;03m# Bind the key press event\u001b[39;00m\n\u001b[0;32m     53\u001b[0m \u001b[38;5;28;01mfor\u001b[39;00m widget \u001b[38;5;129;01min\u001b[39;00m input_widgets\u001b[38;5;241m.\u001b[39mvalues():\n\u001b[1;32m---> 54\u001b[0m     widget\u001b[38;5;241m.\u001b[39mon_event(\u001b[38;5;124m'\u001b[39m\u001b[38;5;124mkey_down\u001b[39m\u001b[38;5;124m'\u001b[39m, handle_key_event)\n\u001b[0;32m     56\u001b[0m \u001b[38;5;66;03m# Cancel function\u001b[39;00m\n\u001b[0;32m     57\u001b[0m \u001b[38;5;28;01mdef\u001b[39;00m \u001b[38;5;21mcancel_update\u001b[39m(b):\n",
      "\u001b[1;31mAttributeError\u001b[0m: 'Text' object has no attribute 'on_event'"
     ]
    }
   ],
   "source": []
  },
  {
   "cell_type": "code",
   "execution_count": 40,
   "metadata": {},
   "outputs": [
    {
     "name": "stdout",
     "output_type": "stream",
     "text": [
      "fc\n"
     ]
    },
    {
     "ename": "AttributeError",
     "evalue": "'Text' object has no attribute 'on_event'",
     "output_type": "error",
     "traceback": [
      "\u001b[1;31m---------------------------------------------------------------------------\u001b[0m",
      "\u001b[1;31mAttributeError\u001b[0m                            Traceback (most recent call last)",
      "Cell \u001b[1;32mIn[40], line 3\u001b[0m\n\u001b[0;32m      1\u001b[0m \u001b[38;5;28;01mfor\u001b[39;00m widget \u001b[38;5;129;01min\u001b[39;00m input_widgets\u001b[38;5;241m.\u001b[39mvalues():\n\u001b[0;32m      2\u001b[0m     \u001b[38;5;28mprint\u001b[39m(widget\u001b[38;5;241m.\u001b[39mvalue)\n\u001b[1;32m----> 3\u001b[0m     widget\u001b[38;5;241m.\u001b[39mon_event(\u001b[38;5;124m'\u001b[39m\u001b[38;5;124mkey_down\u001b[39m\u001b[38;5;124m'\u001b[39m, handle_key_event)\n",
      "\u001b[1;31mAttributeError\u001b[0m: 'Text' object has no attribute 'on_event'"
     ]
    }
   ],
   "source": [
    "forinput_widgets.values()"
   ]
  },
  {
   "cell_type": "code",
   "execution_count": 39,
   "metadata": {},
   "outputs": [
    {
     "data": {
      "text/plain": [
       "'fc'"
      ]
     },
     "execution_count": 39,
     "metadata": {},
     "output_type": "execute_result"
    }
   ],
   "source": []
  },
  {
   "cell_type": "code",
   "execution_count": null,
   "metadata": {},
   "outputs": [],
   "source": []
  },
  {
   "cell_type": "code",
   "execution_count": null,
   "metadata": {},
   "outputs": [
    {
     "data": {
      "text/plain": [
       "{'Dataset': 'fco',\n",
       " 'Participants': '1,2,3,4,5,6',\n",
       " 'Runs': '1,2,3,4',\n",
       " 'Otro': ''}"
      ]
     },
     "execution_count": 18,
     "metadata": {},
     "output_type": "execute_result"
    }
   ],
   "source": [
    "data_dict"
   ]
  }
 ],
 "metadata": {
  "kernelspec": {
   "display_name": "base",
   "language": "python",
   "name": "python3"
  },
  "language_info": {
   "codemirror_mode": {
    "name": "ipython",
    "version": 3
   },
   "file_extension": ".py",
   "mimetype": "text/x-python",
   "name": "python",
   "nbconvert_exporter": "python",
   "pygments_lexer": "ipython3",
   "version": "3.11.5"
  }
 },
 "nbformat": 4,
 "nbformat_minor": 2
}
