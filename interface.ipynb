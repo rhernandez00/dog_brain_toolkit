{
 "cells": [
  {
   "cell_type": "markdown",
   "metadata": {},
   "source": [
    "# User interface"
   ]
  },
  {
   "cell_type": "code",
   "execution_count": 4,
   "metadata": {},
   "outputs": [],
   "source": [
    "from nilearn.plotting import plot_anat, show\n",
    "import ipywidgets as widgets\n",
    "import utils\n",
    "import os\n",
    "from importlib import reload\n",
    "from nilearn import plotting\n",
    "from nilearn import image as nli\n",
    "reload(utils)\n",
    "import nibabel as nib\n",
    "import numpy as np\n",
    "from ipywidgets import HBox, VBox\n",
    "import numpy as np\n",
    "from nilearn.plotting import plot_anat, show\n",
    "import ipywidgets as widgets\n",
    "import matplotlib.pyplot as plt\n",
    "from matplotlib.colors import ListedColormap\n",
    "import ipywidgets as widgets\n",
    "from IPython.display import display, Markdown"
   ]
  },
  {
   "cell_type": "code",
   "execution_count": 26,
   "metadata": {},
   "outputs": [
    {
     "data": {
      "application/vnd.jupyter.widget-view+json": {
       "model_id": "4ace7ea68749412db2d53beb985a5442",
       "version_major": 2,
       "version_minor": 0
      },
      "text/plain": [
       "Tab(children=(HBox(children=(VBox(children=(VBox(children=(Text(value='', description='User:'), Text(value='',…"
      ]
     },
     "metadata": {},
     "output_type": "display_data"
    },
    {
     "name": "stdout",
     "output_type": "stream",
     "text": [
      "User: test\n",
      "Dataset: \n",
      "Session: \n",
      "Task: \n",
      "Participants: \n",
      "Runs: \n",
      "Specie: \n"
     ]
    }
   ],
   "source": [
    "# Define the dictionary and the display functions\n",
    "project_dict = {\n",
    "    \"User\": \"\",\n",
    "    \"Dataset\": \"\",\n",
    "    \"Session\": \"\",\n",
    "    \"Task\": \"\",\n",
    "    \"Participants\": \"\",\n",
    "    \"Runs\": \"\",\n",
    "    \"Specie\": \"\",\n",
    "}\n",
    "\n",
    "def display_markdown():\n",
    "    markdown_text = f\"\"\"\n",
    "    ### Experiment Data\n",
    "    **User:** {project_dict['User']}  \\n\n",
    "    **Dataset:** {project_dict['Dataset']}  \\n\n",
    "    **Session:** {project_dict['Session']}  \\n\n",
    "    **Task:** {project_dict['Task']}  \\n\n",
    "    **Participants:** {project_dict['Participants']}  \\n\n",
    "    **Runs:** {project_dict['Runs']}  \\n\n",
    "    **Specie:** {project_dict['Specie']}  \n",
    "    \"\"\"\n",
    "    #display(Markdown(markdown_text))\n",
    "\n",
    "def create_input_widgets():\n",
    "    input_widgets = {\n",
    "        \"User\": widgets.Text(value='', description='User:'),\n",
    "        \"Dataset\": widgets.Text(value='', description='Dataset:'),\n",
    "        \"Session\": widgets.Text(value='', description='Session (optional):'),\n",
    "        \"Task\": widgets.Text(value='', description='Task:'),\n",
    "        \"Participants\": widgets.Text(value='', description='Participant numbers:'),\n",
    "        \"Runs\": widgets.Text(value='', description='Runs available (1,2,3,...)'),\n",
    "        \"Specie\": widgets.Text(value='', description='Specie (D or H):'),\n",
    "    }\n",
    "    return input_widgets\n",
    "\n",
    "input_widgets = create_input_widgets()\n",
    "update_button = widgets.Button(description=\"Update\")\n",
    "cancel_button = widgets.Button(description=\"Cancel\")\n",
    "\n",
    "\n",
    "def update_data(b):\n",
    "    global project_dict\n",
    "    #clear_output(wait=True)\n",
    "    project_dict = {key: widget.value for key, widget in input_widgets.items()}\n",
    "    display_markdown()\n",
    "\n",
    "    # print project_dict\n",
    "    for key, value in project_dict.items():\n",
    "        print(f\"{key}: {value}\")\n",
    "\n",
    "\n",
    "def cancel_update(b):\n",
    "    #clear_output(wait=True)\n",
    "    for key, widget in input_widgets.items():\n",
    "        widget.value = project_dict[key]\n",
    "    \n",
    "    clear_output(wait=True)\n",
    "    for key, value in project_dict.items():\n",
    "        print(f\"{key}: {value}\")\n",
    "\n",
    "update_button.on_click(update_data)\n",
    "cancel_button.on_click(cancel_update)\n",
    "\n",
    "# Create a tab widget\n",
    "tab = widgets.Tab()\n",
    "\n",
    "\n",
    "row_1 = widgets.VBox([widgets.VBox(list(input_widgets.values())), update_button, cancel_button])\n",
    "#row_2 = widgets.VBox([widgets.VBox(list(input_widgets.values())), )\n",
    "row_2 = widgets.Output(layout={'border': '1px solid black'})                     \n",
    "\n",
    "\n",
    "col_1 = widgets.HBox([row_1,row_2])\n",
    "\n",
    "# Organize contents into tabs\n",
    "tab_contents = ['Data Entry', 'Tab 2', 'Tab 3']\n",
    "children = [col_1, \n",
    "            widgets.Text(description=\"Tab 2 Content\"), \n",
    "            widgets.Text(description=\"Tab 3 Content\")]\n",
    "tab.children = children\n",
    "\n",
    "for i, name in enumerate(tab_contents):\n",
    "    tab.set_title(i, name)\n",
    "\n",
    "# Display the tab widget\n",
    "display(tab)\n"
   ]
  },
  {
   "cell_type": "code",
   "execution_count": 6,
   "metadata": {},
   "outputs": [
    {
     "data": {
      "application/vnd.jupyter.widget-view+json": {
       "model_id": "1aac1c10c9e340aca3c1c43d7b1cd16b",
       "version_major": 2,
       "version_minor": 0
      },
      "text/plain": [
       "Tab(children=(Text(value='', description='Tab 1'), Text(value='', description='Tab 2'), Text(value='', descrip…"
      ]
     },
     "metadata": {},
     "output_type": "display_data"
    }
   ],
   "source": [
    "# Create a tab widget\n",
    "tab = widgets.Tab()\n",
    "\n",
    "# Create contents for each tab\n",
    "children = [widgets.Text(description=f\"Tab {i+1}\") for i in range(3)]\n",
    "\n",
    "# Set the children for the tab widget\n",
    "tab.children = children\n",
    "\n",
    "# Name your tabs\n",
    "for i in range(len(children)):\n",
    "    tab.set_title(i, f'Tab {i+1}')\n",
    "\n",
    "# Display the tab widget\n",
    "display(tab)\n"
   ]
  }
 ],
 "metadata": {
  "kernelspec": {
   "display_name": "base",
   "language": "python",
   "name": "python3"
  },
  "language_info": {
   "codemirror_mode": {
    "name": "ipython",
    "version": 3
   },
   "file_extension": ".py",
   "mimetype": "text/x-python",
   "name": "python",
   "nbconvert_exporter": "python",
   "pygments_lexer": "ipython3",
   "version": "3.11.5"
  }
 },
 "nbformat": 4,
 "nbformat_minor": 2
}
