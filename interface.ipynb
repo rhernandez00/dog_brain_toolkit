{
 "cells": [
  {
   "cell_type": "markdown",
   "metadata": {},
   "source": [
    "# User interface"
   ]
  },
  {
   "cell_type": "code",
   "execution_count": 1,
   "metadata": {},
   "outputs": [],
   "source": [
    "from nilearn.plotting import plot_anat, show\n",
    "import ipywidgets as widgets\n",
    "import utils\n",
    "import os\n",
    "from importlib import reload\n",
    "from nilearn import plotting\n",
    "from nilearn import image as nli\n",
    "reload(utils)\n",
    "import nibabel as nib\n",
    "import numpy as np\n",
    "from ipywidgets import HBox, VBox\n",
    "import numpy as np\n",
    "from nilearn.plotting import plot_anat, show\n",
    "import ipywidgets as widgets\n",
    "import matplotlib.pyplot as plt\n",
    "from matplotlib.colors import ListedColormap\n",
    "import ipywidgets as widgets\n",
    "from IPython.display import display, Markdown"
   ]
  },
  {
   "cell_type": "markdown",
   "metadata": {},
   "source": [
    "## Functions"
   ]
  },
  {
   "cell_type": "markdown",
   "metadata": {},
   "source": [
    "### Misc functions"
   ]
  },
  {
   "cell_type": "code",
   "execution_count": 2,
   "metadata": {},
   "outputs": [],
   "source": [
    "\n",
    "\n",
    "def display_markdown():\n",
    "    # This function displays the markdown text, project_dict is \n",
    "    # a dictionary containing the project information\n",
    "    markdown_text = f\"\"\"\n",
    "    ### Experiment Data\n",
    "    **User:** {project_dict['User']}  \\n\n",
    "    **Dataset:** {project_dict['Dataset']}  \\n\n",
    "    **Session:** {project_dict['Session']}  \\n\n",
    "    **Task:** {project_dict['Task']}  \\n\n",
    "    **Participants:** {project_dict['Participants']}  \\n\n",
    "    **Runs:** {project_dict['Runs']}  \\n\n",
    "    **Specie:** {project_dict['Specie']}  \n",
    "    \"\"\"\n",
    "\n",
    "def create_input_widgets():\n",
    "    input_widgets = {\n",
    "        \"User\": widgets.Text(value='', description='User:'),\n",
    "        \"Dataset\": widgets.Text(value='', description='Dataset:'),\n",
    "        \"Session\": widgets.Text(value='', description='Session (optional):'),\n",
    "        \"Task\": widgets.Text(value='', description='Task:'),\n",
    "        \"Participants\": widgets.Text(value='', description='Participant numbers:'),\n",
    "        \"Runs\": widgets.Text(value='', description='Runs available (1,2,3,...)'),\n",
    "        \"Specie\": widgets.Text(value='', description='Specie (D or H):'),\n",
    "    }\n",
    "    return input_widgets\n",
    "\n",
    "def update_data(b):\n",
    "    global project_dict\n",
    "    #clear_output(wait=True)\n",
    "    project_dict = {key: widget.value for key, widget in input_widgets.items()}\n",
    "    # update the project_dict in the screen\n",
    "    update_project_dict()\n",
    "\n",
    "def update_project_dict():\n",
    "    row_2.clear_output()\n",
    "    for key, value in project_dict.items():\n",
    "        #print(f\"{key}: {value}\")\n",
    "        with row_2:\n",
    "            print(f\"{key}: {value}\")\n",
    "\n",
    "\n",
    "def cancel_update(b):\n",
    "    #clear_output(wait=True)\n",
    "    for key, widget in input_widgets.items():\n",
    "        widget.value = project_dict[key]\n",
    "    \n",
    "    # update the project_dict in the screen\n",
    "    update_project_dict()\n",
    "\n"
   ]
  },
  {
   "cell_type": "markdown",
   "metadata": {},
   "source": [
    "### Preprocessing functions"
   ]
  },
  {
   "cell_type": "code",
   "execution_count": null,
   "metadata": {},
   "outputs": [],
   "source": [
    "\n"
   ]
  },
  {
   "cell_type": "code",
   "execution_count": 3,
   "metadata": {},
   "outputs": [
    {
     "data": {
      "application/vnd.jupyter.widget-view+json": {
       "model_id": "7e52a8ce9a6445579f437d0478b0d7c7",
       "version_major": 2,
       "version_minor": 0
      },
      "text/plain": [
       "Tab(children=(HBox(children=(VBox(children=(VBox(children=(Text(value='', description='User:'), Text(value='',…"
      ]
     },
     "metadata": {},
     "output_type": "display_data"
    }
   ],
   "source": [
    "# Define the dictionary and the display functions\n",
    "project_dict = {\n",
    "    \"User\": \"\",\n",
    "    \"Dataset\": \"\",\n",
    "    \"Session\": \"\",\n",
    "    \"Task\": \"\",\n",
    "    \"Participants\": \"\",\n",
    "    \"Runs\": \"\",\n",
    "    \"Specie\": \"\",\n",
    "}\n",
    "\n",
    "# Create the input widgets\n",
    "input_widgets = create_input_widgets()\n",
    "update_button = widgets.Button(description=\"Update\")\n",
    "cancel_button = widgets.Button(description=\"Cancel\")\n",
    "\n",
    "# Assign an event to the button\n",
    "update_button.on_click(update_data)\n",
    "cancel_button.on_click(cancel_update)\n",
    "\n",
    "# Create a tab widget\n",
    "tab = widgets.Tab()\n",
    "\n",
    "# Create the rows to store the widgets\n",
    "row_1 = widgets.VBox([widgets.VBox(list(input_widgets.values())), update_button, cancel_button])\n",
    "row_2 = widgets.Output(layout={'border': '1px solid black'})                     \n",
    "\n",
    "# Create the columns to store\n",
    "col_1 = widgets.HBox([row_1,row_2])\n",
    "\n",
    "# Organize contents into tabs\n",
    "tab_contents = ['Data Entry', 'Tab 2', 'Tab 3']\n",
    "tab_list = [col_1, \n",
    "            widgets.Text(description=\"Tab 2 Content\"), \n",
    "            widgets.Text(description=\"Tab 3 Content\")]\n",
    "tab.children = tab_list\n",
    "\n",
    "for i, name in enumerate(tab_contents):\n",
    "    tab.set_title(i, name)\n",
    "\n",
    "# Display the tab widget\n",
    "display(tab)\n",
    "\n",
    "\n"
   ]
  },
  {
   "cell_type": "markdown",
   "metadata": {},
   "source": [
    "## Scheduler"
   ]
  },
  {
   "cell_type": "code",
   "execution_count": null,
   "metadata": {},
   "outputs": [],
   "source": [
    "# Define the class named Process\n",
    "\n",
    "class Process:\n",
    "    def __init__(self, name, by_run, process_used):\n",
    "        self.name = name\n",
    "        self.by_run = by_run\n",
    "        self.process_used = process_used\n",
    "\n",
    "process_list = [\n",
    "    Process('Preprocess', True, 'preprocess_run'),\n",
    "    Process('Mean fct', False, 'get_mean_fct'),\n",
    "    Process('Crop', False, ''),\n",
    "    Process('BET', False, ''),\n",
    "    Process('Mean to atlas', False, 'mean_to_STD'),\n",
    "    Process('Runs to atlas', True, 'run_to_STD'),\n",
    "    Process('Motion', False, ''),\n",
    "\n",
    "]\n",
    "\n",
    "\n",
    "process_name = ['Preprocess','Mean fct', 'Crop', 'BET', '_STD', 'Normalization', 'Motion'\n",
    "    ]\n"
   ]
  },
  {
   "cell_type": "code",
   "execution_count": null,
   "metadata": {},
   "outputs": [],
   "source": [
    "preprocess = {\n",
    "    'name': 'Preprocess',\n",
    "    'by_run': False,\n",
    "    'function': 'preprocess_run'\n",
    "    }\n",
    "\n",
    "\n"
   ]
  },
  {
   "cell_type": "code",
   "execution_count": 4,
   "metadata": {},
   "outputs": [
    {
     "data": {
      "application/vnd.jupyter.widget-view+json": {
       "model_id": "b5452496f9044ad9a749be1744a6dd1b",
       "version_major": 2,
       "version_minor": 0
      },
      "text/plain": [
       "GridBox(children=(Button(description='Button 1,1', style=ButtonStyle()), Button(description='Button 1,2', styl…"
      ]
     },
     "metadata": {},
     "output_type": "display_data"
    },
    {
     "name": "stdout",
     "output_type": "stream",
     "text": [
      "Button at Row 1, Column 1 was pressed\n",
      "Button at Row 1, Column 2 was pressed\n",
      "Button at Row 1, Column 3 was pressed\n",
      "Button at Row 1, Column 4 was pressed\n",
      "Button at Row 2, Column 1 was pressed\n",
      "Button at Row 2, Column 2 was pressed\n",
      "Button at Row 2, Column 3 was pressed\n",
      "Button at Row 2, Column 4 was pressed\n",
      "Button at Row 3, Column 1 was pressed\n",
      "Button at Row 3, Column 2 was pressed\n",
      "Button at Row 3, Column 3 was pressed\n",
      "Button at Row 3, Column 4 was pressed\n",
      "Button at Row 2, Column 4 was pressed\n",
      "Button at Row 1, Column 4 was pressed\n"
     ]
    }
   ],
   "source": [
    "import ipywidgets as widgets\n",
    "from IPython.display import display\n",
    "\n",
    "def create_button_matrix(rows, columns):\n",
    "    # This function creates a button and assigns an on_click event\n",
    "    def create_button(row, col):\n",
    "        button = widgets.Button(description=f\"Button {row+1},{col+1}\")\n",
    "        button.on_click(lambda b: print(f\"Button at Row {row+1}, Column {col+1} was pressed\"))\n",
    "        return button\n",
    "\n",
    "    # Create a grid of buttons\n",
    "    grid = widgets.GridBox(children=[\n",
    "        create_button(row, col) for row in range(rows) for col in range(columns)\n",
    "    ], layout=widgets.Layout(grid_template_columns=\"repeat(4, 100px)\"))\n",
    "    \n",
    "    display(grid)\n",
    "\n",
    "# Create a 3x4 matrix of buttons\n",
    "create_button_matrix(3, 4)\n"
   ]
  },
  {
   "cell_type": "code",
   "execution_count": 6,
   "metadata": {},
   "outputs": [
    {
     "data": {
      "application/vnd.jupyter.widget-view+json": {
       "model_id": "1aac1c10c9e340aca3c1c43d7b1cd16b",
       "version_major": 2,
       "version_minor": 0
      },
      "text/plain": [
       "Tab(children=(Text(value='', description='Tab 1'), Text(value='', description='Tab 2'), Text(value='', descrip…"
      ]
     },
     "metadata": {},
     "output_type": "display_data"
    }
   ],
   "source": [
    "# Create a tab widget\n",
    "tab = widgets.Tab()\n",
    "\n",
    "# Create contents for each tab\n",
    "children = [widgets.Text(description=f\"Tab {i+1}\") for i in range(3)]\n",
    "\n",
    "# Set the children for the tab widget\n",
    "tab.children = children\n",
    "\n",
    "# Name your tabs\n",
    "for i in range(len(children)):\n",
    "    tab.set_title(i, f'Tab {i+1}')\n",
    "\n",
    "# Display the tab widget\n",
    "display(tab)\n"
   ]
  }
 ],
 "metadata": {
  "kernelspec": {
   "display_name": "base",
   "language": "python",
   "name": "python3"
  },
  "language_info": {
   "codemirror_mode": {
    "name": "ipython",
    "version": 3
   },
   "file_extension": ".py",
   "mimetype": "text/x-python",
   "name": "python",
   "nbconvert_exporter": "python",
   "pygments_lexer": "ipython3",
   "version": "3.11.5"
  }
 },
 "nbformat": 4,
 "nbformat_minor": 2
}
