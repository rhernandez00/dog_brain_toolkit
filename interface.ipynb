{
 "cells": [
  {
   "cell_type": "markdown",
   "metadata": {},
   "source": [
    "# User interface"
   ]
  },
  {
   "cell_type": "code",
   "execution_count": 30,
   "metadata": {},
   "outputs": [],
   "source": [
    "from nilearn.plotting import plot_anat, show\n",
    "import ipywidgets as widgets\n",
    "import utils\n",
    "import os\n",
    "from importlib import reload\n",
    "from nilearn import plotting\n",
    "from nilearn import image as nli\n",
    "reload(utils)\n",
    "import nibabel as nib\n",
    "import numpy as np\n",
    "from ipywidgets import HBox, VBox\n",
    "import numpy as np\n",
    "from nilearn.plotting import plot_anat, show\n",
    "import ipywidgets as widgets\n",
    "import matplotlib.pyplot as plt\n",
    "from matplotlib.colors import ListedColormap\n",
    "import ipywidgets as widgets\n",
    "from IPython.display import display, Markdown, clear_output\n"
   ]
  },
  {
   "cell_type": "markdown",
   "metadata": {},
   "source": [
    "## Functions"
   ]
  },
  {
   "cell_type": "markdown",
   "metadata": {},
   "source": [
    "### Misc functions"
   ]
  },
  {
   "cell_type": "code",
   "execution_count": 54,
   "metadata": {},
   "outputs": [],
   "source": [
    "\n",
    "\n",
    "def display_markdown():\n",
    "    # This function displays the markdown text, project_dict is \n",
    "    # a dictionary containing the project information\n",
    "    markdown_text = f\"\"\"\n",
    "    ### Experiment Data\n",
    "    **User:** {project_dict['User']}  \\n\n",
    "    **Dataset:** {project_dict['Dataset']}  \\n\n",
    "    **Session:** {project_dict['Session']}  \\n\n",
    "    **Task:** {project_dict['Task']}  \\n\n",
    "    **Participants:** {project_dict['Participants']}  \\n\n",
    "    **Runs:** {project_dict['Runs']}  \\n\n",
    "    **Specie:** {project_dict['Specie']}  \n",
    "    \"\"\"\n",
    "\n",
    "def create_input_widgets():\n",
    "    input_widgets = {\n",
    "        \"User\": widgets.Text(value='raulh87', description='User:'),\n",
    "        \"Dataset\": widgets.Text(value='Complex', description='Dataset:'),\n",
    "        \"Session\": widgets.Text(value='', description='Session (optional):'),\n",
    "        \"Task\": widgets.Text(value='visual', description='Task:'),\n",
    "        \"Participants\": widgets.Text(value='1,2,3,4,5', description='Participant numbers:'),\n",
    "        \"Runs\": widgets.Text(value='1,2,3', description='Runs available (1,2,3,...)'),\n",
    "        \"Specie\": widgets.Text(value='D', description='Specie (D or H):'),\n",
    "    }\n",
    "    return input_widgets\n",
    "\n",
    "def update_data(b):\n",
    "    global project_dict\n",
    "    #clear_output(wait=True)\n",
    "    for key, widget in input_widgets.items():\n",
    "        if key == 'Participants' or key == 'Runs':\n",
    "            project_dict[key] = [int(i) for i in widget.value.split(',')]\n",
    "        else:\n",
    "            project_dict[key] = widget.value\n",
    "\n",
    "    # update the project_dict in the screen\n",
    "    update_project_dict()\n",
    "\n",
    "def update_project_dict():\n",
    "    row_2.clear_output()\n",
    "    for key, value in project_dict.items():\n",
    "        #print(f\"{key}: {value}\")\n",
    "        with row_2:\n",
    "            print(f\"{key}: {value}\")\n",
    "\n",
    "\n",
    "def cancel_update(b):\n",
    "    #clear_output(wait=True)\n",
    "    for key, widget in input_widgets.items():\n",
    "        widget.value = project_dict[key]\n",
    "    \n",
    "    # update the project_dict in the screen\n",
    "    update_project_dict()\n",
    "\n",
    "# # Define the class named Process\n",
    "# class Process:\n",
    "#     def __init__(self, name, by_run, process_used):\n",
    "#         self.name = name\n",
    "#         self.by_run = by_run\n",
    "#         self.process_used = process_used\n",
    "\n",
    "\n",
    "# process_list is a list of Process objects\n",
    "# process_list = [\n",
    "#     Process('Preprocess', True, 'preprocess_run'),\n",
    "#     Process('Mean fct', False, 'get_mean_fct'),\n",
    "#     Process('Crop', False, 'crop_interface'),\n",
    "#     Process('BET', False, 'bet_interface'),\n",
    "#     Process('Mean to atlas', False, 'mean_to_STD'),\n",
    "#     Process('Runs to atlas', True, 'run_to_STD'),\n",
    "#     Process('Motion', False, 'process_motion'),\n",
    "# ]\n",
    "\n",
    "# process_list as dictionary process_dict\n",
    "process_dict = {\n",
    "    'preprocess_run': {'name': 'Preprocess', 'by_run': True, 'process_used': 'preprocess_run'},\n",
    "    'get_mean_fct': {'name': 'Mean fct', 'by_run': False, 'process_used': 'get_mean_fct'},\n",
    "    'crop_interface': {'name': 'Crop', 'by_run': False, 'process_used': 'crop_interface'},\n",
    "    'bet_interface': {'name': 'BET', 'by_run': False, 'process_used': 'bet_interface'},\n",
    "    'mean_to_STD': {'name': 'Mean to atlas', 'by_run': False, 'process_used': 'mean_to_STD'},\n",
    "    'run_to_STD': {'name': 'Runs to atlas', 'by_run': True, 'process_used': 'run_to_STD'},\n",
    "    'process_motion': {'name': 'Motion', 'by_run': False, 'process_used': 'process_motion'},\n",
    "}\n",
    "\n",
    "process_name_list = [process[1]['name'] for process in process_dict.items()]"
   ]
  },
  {
   "cell_type": "markdown",
   "metadata": {},
   "source": [
    "### Preprocessing functions"
   ]
  },
  {
   "cell_type": "code",
   "execution_count": 86,
   "metadata": {},
   "outputs": [
    {
     "data": {
      "application/vnd.jupyter.widget-view+json": {
       "model_id": "9cecf465facb47f3ba7333347ed65d7b",
       "version_major": 2,
       "version_minor": 0
      },
      "text/plain": [
       "Tab(children=(VBox(children=(Dropdown(description='Participants:', options=('D-sub-001', 'D-sub-002', 'D-sub-0…"
      ]
     },
     "metadata": {},
     "output_type": "display_data"
    }
   ],
   "source": [
    "# Define the dictionary and the display functions\n",
    "project_dict = {\n",
    "    \"User\": \"\",\n",
    "    \"Dataset\": \"\",\n",
    "    \"Session\": \"\",\n",
    "    \"Task\": \"\",\n",
    "    \"Participants\": \"\",\n",
    "    \"Runs\": \"\",\n",
    "    \"Specie\": \"\",\n",
    "}\n",
    "project_dict = {\n",
    "    \"User\": \"raulh87\",\n",
    "    \"Dataset\": \"Complex\",\n",
    "    \"Session\": \"\",\n",
    "    \"Task\": \"visual\",\n",
    "    \"Participants\": [1,2,3,4,5],\n",
    "    \"Runs\": [1,2,3],\n",
    "    \"Specie\": \"D\",\n",
    "}\n",
    "# Create a list to store the jobs\n",
    "job_list = []\n",
    "\n",
    "# Create the input widgets\n",
    "input_widgets = create_input_widgets()\n",
    "update_button = widgets.Button(description=\"Update\")\n",
    "cancel_button = widgets.Button(description=\"Cancel\")\n",
    "\n",
    "# Assign an event to the button\n",
    "update_button.on_click(update_data)\n",
    "cancel_button.on_click(cancel_update)\n",
    "\n",
    "# Create a tab widget\n",
    "tab = widgets.Tab()\n",
    "\n",
    "# Create the rows to store the widgets\n",
    "row_1 = widgets.VBox([widgets.VBox(list(input_widgets.values())), update_button, cancel_button])\n",
    "row_2 = widgets.Output(layout={'border': '1px solid black'})                     \n",
    "\n",
    "# Create the columns to store in tab 1\n",
    "data_entry_tab = widgets.HBox([row_1,row_2])\n",
    "\n",
    "#participant_list = [f\"{project_dict['Specie']}-sub-{i:03d}\" for i in project_dict['Participants']]\n",
    "\n",
    "# Create the sub_selector dropdown for participants\n",
    "sub_selector = widgets.Dropdown(\n",
    "    options=[f\"{project_dict['Specie']}-sub-{i:03d}\" for i in project_dict['Participants']],\n",
    "    value=f\"{project_dict['Specie']}-sub-{project_dict['Participants'][0]:03d}\",\n",
    "    description='Participants:',\n",
    "    disabled=False,\n",
    ")\n",
    "\n",
    "# Create the process_selector ToggleButtons for process based on process_list\n",
    "process_selector = widgets.ToggleButtons(\n",
    "    options=[process[1]['name'] for process in process_dict.items()],\n",
    "    description='Process:',\n",
    "    disabled=False,\n",
    "    button_style='', # 'success', 'info', 'warning', 'danger' or ''\n",
    "    # icons=['check'] * 3\n",
    ")\n",
    "\n",
    "# Create checkbox to select the runs to process\n",
    "run_selector = widgets.HBox(\n",
    "    [widgets.Checkbox(value=True, description=f\"Run {i}\") for i in project_dict['Runs']]\n",
    ")\n",
    "\n",
    "\n",
    "# Button to schedule the process, make the button black with white text\n",
    "run_button = widgets.Button(\n",
    "    description='Add job',\n",
    "    disabled=False,\n",
    "    button_style='success', # 'success', 'info', 'warning', 'danger' or ''\n",
    "    tooltip='Add selected process to the job list   ',\n",
    "    icon='book',\n",
    ")\n",
    "\n",
    "run_jobs_button = widgets.Button(\n",
    "    description='Run jobs',\n",
    "    disabled=False,\n",
    "    button_style='info', # 'success', 'info', 'warning', 'danger' or ''\n",
    "    tooltip='Run the selected jobs',\n",
    "    icon='mail-forward'\n",
    ")\n",
    "\n",
    "# Create job_dict to store the process information\n",
    "job_dict = {\n",
    "    \"User\": project_dict['User'],\n",
    "    \"Dataset\": project_dict['Dataset'],\n",
    "    \"Session\": project_dict['Session'],\n",
    "    \"Task\": project_dict['Task'],\n",
    "    \"sub_N\":  int(sub_selector.value.split('-')[-1]),\n",
    "    \"run_N\": [i+1 for i, run in enumerate(run_selector.children) if run.value],\n",
    "    \"Specie\": project_dict['Specie'],\n",
    "    \"Process\": process_selector.value,\n",
    "    \"Status\": \"Scheduled\",\n",
    "}\n",
    "\n",
    "def update_sub(b):\n",
    "    global job_dict\n",
    "    job_dict['sub_N'] = int(sub_selector.value.split('-')[-1])\n",
    "\n",
    "def process_selector_button_pressed(b):\n",
    "    global job_dict\n",
    "    # get the key of the process selected matching process_selector.value with process_name_list\n",
    "    # process_key = [key for key, value in process_dict.items() if value['name'] == job_dict['Process']][0]\n",
    "    process_key = [key for key, value in process_dict.items() if value['name'] == process_selector.value][0]\n",
    "\n",
    "    job_dict['Process'] = process_selector.value\n",
    "    #print(job_dict['Process'])\n",
    "    # check if the process is by run\n",
    "    if process_dict[process_key]['by_run']:\n",
    "        run_selector.children = [widgets.Checkbox(value=True, description=f\"Run {i}\") for i in project_dict['Runs']]\n",
    "    else:\n",
    "        run_selector.children = [widgets.Checkbox(value=True, description=f\"Run {i}\", disabled=True) for i in project_dict['Runs']]\n",
    "    # update run_selector\n",
    "    #print(process_key)\n",
    "    \n",
    "\n",
    "\n",
    "def update_runs(b):\n",
    "    global job_dict\n",
    "    job_dict['run_N'] = [i+1 for i, run in enumerate(run_selector.children) if run.value]\n",
    "    #print(job_dict['run_N'])\n",
    "\n",
    "# Create function for run_button\n",
    "def add_job_button_pressed(b):\n",
    "    global job_dict, job_list\n",
    "    # clear the output\n",
    "    #clear_output(wait=True)\n",
    "    #Output.clear_output()\n",
    "        # print the job_dict\n",
    "\n",
    "    # add the job_dict to the job_list\n",
    "    job_list.append(job_dict.copy())\n",
    "    print('job added number of jobs: ' + str(len(job_list)))\n",
    "    # for key, value in job_dict.items():\n",
    "    #     # print the key and value and add a line break\n",
    "    #     print(f\"{key}: {value}\")\n",
    "\n",
    "def run_jobs(b):\n",
    "    global job_list\n",
    "    for job in job_list:\n",
    "        print(job)\n",
    "        #utils.run_process(job)\n",
    "        \n",
    "    \n",
    "# add function to sub_selector\n",
    "sub_selector.observe(update_sub, names='value')\n",
    "\n",
    "# add function to process_selector\n",
    "process_selector.observe(process_selector_button_pressed, names='value')\n",
    "\n",
    "# add function to run_selector\n",
    "for run in run_selector.children:\n",
    "    run.observe(update_runs, names='value')\n",
    "\n",
    "# attach function to run_button\n",
    "run_button.on_click(add_job_button_pressed)\n",
    "\n",
    "# attach function to run_jobs_button\n",
    "run_jobs_button.on_click(run_jobs)\n",
    "\n",
    "# Create Scheduler tab\n",
    "scheduler_tab = widgets.VBox([sub_selector,process_selector,run_selector,run_button,run_jobs_button])\n",
    "\n",
    "# Organize contents into tabs\n",
    "tab_contents = ['Data Entry', 'Scheduler', 'Tab 3']\n",
    "tab_list = [scheduler_tab,\n",
    "            data_entry_tab,\n",
    "            widgets.Text(description=\"Tab 3 Content\")]\n",
    "tab.children = tab_list\n",
    "\n",
    "for i, name in enumerate(tab_contents):\n",
    "    tab.set_title(i, name)\n",
    "\n",
    "\n",
    "\n",
    "# Display the tab widget\n",
    "display(tab)\n",
    "\n",
    "\n"
   ]
  },
  {
   "cell_type": "code",
   "execution_count": 72,
   "metadata": {},
   "outputs": [
    {
     "name": "stdout",
     "output_type": "stream",
     "text": [
      "key: preprocess_run: value: {'name': 'Preprocess', 'by_run': True, 'process_used': 'preprocess_run'}\n",
      "key: get_mean_fct: value: {'name': 'Mean fct', 'by_run': False, 'process_used': 'get_mean_fct'}\n",
      "key: crop_interface: value: {'name': 'Crop', 'by_run': False, 'process_used': 'crop_interface'}\n",
      "key: bet_interface: value: {'name': 'BET', 'by_run': False, 'process_used': 'bet_interface'}\n",
      "key: mean_to_STD: value: {'name': 'Mean to atlas', 'by_run': False, 'process_used': 'mean_to_STD'}\n",
      "key: run_to_STD: value: {'name': 'Runs to atlas', 'by_run': True, 'process_used': 'run_to_STD'}\n",
      "key: process_motion: value: {'name': 'Motion', 'by_run': False, 'process_used': 'process_motion'}\n"
     ]
    }
   ],
   "source": [
    "for key, value in process_dict.items():\n",
    "    print(f\"key: {key}: value: {value}\")"
   ]
  },
  {
   "cell_type": "code",
   "execution_count": null,
   "metadata": {},
   "outputs": [],
   "source": [
    "process_key = [key for key, value in process_dict.items() if value['name'] == job_dict['Process']][0]\n"
   ]
  },
  {
   "cell_type": "code",
   "execution_count": 77,
   "metadata": {},
   "outputs": [
    {
     "data": {
      "text/plain": [
       "'mean_to_STD'"
      ]
     },
     "execution_count": 77,
     "metadata": {},
     "output_type": "execute_result"
    }
   ],
   "source": [
    "for key, value in process_dict.items():\n",
    "    if value['name'] == job_dict['Process']:\n",
    "        process_key = key\n",
    "process_key"
   ]
  },
  {
   "cell_type": "code",
   "execution_count": 79,
   "metadata": {},
   "outputs": [
    {
     "name": "stdout",
     "output_type": "stream",
     "text": [
      "Preprocess\n",
      "Mean fct\n",
      "Crop\n",
      "BET\n",
      "Mean to atlas\n",
      "Runs to atlas\n",
      "Motion\n"
     ]
    }
   ],
   "source": [
    "for key, value in process_dict.items():\n",
    "    if value['name'] == process_selector.value:\n",
    "        process_key = key\n",
    "\n",
    "process_key = [key for key, value in process_dict.items() if value['name'] == process_selector.value][0]\n"
   ]
  },
  {
   "cell_type": "code",
   "execution_count": null,
   "metadata": {},
   "outputs": [],
   "source": [
    "process_dict"
   ]
  },
  {
   "cell_type": "code",
   "execution_count": 71,
   "metadata": {},
   "outputs": [
    {
     "data": {
      "text/plain": [
       "[]"
      ]
     },
     "execution_count": 71,
     "metadata": {},
     "output_type": "execute_result"
    }
   ],
   "source": [
    "[key for key, value in process_dict.items() if value['name'] == job_dict['Process']]"
   ]
  },
  {
   "cell_type": "code",
   "execution_count": 70,
   "metadata": {},
   "outputs": [
    {
     "data": {
      "text/plain": [
       "'get_mean_fct'"
      ]
     },
     "execution_count": 70,
     "metadata": {},
     "output_type": "execute_result"
    }
   ],
   "source": [
    "process_key"
   ]
  },
  {
   "cell_type": "code",
   "execution_count": null,
   "metadata": {},
   "outputs": [],
   "source": [
    "process_key = [key for key, value in process_dict.items() if value['name'] == job_dict['Process']][0]"
   ]
  },
  {
   "cell_type": "code",
   "execution_count": 65,
   "metadata": {},
   "outputs": [
    {
     "data": {
      "text/plain": [
       "{'User': 'raulh87',\n",
       " 'Dataset': 'Complex',\n",
       " 'Session': '',\n",
       " 'Task': 'visual',\n",
       " 'sub_N': 1,\n",
       " 'run_N': [1, 2, 3],\n",
       " 'Specie': 'D',\n",
       " 'Process': 'preprocess_run',\n",
       " 'Status': 'Scheduled'}"
      ]
     },
     "execution_count": 65,
     "metadata": {},
     "output_type": "execute_result"
    }
   ],
   "source": [
    "job_dict"
   ]
  },
  {
   "cell_type": "code",
   "execution_count": 67,
   "metadata": {},
   "outputs": [
    {
     "data": {
      "text/plain": [
       "dict_items([('preprocess_run', {'name': 'Preprocess', 'by_run': True, 'process_used': 'preprocess_run'}), ('get_mean_fct', {'name': 'Mean fct', 'by_run': False, 'process_used': 'get_mean_fct'}), ('crop_interface', {'name': 'Crop', 'by_run': False, 'process_used': 'crop_interface'}), ('bet_interface', {'name': 'BET', 'by_run': False, 'process_used': 'bet_interface'}), ('mean_to_STD', {'name': 'Mean to atlas', 'by_run': False, 'process_used': 'mean_to_STD'}), ('run_to_STD', {'name': 'Runs to atlas', 'by_run': True, 'process_used': 'run_to_STD'}), ('process_motion', {'name': 'Motion', 'by_run': False, 'process_used': 'process_motion'})])"
      ]
     },
     "execution_count": 67,
     "metadata": {},
     "output_type": "execute_result"
    }
   ],
   "source": [
    "process_dict.items()"
   ]
  },
  {
   "cell_type": "code",
   "execution_count": 66,
   "metadata": {},
   "outputs": [
    {
     "ename": "IndexError",
     "evalue": "list index out of range",
     "output_type": "error",
     "traceback": [
      "\u001b[1;31m---------------------------------------------------------------------------\u001b[0m",
      "\u001b[1;31mIndexError\u001b[0m                                Traceback (most recent call last)",
      "Cell \u001b[1;32mIn[66], line 1\u001b[0m\n\u001b[1;32m----> 1\u001b[0m process_key \u001b[38;5;241m=\u001b[39m [key \u001b[38;5;28;01mfor\u001b[39;00m key, value \u001b[38;5;129;01min\u001b[39;00m process_dict\u001b[38;5;241m.\u001b[39mitems() \u001b[38;5;28;01mif\u001b[39;00m value[\u001b[38;5;124m'\u001b[39m\u001b[38;5;124mname\u001b[39m\u001b[38;5;124m'\u001b[39m] \u001b[38;5;241m==\u001b[39m job_dict[\u001b[38;5;124m'\u001b[39m\u001b[38;5;124mProcess\u001b[39m\u001b[38;5;124m'\u001b[39m]][\u001b[38;5;241m0\u001b[39m]\n\u001b[0;32m      2\u001b[0m process_key\n",
      "\u001b[1;31mIndexError\u001b[0m: list index out of range"
     ]
    }
   ],
   "source": [
    "process_key = [key for key, value in process_dict.items() if value['name'] == job_dict['Process']][0]\n",
    "process_key"
   ]
  },
  {
   "cell_type": "code",
   "execution_count": 60,
   "metadata": {},
   "outputs": [
    {
     "data": {
      "text/plain": [
       "'get_mean_fct'"
      ]
     },
     "execution_count": 60,
     "metadata": {},
     "output_type": "execute_result"
    }
   ],
   "source": [
    "process_name_list = [process[1]['name'] for process in process_dict.items()]\n",
    "# Check which process matches between process_name_list and job_dict['Process']\n",
    "\n",
    "\n",
    "process_key"
   ]
  },
  {
   "cell_type": "code",
   "execution_count": 62,
   "metadata": {},
   "outputs": [
    {
     "data": {
      "text/plain": [
       "False"
      ]
     },
     "execution_count": 62,
     "metadata": {},
     "output_type": "execute_result"
    }
   ],
   "source": [
    "process_dict[process_key]['by_run']"
   ]
  },
  {
   "cell_type": "code",
   "execution_count": 61,
   "metadata": {},
   "outputs": [
    {
     "data": {
      "text/plain": [
       "{'preprocess_run': {'name': 'Preprocess',\n",
       "  'by_run': True,\n",
       "  'process_used': 'preprocess_run'},\n",
       " 'get_mean_fct': {'name': 'Mean fct',\n",
       "  'by_run': False,\n",
       "  'process_used': 'get_mean_fct'},\n",
       " 'crop_interface': {'name': 'Crop',\n",
       "  'by_run': False,\n",
       "  'process_used': 'crop_interface'},\n",
       " 'bet_interface': {'name': 'BET',\n",
       "  'by_run': False,\n",
       "  'process_used': 'bet_interface'},\n",
       " 'mean_to_STD': {'name': 'Mean to atlas',\n",
       "  'by_run': False,\n",
       "  'process_used': 'mean_to_STD'},\n",
       " 'run_to_STD': {'name': 'Runs to atlas',\n",
       "  'by_run': True,\n",
       "  'process_used': 'run_to_STD'},\n",
       " 'process_motion': {'name': 'Motion',\n",
       "  'by_run': False,\n",
       "  'process_used': 'process_motion'}}"
      ]
     },
     "execution_count": 61,
     "metadata": {},
     "output_type": "execute_result"
    }
   ],
   "source": [
    "process_dict"
   ]
  },
  {
   "cell_type": "code",
   "execution_count": 58,
   "metadata": {},
   "outputs": [
    {
     "data": {
      "text/plain": [
       "'Mean fct'"
      ]
     },
     "execution_count": 58,
     "metadata": {},
     "output_type": "execute_result"
    }
   ],
   "source": []
  },
  {
   "cell_type": "code",
   "execution_count": 6,
   "metadata": {},
   "outputs": [
    {
     "data": {
      "text/plain": [
       "['Run 1', 'Run 2', 'Run 3']"
      ]
     },
     "execution_count": 6,
     "metadata": {},
     "output_type": "execute_result"
    }
   ],
   "source": [
    "options=[f\"Run {i}\" for i in project_dict['Runs']]\n",
    "options"
   ]
  },
  {
   "cell_type": "code",
   "execution_count": 53,
   "metadata": {},
   "outputs": [
    {
     "data": {
      "text/plain": [
       "{'preprocess_run': {'name': 'Preprocess',\n",
       "  'by_run': True,\n",
       "  'process_used': 'preprocess_run'},\n",
       " 'get_mean_fct': {'name': 'Mean fct',\n",
       "  'by_run': False,\n",
       "  'process_used': 'get_mean_fct'},\n",
       " 'crop_interface': {'name': 'Crop',\n",
       "  'by_run': False,\n",
       "  'process_used': 'crop_interface'},\n",
       " 'bet_interface': {'name': 'BET',\n",
       "  'by_run': False,\n",
       "  'process_used': 'bet_interface'},\n",
       " 'mean_to_STD': {'name': 'Mean to atlas',\n",
       "  'by_run': False,\n",
       "  'process_used': 'mean_to_STD'},\n",
       " 'run_to_STD': {'name': 'Runs to atlas',\n",
       "  'by_run': True,\n",
       "  'process_used': 'run_to_STD'},\n",
       " 'process_motion': {'name': 'Motion',\n",
       "  'by_run': False,\n",
       "  'process_used': 'process_motion'}}"
      ]
     },
     "execution_count": 53,
     "metadata": {},
     "output_type": "execute_result"
    }
   ],
   "source": [
    "process_dict"
   ]
  },
  {
   "cell_type": "code",
   "execution_count": null,
   "metadata": {},
   "outputs": [],
   "source": [
    "# Create the process_menu ToggleButtons for process based on process_list\n",
    "process_menu = widgets.ToggleButtons(\n",
    "    options=[process_dict for process in process_list],\n",
    "    description='Process:',\n",
    "    disabled=False,\n",
    "    button_style='', # 'success', 'info', 'warning', 'danger' or ''\n",
    "    # icons=['check'] * 3\n",
    ")\n",
    "\n"
   ]
  },
  {
   "cell_type": "code",
   "execution_count": 47,
   "metadata": {},
   "outputs": [
    {
     "name": "stdout",
     "output_type": "stream",
     "text": [
      "Preprocess\n",
      "Mean fct\n",
      "Crop\n",
      "BET\n",
      "Mean to atlas\n",
      "Runs to atlas\n",
      "Motion\n",
      "['Preprocess', 'Mean fct', 'Crop', 'BET', 'Mean to atlas', 'Runs to atlas', 'Motion']\n"
     ]
    }
   ],
   "source": [
    "for process in process_dict.items():\n",
    "    print(process[1]['name'])\n",
    "\n",
    "options = [process[1]['name'] for process in process_dict.items()]\n",
    "print(options)"
   ]
  },
  {
   "cell_type": "code",
   "execution_count": 45,
   "metadata": {},
   "outputs": [
    {
     "data": {
      "text/plain": [
       "'Preprocess'"
      ]
     },
     "execution_count": 45,
     "metadata": {},
     "output_type": "execute_result"
    }
   ],
   "source": [
    "process[1]['name']"
   ]
  },
  {
   "cell_type": "code",
   "execution_count": 6,
   "metadata": {},
   "outputs": [
    {
     "ename": "SyntaxError",
     "evalue": "invalid syntax (4281251277.py, line 1)",
     "output_type": "error",
     "traceback": [
      "\u001b[1;36m  Cell \u001b[1;32mIn[6], line 1\u001b[1;36m\u001b[0m\n\u001b[1;33m    f\"{project_dict['Specie']}-sub-{i:03d}\" for i in project_dict['Participants']\u001b[0m\n\u001b[1;37m                                            ^\u001b[0m\n\u001b[1;31mSyntaxError\u001b[0m\u001b[1;31m:\u001b[0m invalid syntax\n"
     ]
    }
   ],
   "source": [
    "f\"{project_dict['Specie']}-sub-{i:03d}\" for i in project_dict['Participants']"
   ]
  },
  {
   "cell_type": "code",
   "execution_count": 25,
   "metadata": {},
   "outputs": [
    {
     "name": "stdout",
     "output_type": "stream",
     "text": [
      "['D-sub-001', 'D-sub-002', 'D-sub-003', 'D-sub-004', 'D-sub-005']\n"
     ]
    }
   ],
   "source": [
    "project_dict['Participants']\n",
    "\n",
    "# Create a list of participants padded with three zeros\n",
    "participant_list = [f\"{project_dict['Specie']}-sub-{i:03d}\" for i in project_dict['Participants']]\n",
    "print(participant_list)"
   ]
  },
  {
   "cell_type": "code",
   "execution_count": 11,
   "metadata": {},
   "outputs": [
    {
     "data": {
      "text/plain": [
       "[1, 2, 3, 4, 5]"
      ]
     },
     "execution_count": 11,
     "metadata": {},
     "output_type": "execute_result"
    }
   ],
   "source": [
    "# Transform project_dict['Participants'] into a list of integers:\n",
    "participants_list = project_dict['Participants'].split(',')\n",
    "participants_list = [int(i) for i in participants_list]\n",
    "participants_list\n",
    "\n"
   ]
  },
  {
   "cell_type": "markdown",
   "metadata": {},
   "source": [
    "## Scheduler"
   ]
  },
  {
   "cell_type": "code",
   "execution_count": 5,
   "metadata": {},
   "outputs": [
    {
     "data": {
      "text/plain": [
       "'Preprocess'"
      ]
     },
     "execution_count": 5,
     "metadata": {},
     "output_type": "execute_result"
    }
   ],
   "source": [
    "# Define the class named Process\n",
    "class Process:\n",
    "    def __init__(self, name, by_run, process_used):\n",
    "        self.name = name\n",
    "        self.by_run = by_run\n",
    "        self.process_used = process_used\n",
    "\n",
    "process_list = [\n",
    "    Process('Preprocess', True, 'preprocess_run'),\n",
    "    Process('Mean fct', False, 'get_mean_fct'),\n",
    "    Process('Crop', False, 'crop_interface'),\n",
    "    Process('BET', False, 'bet_interface'),\n",
    "    Process('Mean to atlas', False, 'mean_to_STD'),\n",
    "    Process('Runs to atlas', True, 'run_to_STD'),\n",
    "    Process('Motion', False, 'process_motion'),\n",
    "]\n",
    "\n",
    "runs_available = [1,2,3,4]\n",
    "subs_possible = [1,2,3,4]\n",
    "\n",
    "process_list[0].name\n"
   ]
  },
  {
   "cell_type": "code",
   "execution_count": null,
   "metadata": {},
   "outputs": [],
   "source": [
    "# Define a new class Job\n",
    "class Job:\n",
    "    def __init__(self, process, participant, run):\n",
    "        self.process = process\n",
    "        self.participant = participant\n",
    "        self.run = run\n",
    "        self.status = 'Pending'\n",
    "        "
   ]
  },
  {
   "cell_type": "code",
   "execution_count": 12,
   "metadata": {},
   "outputs": [
    {
     "data": {
      "application/vnd.jupyter.widget-view+json": {
       "model_id": "b78aeff5f8984d25bffef98ad0c5930f",
       "version_major": 2,
       "version_minor": 0
      },
      "text/plain": [
       "GridBox(children=(Label(value=''), Label(value='Preprocess'), Label(value='Mean fct'), Label(value='Crop'), La…"
      ]
     },
     "metadata": {},
     "output_type": "display_data"
    }
   ],
   "source": [
    "import ipywidgets as widgets\n",
    "from IPython.display import display, HTML\n",
    "\n",
    "# Define the class named Process\n",
    "class Process:\n",
    "    def __init__(self, name, by_run, process_used):\n",
    "        self.name = name\n",
    "        self.by_run = by_run\n",
    "        self.process_used = process_used\n",
    "\n",
    "# Create a list of processes\n",
    "process_list = [\n",
    "    Process('Preprocess', True, 'preprocess_run'),\n",
    "    Process('Mean fct', False, 'get_mean_fct'),\n",
    "    Process('Crop', False, 'crop_interface'),\n",
    "    Process('BET', False, 'bet_interface'),\n",
    "    Process('Mean to atlas', False, 'mean_to_STD'),\n",
    "    Process('Runs to atlas', True, 'run_to_STD'),\n",
    "    Process('Motion', False, 'process_motion'),\n",
    "]\n",
    "\n",
    "subs_possible = [1, 2, 3, 4]\n",
    "runs_available = [1, 2, 3, 4]\n",
    "\n"
   ]
  },
  {
   "cell_type": "code",
   "execution_count": null,
   "metadata": {},
   "outputs": [],
   "source": [
    "preprocess = {\n",
    "    'name': 'Preprocess',\n",
    "    'by_run': False,\n",
    "    'function': 'preprocess_run'\n",
    "    }\n",
    "\n",
    "\n"
   ]
  },
  {
   "cell_type": "code",
   "execution_count": 4,
   "metadata": {},
   "outputs": [
    {
     "data": {
      "application/vnd.jupyter.widget-view+json": {
       "model_id": "b5452496f9044ad9a749be1744a6dd1b",
       "version_major": 2,
       "version_minor": 0
      },
      "text/plain": [
       "GridBox(children=(Button(description='Button 1,1', style=ButtonStyle()), Button(description='Button 1,2', styl…"
      ]
     },
     "metadata": {},
     "output_type": "display_data"
    },
    {
     "name": "stdout",
     "output_type": "stream",
     "text": [
      "Button at Row 1, Column 1 was pressed\n",
      "Button at Row 1, Column 2 was pressed\n",
      "Button at Row 1, Column 3 was pressed\n",
      "Button at Row 1, Column 4 was pressed\n",
      "Button at Row 2, Column 1 was pressed\n",
      "Button at Row 2, Column 2 was pressed\n",
      "Button at Row 2, Column 3 was pressed\n",
      "Button at Row 2, Column 4 was pressed\n",
      "Button at Row 3, Column 1 was pressed\n",
      "Button at Row 3, Column 2 was pressed\n",
      "Button at Row 3, Column 3 was pressed\n",
      "Button at Row 3, Column 4 was pressed\n",
      "Button at Row 2, Column 4 was pressed\n",
      "Button at Row 1, Column 4 was pressed\n"
     ]
    }
   ],
   "source": [
    "import ipywidgets as widgets\n",
    "from IPython.display import display\n",
    "\n",
    "def create_button_matrix(rows, columns):\n",
    "    # This function creates a button and assigns an on_click event\n",
    "    def create_button(row, col):\n",
    "        button = widgets.Button(description=f\"Button {row+1},{col+1}\")\n",
    "        button.on_click(lambda b: print(f\"Button at Row {row+1}, Column {col+1} was pressed\"))\n",
    "        return button\n",
    "\n",
    "    # Create a grid of buttons\n",
    "    grid = widgets.GridBox(children=[\n",
    "        create_button(row, col) for row in range(rows) for col in range(columns)\n",
    "    ], layout=widgets.Layout(grid_template_columns=\"repeat(4, 100px)\"))\n",
    "    \n",
    "    display(grid)\n",
    "\n",
    "# Create a 3x4 matrix of buttons\n",
    "create_button_matrix(3, 4)\n"
   ]
  },
  {
   "cell_type": "code",
   "execution_count": 6,
   "metadata": {},
   "outputs": [
    {
     "data": {
      "application/vnd.jupyter.widget-view+json": {
       "model_id": "1aac1c10c9e340aca3c1c43d7b1cd16b",
       "version_major": 2,
       "version_minor": 0
      },
      "text/plain": [
       "Tab(children=(Text(value='', description='Tab 1'), Text(value='', description='Tab 2'), Text(value='', descrip…"
      ]
     },
     "metadata": {},
     "output_type": "display_data"
    }
   ],
   "source": [
    "# Create a tab widget\n",
    "tab = widgets.Tab()\n",
    "\n",
    "# Create contents for each tab\n",
    "children = [widgets.Text(description=f\"Tab {i+1}\") for i in range(3)]\n",
    "\n",
    "# Set the children for the tab widget\n",
    "tab.children = children\n",
    "\n",
    "# Name your tabs\n",
    "for i in range(len(children)):\n",
    "    tab.set_title(i, f'Tab {i+1}')\n",
    "\n",
    "# Display the tab widget\n",
    "display(tab)\n"
   ]
  }
 ],
 "metadata": {
  "kernelspec": {
   "display_name": "base",
   "language": "python",
   "name": "python3"
  },
  "language_info": {
   "codemirror_mode": {
    "name": "ipython",
    "version": 3
   },
   "file_extension": ".py",
   "mimetype": "text/x-python",
   "name": "python",
   "nbconvert_exporter": "python",
   "pygments_lexer": "ipython3",
   "version": "3.11.5"
  }
 },
 "nbformat": 4,
 "nbformat_minor": 2
}
