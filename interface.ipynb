{
 "cells": [
  {
   "cell_type": "markdown",
   "metadata": {},
   "source": [
    "# User interface"
   ]
  },
  {
   "cell_type": "code",
   "execution_count": 5,
   "metadata": {},
   "outputs": [],
   "source": [
    "from nilearn.plotting import plot_anat, show\n",
    "import ipywidgets as widgets\n",
    "import utils\n",
    "import preprocess_functions\n",
    "import os\n",
    "from importlib import reload\n",
    "from nilearn import plotting\n",
    "from nilearn import image as nli\n",
    "reload(utils)\n",
    "reload(preprocess_functions)\n",
    "import nibabel as nib\n",
    "import numpy as np\n",
    "from ipywidgets import HBox, VBox\n",
    "import numpy as np\n",
    "from nilearn.plotting import plot_anat, show\n",
    "import ipywidgets as widgets\n",
    "import matplotlib.pyplot as plt\n",
    "from matplotlib.colors import ListedColormap\n",
    "import ipywidgets as widgets\n",
    "from IPython.display import display, Markdown, clear_output\n",
    "import pandas as pd\n"
   ]
  },
  {
   "cell_type": "markdown",
   "metadata": {},
   "source": [
    "## Functions"
   ]
  },
  {
   "cell_type": "markdown",
   "metadata": {},
   "source": [
    "### Misc functions"
   ]
  },
  {
   "cell_type": "code",
   "execution_count": 6,
   "metadata": {},
   "outputs": [],
   "source": [
    "def display_markdown():\n",
    "    # This function displays the markdown text, project_dict is \n",
    "    # a dictionary containing the project information\n",
    "    markdown_text = f\"\"\"\n",
    "    ### Experiment Data\n",
    "    **User:** {project_dict['User']}  \\n\n",
    "    **Dataset:** {project_dict['Dataset']}  \\n\n",
    "    **Session:** {project_dict['Session']}  \\n\n",
    "    **Task:** {project_dict['Task']}  \\n\n",
    "    **Participants:** {project_dict['Participants']}  \\n\n",
    "    **Runs:** {project_dict['Runs']}  \\n\n",
    "    **Specie:** {project_dict['Specie']}  \n",
    "    \"\"\"\n",
    "\n",
    "def create_input_widgets():\n",
    "    input_widgets = {\n",
    "        \"User\": widgets.Text(value='raulh87', description='User:'),\n",
    "        \"Dataset\": widgets.Text(value='Complex', description='Dataset:'),\n",
    "        \"Session\": widgets.Text(value='', description='Session (optional):'),\n",
    "        \"Task\": widgets.Text(value='visual', description='Task:'),\n",
    "        \"Participants\": widgets.Text(value='1,2,3,4,5', description='Participant numbers:'),\n",
    "        \"Runs\": widgets.Text(value='1,2,3', description='Runs available (1,2,3,...)'),\n",
    "        \"Specie\": widgets.Text(value='D', description='Specie (D or H):'),\n",
    "    }\n",
    "    return input_widgets\n",
    "\n",
    "def update_data(b):\n",
    "    global project_dict\n",
    "    #clear_output(wait=True)\n",
    "    for key, widget in input_widgets.items():\n",
    "        if key == 'Participants' or key == 'Runs':\n",
    "            project_dict[key] = [int(i) for i in widget.value.split(',')]\n",
    "        else:\n",
    "            project_dict[key] = widget.value\n",
    "\n",
    "    # update the project_dict in the screen\n",
    "    update_project_dict()\n",
    "\n",
    "def update_project_dict():\n",
    "    row_2.clear_output()\n",
    "    for key, value in project_dict.items():\n",
    "        #print(f\"{key}: {value}\")\n",
    "        with row_2:\n",
    "            print(f\"{key}: {value}\")\n",
    "\n",
    "\n",
    "def cancel_update(b):\n",
    "    #clear_output(wait=True)\n",
    "    for key, widget in input_widgets.items():\n",
    "        widget.value = project_dict[key]\n",
    "    \n",
    "    # update the project_dict in the screen\n",
    "    update_project_dict()\n",
    "\n",
    "\n",
    "# process_list as dictionary process_dict\n",
    "process_dict = {\n",
    "    'preprocess_run': {'name': 'Preprocess', 'by_run': True, 'process_used': 'preprocess_run'},\n",
    "    'get_mean_fct': {'name': 'Mean fct', 'by_run': False, 'process_used': 'get_mean_fct'},\n",
    "    #'crop_interface': {'name': 'Crop', 'by_run': False, 'process_used': 'crop_interface'},\n",
    "    #'bet_interface': {'name': 'BET', 'by_run': False, 'process_used': 'bet_interface'},\n",
    "    'mean_to_STD': {'name': 'Mean to atlas', 'by_run': False, 'process_used': 'mean_to_STD'},\n",
    "    'run_to_STD': {'name': 'Runs to atlas', 'by_run': True, 'process_used': 'run_to_STD'},\n",
    "    'process_motion': {'name': 'Motion', 'by_run': False, 'process_used': 'process_motion'},\n",
    "}\n",
    "\n",
    "process_name_list = [process[1]['name'] for process in process_dict.items()]"
   ]
  },
  {
   "cell_type": "markdown",
   "metadata": {},
   "source": [
    "### Running the app"
   ]
  },
  {
   "cell_type": "code",
   "execution_count": 11,
   "metadata": {},
   "outputs": [
    {
     "data": {
      "application/vnd.jupyter.widget-view+json": {
       "model_id": "443f27beaa6f4771ae8c79d7c946f7d4",
       "version_major": 2,
       "version_minor": 0
      },
      "text/plain": [
       "Tab(children=(HBox(children=(VBox(children=(VBox(children=(Text(value='raulh87', description='User:'), Text(va…"
      ]
     },
     "metadata": {},
     "output_type": "display_data"
    },
    {
     "data": {
      "application/vnd.jupyter.widget-view+json": {
       "model_id": "f3ba13e41c794bd7b05af614e439b502",
       "version_major": 2,
       "version_minor": 0
      },
      "text/plain": [
       "Output()"
      ]
     },
     "metadata": {},
     "output_type": "display_data"
    },
    {
     "data": {
      "application/vnd.jupyter.widget-view+json": {
       "model_id": "1e97520c8882439baf225d8b4ca9750c",
       "version_major": 2,
       "version_minor": 0
      },
      "text/plain": [
       "Output()"
      ]
     },
     "metadata": {},
     "output_type": "display_data"
    },
    {
     "name": "stdout",
     "output_type": "stream",
     "text": [
      "hit 1\n"
     ]
    }
   ],
   "source": [
    "# Define the dictionary and the display functions\n",
    "reload(utils)\n",
    "reload(preprocess_functions)\n",
    "\n",
    "project_dict = {\n",
    "    \"User\": \"\",\n",
    "    \"Dataset\": \"\",\n",
    "    \"Session\": \"\",\n",
    "    \"Task\": \"\",\n",
    "    \"Participants\": \"\",\n",
    "    \"Runs\": \"\",\n",
    "    \"Specie\": \"\",\n",
    "}\n",
    "project_dict = {\n",
    "    \"User\": \"raulh87\",\n",
    "    \"Dataset\": \"Complex\",\n",
    "    \"Session\": \"\",\n",
    "    \"Task\": \"visual\",\n",
    "    \"Participants\": [1,2,3,4,5],\n",
    "    \"Runs\": [1,2,3],\n",
    "    \"Specie\": \"D\",\n",
    "}\n",
    "if project_dict['User']:\n",
    "    username = project_dict['User']\n",
    "    if os.name == 'nt':\n",
    "        datafolder = r\"P:\\userdata\" + os.sep + username + r\"\\data\"\n",
    "    else:\n",
    "        datafolder = '/home' + os.sep + username + '/mnt/a471/userdata/' + username + '/data'\n",
    "else:\n",
    "    datafolder = ''\n",
    "# assign to project dict\n",
    "project_dict['Datafolder'] = datafolder\n",
    "# Create a list to store the jobs\n",
    "job_list = [] \n",
    "\n",
    "# Create the input widgets\n",
    "input_widgets = create_input_widgets()\n",
    "update_button = widgets.Button(description=\"Update\")\n",
    "cancel_button = widgets.Button(description=\"Cancel\")\n",
    "\n",
    "# Assign an event to the button\n",
    "update_button.on_click(update_data)\n",
    "cancel_button.on_click(cancel_update)\n",
    "\n",
    "# Create a tab widget\n",
    "tab = widgets.Tab()\n",
    "\n",
    "# Create the rows to store the widgets\n",
    "row_1 = widgets.VBox([widgets.VBox(list(input_widgets.values())), update_button, cancel_button])\n",
    "row_2 = widgets.Output(layout={'border': '1px solid black'})                     \n",
    "\n",
    "# Create the columns to store in tab 1\n",
    "data_entry_tab = widgets.HBox([row_1,row_2])\n",
    "\n",
    "#participant_list = [f\"{project_dict['Specie']}-sub-{i:03d}\" for i in project_dict['Participants']]\n",
    "\n",
    "# Create the sub_selector dropdown for participants\n",
    "sub_selector = widgets.Dropdown(\n",
    "    options=[f\"{project_dict['Specie']}-sub-{i:03d}\" for i in project_dict['Participants']],\n",
    "    value=f\"{project_dict['Specie']}-sub-{project_dict['Participants'][0]:03d}\",\n",
    "    description='Participants:',\n",
    "    disabled=False,\n",
    ")\n",
    "\n",
    "# Create the process_selector ToggleButtons for process based on process_list\n",
    "process_selector = widgets.ToggleButtons(\n",
    "    options=[process[1]['name'] for process in process_dict.items()],\n",
    "    description='Process:',\n",
    "    disabled=False,\n",
    "    button_style='', # 'success', 'info', 'warning', 'danger' or ''\n",
    "    # icons=['check'] * 3\n",
    ")\n",
    "\n",
    "# Create checkbox to select the runs to process\n",
    "run_selector = widgets.HBox(\n",
    "    [widgets.Checkbox(value=True, description=f\"Run {i}\") for i in project_dict['Runs']]\n",
    ")\n",
    "\n",
    "\n",
    "# Button to schedule the process, make the button black with white text\n",
    "run_button = widgets.Button(\n",
    "    description='Add job',\n",
    "    disabled=False,\n",
    "    button_style='success', # 'success', 'info', 'warning', 'danger' or ''\n",
    "    tooltip='Add selected process to the job list   ',\n",
    "    icon='book',\n",
    ")\n",
    "\n",
    "run_jobs_button = widgets.Button(\n",
    "    description='Run jobs',\n",
    "    disabled=False,\n",
    "    button_style='info', # 'success', 'info', 'warning', 'danger' or ''\n",
    "    tooltip='Run the selected jobs',\n",
    "    icon='mail-forward'\n",
    ")\n",
    "\n",
    "# Create job_dict to store the process information\n",
    "job_dict = {\n",
    "    \"User\": project_dict['User'],\n",
    "    \"Dataset\": project_dict['Dataset'],\n",
    "    \"Session\": project_dict['Session'],\n",
    "    \"Task\": project_dict['Task'],\n",
    "    \"sub_N\":  int(sub_selector.value.split('-')[-1]),\n",
    "    \"run_N\": [i+1 for i, run in enumerate(run_selector.children) if run.value],\n",
    "    \"Specie\": project_dict['Specie'],\n",
    "    \"Process\": process_selector.value,\n",
    "    \"Datafolder\": project_dict['Datafolder'],\n",
    "    \"Status\": \"Scheduled\",\n",
    "    \"Atlas_type\": 'Czeibert',\n",
    "    \"Combination\": ['-x','z','-y'],\n",
    "    \"Smooth\": 0,\n",
    "}\n",
    "\n",
    "# create empty schedule_table\n",
    "schedule_table = pd.DataFrame()\n",
    "html_table = schedule_table.to_html(classes='table table-striped')\n",
    "table_widget = widgets.HTML(value=html_table)\n",
    "\n",
    "def update_sub(b):\n",
    "    global job_dict\n",
    "    job_dict['sub_N'] = int(sub_selector.value.split('-')[-1])\n",
    "\n",
    "def process_selector_button_pressed(b):\n",
    "    global job_dict\n",
    "    # get the key of the process selected matching process_selector.value with process_name_list\n",
    "    # process_key = [key for key, value in process_dict.items() if value['name'] == job_dict['Process']][0]\n",
    "    process_key = [key for key, value in process_dict.items() if value['name'] == process_selector.value][0]\n",
    "\n",
    "    job_dict['Process'] = process_selector.value\n",
    "    #print(job_dict['Process'])\n",
    "    # check if the process is by run\n",
    "    if process_dict[process_key]['by_run']:\n",
    "        run_selector.children = [widgets.Checkbox(value=True, description=f\"Run {i}\") for i in project_dict['Runs']]\n",
    "    else:\n",
    "        run_selector.children = [widgets.Checkbox(value=True, description=f\"Run {i}\", disabled=True) for i in project_dict['Runs']]\n",
    "    # update job_dict\n",
    "    job_dict['run_N'] = [i+1 for i, run in enumerate(run_selector.children) if run.value]\n",
    "    #print(job_dict)\n",
    "\n",
    "def update_runs(b):\n",
    "    global job_dict\n",
    "    job_dict['run_N'] = [i+1 for i, run in enumerate(run_selector.children) if run.value]\n",
    "    #print(job_dict['run_N'])\n",
    "\n",
    "# Create function for run_button\n",
    "def add_job_button_pressed(b):\n",
    "    global job_dict, job_list, schedule_table\n",
    "    # clear the output\n",
    "    #clear_output(wait=True)\n",
    "    #Output.clear_output()\n",
    "        # print the job_dict\n",
    "\n",
    "    # add the job_dict to the job_list\n",
    "    job_list.append(job_dict.copy())\n",
    "    #print('job added number of jobs: ' + str(len(job_list)))\n",
    "    # update the schedule_table\n",
    "    schedule_table = utils.job_list_to_table(job_list)\n",
    "    html_table = schedule_table.to_html(classes='table table-striped')\n",
    "    # update the table_widget\n",
    "    table_widget.value = html_table\n",
    "\n",
    "def crop_app_pushed():\n",
    "    tab_crop_app,crop_app_out = preprocess_functions.crop_app(project_dict, job_dict['sub_N'])\n",
    "    with crop_app_out:\n",
    "        # Clear previous output\n",
    "        crop_app_out.clear_output()\n",
    "        #print('supposed to be cleaned')\n",
    "    display(crop_app_out)\n",
    "\n",
    "def bet_app_pushed():\n",
    "    bet_app_tab, bet_app_out = preprocess_functions.bet_app(project_dict, job_dict['sub_N'])\n",
    "    with bet_app_out:\n",
    "        # Clear previous output\n",
    "        bet_app_out.clear_output()\n",
    "    display(bet_app_out)\n",
    "\n",
    "def other_pushed():\n",
    "    with crop_app_out:\n",
    "        # Clear previous output\n",
    "        crop_app_out.clear_output()\n",
    "    \n",
    "\n",
    "def run_jobs(b):\n",
    "    global job_list, schedule_table\n",
    "    for n,job in enumerate(job_list):\n",
    "        #print(job)\n",
    "        # check status of the job\n",
    "        if job_list[n]['Status'] == 'Finished':\n",
    "            continue\n",
    "        else:\n",
    "            preprocess_functions.run_process(job)\n",
    "            # check if the job is finished\n",
    "            job_status = preprocess_functions.check_job_status(job)\n",
    "            job_list[n]['Status'] = job_status\n",
    "    # clear the job_list and schedule_table\n",
    "    #job_list = []\n",
    "    #schedule_table = pd.DataFrame()\n",
    "    \n",
    "# add function to sub_selector\n",
    "sub_selector.observe(update_sub, names='value')\n",
    "\n",
    "# add function to process_selector\n",
    "process_selector.observe(process_selector_button_pressed, names='value')\n",
    "\n",
    "# add function to run_selector\n",
    "for run in run_selector.children:\n",
    "    run.observe(update_runs, names='value')\n",
    "\n",
    "# attach function to run_button\n",
    "run_button.on_click(add_job_button_pressed)\n",
    "\n",
    "# attach function to run_jobs_button\n",
    "run_jobs_button.on_click(run_jobs)\n",
    "\n",
    "# Create Scheduler tab\n",
    "scheduler_tab = widgets.VBox([\n",
    "    sub_selector,\n",
    "    process_selector,\n",
    "    run_selector,\n",
    "    run_button,\n",
    "    run_jobs_button,\n",
    "    table_widget,\n",
    "    ])\n",
    "\n",
    "#tab_crop_app,crop_app_out = preprocess_functions.crop_app(project_dict, job_dict['sub_N'])\n",
    "tab_crop_app,crop_app_out = preprocess_functions.crop_app(project_dict,1)\n",
    "\n",
    "## HERE###########\n",
    "bet_app_tab, bet_app_out = preprocess_functions.bet_app(project_dict, job_dict['sub_N'])\n",
    " # Organize contents into tabs\n",
    "tab_contents = ['Data Entry', 'Scheduler', 'Crop app', 'BET app']\n",
    "tab_contents = ['Data Entry', 'Scheduler']\n",
    "# tab_list = [data_entry_tab,\n",
    "#             scheduler_tab,\n",
    "#              tab_crop_app,\n",
    "#              bet_app_tab,\n",
    "#              ]\n",
    "\n",
    "\n",
    "tab_list = [data_entry_tab,\n",
    "            scheduler_tab,\n",
    "             ]\n",
    "## HERE###########\n",
    "\n",
    "# Organize contents into tabs\n",
    "#tab_contents = ['Data Entry', 'Scheduler', 'Crop app']\n",
    "#tab_list = [scheduler_tab,\n",
    "#            data_entry_tab, \n",
    "#            tab_crop_app,\n",
    "#            ]\n",
    "\n",
    "tab.children = tab_list\n",
    "\n",
    "for i, name in enumerate(tab_contents):\n",
    "    tab.set_title(i, name)\n",
    "\n",
    "# Function to handle tab change\n",
    "def on_tab_change(change):\n",
    "    if change['name'] == 'selected_index' and change['new'] == 2:\n",
    "        print('hit 2')\n",
    "        crop_app_pushed()\n",
    "    elif change['name'] == 'selected_index' and change['new'] == 3:\n",
    "        print('hit 3')\n",
    "        bet_app_pushed()\n",
    "    elif change['name'] == 'selected_index' and change['new'] == 0:\n",
    "        print('hit 1')\n",
    "        crop_app_out.clear_output()\n",
    "        other_pushed()\n",
    "        \n",
    "# Observe changes in the tab widget\n",
    "tab.observe(on_tab_change, names='selected_index')\n",
    "\n",
    "# Display the tab widget\n",
    "display(tab,crop_app_out,bet_app_out)\n",
    "\n",
    "crop_app_out.clear_output()\n",
    "bet_app_out.clear_output()\n"
   ]
  },
  {
   "cell_type": "markdown",
   "metadata": {},
   "source": [
    "# Crop app"
   ]
  },
  {
   "cell_type": "code",
   "execution_count": 12,
   "metadata": {},
   "outputs": [
    {
     "data": {
      "application/vnd.jupyter.widget-view+json": {
       "model_id": "13b27444a66e46d1ab01b7835f0e9998",
       "version_major": 2,
       "version_minor": 0
      },
      "text/plain": [
       "VBox(children=(HBox(children=(VBox(children=(IntSlider(value=40, description='X', max=80), IntSlider(value=20,…"
      ]
     },
     "metadata": {},
     "output_type": "display_data"
    },
    {
     "data": {
      "application/vnd.jupyter.widget-view+json": {
       "model_id": "0bbcfed216a24335b142eaac549e0b26",
       "version_major": 2,
       "version_minor": 0
      },
      "text/plain": [
       "Output()"
      ]
     },
     "metadata": {},
     "output_type": "display_data"
    }
   ],
   "source": [
    "sub_N = 2\n",
    "tab_crop_app,out = preprocess_functions.crop_app(project_dict, sub_N)\n",
    "display(tab_crop_app,out)"
   ]
  },
  {
   "cell_type": "markdown",
   "metadata": {},
   "source": [
    "# BET app"
   ]
  },
  {
   "cell_type": "code",
   "execution_count": 41,
   "metadata": {},
   "outputs": [
    {
     "data": {
      "application/vnd.jupyter.widget-view+json": {
       "model_id": "e25c5e054e654b34ade8f3eb24aff07e",
       "version_major": 2,
       "version_minor": 0
      },
      "text/plain": [
       "VBox(children=(HBox(children=(VBox(children=(IntSlider(value=14, description='X', max=27), IntSlider(value=18,…"
      ]
     },
     "metadata": {},
     "output_type": "display_data"
    },
    {
     "data": {
      "application/vnd.jupyter.widget-view+json": {
       "model_id": "10f7401ea8f04705af2be00d55b0ed04",
       "version_major": 2,
       "version_minor": 0
      },
      "text/plain": [
       "Output()"
      ]
     },
     "metadata": {},
     "output_type": "display_data"
    }
   ],
   "source": [
    "sub_N = 1\n",
    "tab_crop_app,out = preprocess_functions.bet_app(project_dict, sub_N)\n",
    "display(tab_crop_app,out)"
   ]
  },
  {
   "cell_type": "markdown",
   "metadata": {},
   "source": [
    "# Movement"
   ]
  },
  {
   "cell_type": "code",
   "execution_count": null,
   "metadata": {},
   "outputs": [],
   "source": [
    "\n",
    "user = 'raulh87'\n",
    "dataset = 'Complex'\n",
    "sub_N = 1\n",
    "run_N = 1\n",
    "specie = 'D'\n",
    "task = 'visual'\n",
    "session = ''\n",
    "thr_fwd = 0.1 # threshold for framewise displacement\n",
    "thr_dvars = 0.5 # threshold for DVARS\n",
    "radius = 55.0 # radius for fwd calculation, FSL uses 55.0 as default\n",
    "whichType = 'or' # 'fwd', 'dvars', 'or' or 'and'. See below.\n",
    "# Takes:\n",
    "# 'fwd': for generating using only volumes marked by fwd\n",
    "# 'dvars': for generating using only volumnes marked by dvars\n",
    "# 'or': will mark the volumes who excede the threshold in any of the two measurements\n",
    "# 'and': will mark the volumes who excede the threshold in both measurements\n",
    "project_folder = '/home' + os.sep + user + '/mnt/a471/userdata/' + user + '/data' + os.sep + dataset\n",
    "table_out = eng.run_quality_check(project_folder, sub_N, run_N, specie, task, session, thr_fwd, thr_dvars, radius, whichType);\n"
   ]
  },
  {
   "cell_type": "code",
   "execution_count": 13,
   "metadata": {},
   "outputs": [
    {
     "data": {
      "application/vnd.jupyter.widget-view+json": {
       "model_id": "13d7006f59ee4165b63e5737fe3511f4",
       "version_major": 2,
       "version_minor": 0
      },
      "text/plain": [
       "HBox(children=(VBox(children=(VBox(children=(Text(value='raulh87', description='User:'), Text(value='Complex',…"
      ]
     },
     "metadata": {},
     "output_type": "display_data"
    }
   ],
   "source": [
    "project_dict = {\n",
    "    \"User\": \"raulh87\",\n",
    "    \"Dataset\": \"Complex\",\n",
    "    \"Session\": \"\",\n",
    "    \"Task\": \"visual\",\n",
    "    \"Participants\": [1,2,3,4,5],\n",
    "    \"Runs\": [1,2,3],\n",
    "    \"Specie\": \"D\",\n",
    "}\n",
    "if project_dict['User']:\n",
    "    username = project_dict['User']\n",
    "    if os.name == 'nt':\n",
    "        datafolder = r\"P:\\userdata\" + os.sep + username + r\"\\data\"\n",
    "    else:\n",
    "        datafolder = '/home' + os.sep + username + '/mnt/a471/userdata/' + username + '/data'\n",
    "else:\n",
    "    datafolder = ''\n",
    "# assign to project dict\n",
    "project_dict['Datafolder'] = datafolder\n",
    "# Create a list to store the jobs\n",
    "job_list = [] \n",
    "\n",
    "# Create the input widgets\n",
    "input_widgets = create_input_widgets()\n",
    "update_button = widgets.Button(description=\"Update\")\n",
    "cancel_button = widgets.Button(description=\"Cancel\")\n",
    "\n",
    "# Assign an event to the button\n",
    "update_button.on_click(update_data)\n",
    "cancel_button.on_click(cancel_update)\n",
    "\n",
    "# Create a tab widget\n",
    "tab = widgets.Tab()\n",
    "\n",
    "# Create the rows to store the widgets\n",
    "row_1 = widgets.VBox([widgets.VBox(list(input_widgets.values())), update_button, cancel_button])\n",
    "row_2 = widgets.Output(layout={'border': '1px solid black'})                     \n",
    "\n",
    "# Create the columns to store in tab 1\n",
    "data_entry_tab = widgets.HBox([row_1,row_2])\n",
    "\n",
    "display(data_entry_tab)"
   ]
  }
 ],
 "metadata": {
  "kernelspec": {
   "display_name": "base",
   "language": "python",
   "name": "python3"
  },
  "language_info": {
   "codemirror_mode": {
    "name": "ipython",
    "version": 3
   },
   "file_extension": ".py",
   "mimetype": "text/x-python",
   "name": "python",
   "nbconvert_exporter": "python",
   "pygments_lexer": "ipython3",
   "version": "3.11.5"
  }
 },
 "nbformat": 4,
 "nbformat_minor": 2
}
