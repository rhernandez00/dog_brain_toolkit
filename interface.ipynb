{
 "cells": [
  {
   "cell_type": "markdown",
   "metadata": {},
   "source": [
    "# User interface"
   ]
  },
  {
   "cell_type": "code",
   "execution_count": 2,
   "metadata": {},
   "outputs": [],
   "source": [
    "from nilearn.plotting import plot_anat, show\n",
    "import ipywidgets as widgets\n",
    "import utils\n",
    "import preprocess_functions\n",
    "import os\n",
    "from importlib import reload\n",
    "from nilearn import plotting\n",
    "from nilearn import image as nli\n",
    "reload(utils)\n",
    "reload(preprocess_functions)\n",
    "import nibabel as nib\n",
    "import numpy as np\n",
    "from ipywidgets import HBox, VBox\n",
    "import numpy as np\n",
    "from nilearn.plotting import plot_anat, show\n",
    "import ipywidgets as widgets\n",
    "import matplotlib.pyplot as plt\n",
    "from matplotlib.colors import ListedColormap\n",
    "import ipywidgets as widgets\n",
    "from IPython.display import display, Markdown, clear_output\n",
    "import pandas as pd\n"
   ]
  },
  {
   "cell_type": "markdown",
   "metadata": {},
   "source": [
    "## Functions"
   ]
  },
  {
   "cell_type": "markdown",
   "metadata": {},
   "source": [
    "### Misc functions"
   ]
  },
  {
   "cell_type": "code",
   "execution_count": 3,
   "metadata": {},
   "outputs": [],
   "source": [
    "\n",
    "\n",
    "def display_markdown():\n",
    "    # This function displays the markdown text, project_dict is \n",
    "    # a dictionary containing the project information\n",
    "    markdown_text = f\"\"\"\n",
    "    ### Experiment Data\n",
    "    **User:** {project_dict['User']}  \\n\n",
    "    **Dataset:** {project_dict['Dataset']}  \\n\n",
    "    **Session:** {project_dict['Session']}  \\n\n",
    "    **Task:** {project_dict['Task']}  \\n\n",
    "    **Participants:** {project_dict['Participants']}  \\n\n",
    "    **Runs:** {project_dict['Runs']}  \\n\n",
    "    **Specie:** {project_dict['Specie']}  \n",
    "    \"\"\"\n",
    "\n",
    "def create_input_widgets():\n",
    "    input_widgets = {\n",
    "        \"User\": widgets.Text(value='raulh87', description='User:'),\n",
    "        \"Dataset\": widgets.Text(value='Complex', description='Dataset:'),\n",
    "        \"Session\": widgets.Text(value='', description='Session (optional):'),\n",
    "        \"Task\": widgets.Text(value='visual', description='Task:'),\n",
    "        \"Participants\": widgets.Text(value='1,2,3,4,5', description='Participant numbers:'),\n",
    "        \"Runs\": widgets.Text(value='1,2,3', description='Runs available (1,2,3,...)'),\n",
    "        \"Specie\": widgets.Text(value='D', description='Specie (D or H):'),\n",
    "    }\n",
    "    return input_widgets\n",
    "\n",
    "def update_data(b):\n",
    "    global project_dict\n",
    "    #clear_output(wait=True)\n",
    "    for key, widget in input_widgets.items():\n",
    "        if key == 'Participants' or key == 'Runs':\n",
    "            project_dict[key] = [int(i) for i in widget.value.split(',')]\n",
    "        else:\n",
    "            project_dict[key] = widget.value\n",
    "\n",
    "    # update the project_dict in the screen\n",
    "    update_project_dict()\n",
    "\n",
    "def update_project_dict():\n",
    "    row_2.clear_output()\n",
    "    for key, value in project_dict.items():\n",
    "        #print(f\"{key}: {value}\")\n",
    "        with row_2:\n",
    "            print(f\"{key}: {value}\")\n",
    "\n",
    "\n",
    "def cancel_update(b):\n",
    "    #clear_output(wait=True)\n",
    "    for key, widget in input_widgets.items():\n",
    "        widget.value = project_dict[key]\n",
    "    \n",
    "    # update the project_dict in the screen\n",
    "    update_project_dict()\n",
    "\n",
    "# # Define the class named Process\n",
    "# class Process:\n",
    "#     def __init__(self, name, by_run, process_used):\n",
    "#         self.name = name\n",
    "#         self.by_run = by_run\n",
    "#         self.process_used = process_used\n",
    "\n",
    "\n",
    "# process_list is a list of Process objects\n",
    "# process_list = [\n",
    "#     Process('Preprocess', True, 'preprocess_run'),\n",
    "#     Process('Mean fct', False, 'get_mean_fct'),\n",
    "#     Process('Crop', False, 'crop_interface'),\n",
    "#     Process('BET', False, 'bet_interface'),\n",
    "#     Process('Mean to atlas', False, 'mean_to_STD'),\n",
    "#     Process('Runs to atlas', True, 'run_to_STD'),\n",
    "#     Process('Motion', False, 'process_motion'),\n",
    "# ]\n",
    "\n",
    "# process_list as dictionary process_dict\n",
    "process_dict = {\n",
    "    'preprocess_run': {'name': 'Preprocess', 'by_run': True, 'process_used': 'preprocess_run'},\n",
    "    'get_mean_fct': {'name': 'Mean fct', 'by_run': False, 'process_used': 'get_mean_fct'},\n",
    "    'crop_interface': {'name': 'Crop', 'by_run': False, 'process_used': 'crop_interface'},\n",
    "    'bet_interface': {'name': 'BET', 'by_run': False, 'process_used': 'bet_interface'},\n",
    "    'mean_to_STD': {'name': 'Mean to atlas', 'by_run': False, 'process_used': 'mean_to_STD'},\n",
    "    'run_to_STD': {'name': 'Runs to atlas', 'by_run': True, 'process_used': 'run_to_STD'},\n",
    "    'process_motion': {'name': 'Motion', 'by_run': False, 'process_used': 'process_motion'},\n",
    "}\n",
    "\n",
    "process_name_list = [process[1]['name'] for process in process_dict.items()]"
   ]
  },
  {
   "cell_type": "markdown",
   "metadata": {},
   "source": [
    "### Preprocessing functions"
   ]
  },
  {
   "cell_type": "code",
   "execution_count": 10,
   "metadata": {},
   "outputs": [
    {
     "ename": "FileNotFoundError",
     "evalue": "No such file or no access: 'P:\\userdata\\raulh87\\data\\Complex\\preprocessing\\D-sub-001\\D-sub-001_task-visual_mean_fct.nii.gz'",
     "output_type": "error",
     "traceback": [
      "\u001b[1;31m---------------------------------------------------------------------------\u001b[0m",
      "\u001b[1;31mFileNotFoundError\u001b[0m                         Traceback (most recent call last)",
      "File \u001b[1;32mc:\\ProgramData\\anaconda3\\Lib\\site-packages\\nibabel\\loadsave.py:100\u001b[0m, in \u001b[0;36mload\u001b[1;34m(filename, **kwargs)\u001b[0m\n\u001b[0;32m     99\u001b[0m \u001b[38;5;28;01mtry\u001b[39;00m:\n\u001b[1;32m--> 100\u001b[0m     stat_result \u001b[38;5;241m=\u001b[39m os\u001b[38;5;241m.\u001b[39mstat(filename)\n\u001b[0;32m    101\u001b[0m \u001b[38;5;28;01mexcept\u001b[39;00m \u001b[38;5;167;01mOSError\u001b[39;00m:\n",
      "\u001b[1;31mFileNotFoundError\u001b[0m: [WinError 2] The system cannot find the file specified: 'P:\\\\userdata\\\\raulh87\\\\data\\\\Complex\\\\preprocessing\\\\D-sub-001\\\\D-sub-001_task-visual_mean_fct.nii.gz'",
      "\nDuring handling of the above exception, another exception occurred:\n",
      "\u001b[1;31mFileNotFoundError\u001b[0m                         Traceback (most recent call last)",
      "Cell \u001b[1;32mIn[10], line 223\u001b[0m\n\u001b[0;32m    213\u001b[0m scheduler_tab \u001b[38;5;241m=\u001b[39m widgets\u001b[38;5;241m.\u001b[39mVBox([\n\u001b[0;32m    214\u001b[0m     sub_selector,\n\u001b[0;32m    215\u001b[0m     process_selector,\n\u001b[1;32m   (...)\u001b[0m\n\u001b[0;32m    219\u001b[0m     table_widget,\n\u001b[0;32m    220\u001b[0m     ])\n\u001b[0;32m    222\u001b[0m tab_crop_app,crop_app_out \u001b[38;5;241m=\u001b[39m preprocess_functions\u001b[38;5;241m.\u001b[39mcrop_app(project_dict, \u001b[38;5;241m1\u001b[39m)\n\u001b[1;32m--> 223\u001b[0m bet_app_tab, bet_app_out \u001b[38;5;241m=\u001b[39m preprocess_functions\u001b[38;5;241m.\u001b[39mbet_app(project_dict, \u001b[38;5;241m1\u001b[39m)\n\u001b[0;32m    224\u001b[0m \u001b[38;5;66;03m# Organize contents into tabs\u001b[39;00m\n\u001b[0;32m    225\u001b[0m tab_contents \u001b[38;5;241m=\u001b[39m [\u001b[38;5;124m'\u001b[39m\u001b[38;5;124mData Entry\u001b[39m\u001b[38;5;124m'\u001b[39m, \u001b[38;5;124m'\u001b[39m\u001b[38;5;124mScheduler\u001b[39m\u001b[38;5;124m'\u001b[39m, \u001b[38;5;124m'\u001b[39m\u001b[38;5;124mCrop app\u001b[39m\u001b[38;5;124m'\u001b[39m, \u001b[38;5;124m'\u001b[39m\u001b[38;5;124mBET app\u001b[39m\u001b[38;5;124m'\u001b[39m]\n",
      "File \u001b[1;32mc:\\github\\dog_brain_toolkit\\preprocess_functions.py:152\u001b[0m, in \u001b[0;36mbet_app\u001b[1;34m(project_dict, sub_N)\u001b[0m\n\u001b[0;32m    149\u001b[0m masked_mean_fct_file \u001b[38;5;241m=\u001b[39m mean_fct_file[:\u001b[38;5;241m-\u001b[39m\u001b[38;5;241m7\u001b[39m] \u001b[38;5;241m+\u001b[39m \u001b[38;5;124m'\u001b[39m\u001b[38;5;124m_brain.nii.gz\u001b[39m\u001b[38;5;124m'\u001b[39m\n\u001b[0;32m    151\u001b[0m \u001b[38;5;66;03m# load cut_mean_fct_file\u001b[39;00m\n\u001b[1;32m--> 152\u001b[0m img \u001b[38;5;241m=\u001b[39m nib\u001b[38;5;241m.\u001b[39mload(cut_mean_fct_file)\n\u001b[0;32m    154\u001b[0m \u001b[38;5;66;03m# Get the data from the image\u001b[39;00m\n\u001b[0;32m    155\u001b[0m data \u001b[38;5;241m=\u001b[39m img\u001b[38;5;241m.\u001b[39mget_fdata()\n",
      "File \u001b[1;32mc:\\ProgramData\\anaconda3\\Lib\\site-packages\\nibabel\\loadsave.py:102\u001b[0m, in \u001b[0;36mload\u001b[1;34m(filename, **kwargs)\u001b[0m\n\u001b[0;32m    100\u001b[0m     stat_result \u001b[38;5;241m=\u001b[39m os\u001b[38;5;241m.\u001b[39mstat(filename)\n\u001b[0;32m    101\u001b[0m \u001b[38;5;28;01mexcept\u001b[39;00m \u001b[38;5;167;01mOSError\u001b[39;00m:\n\u001b[1;32m--> 102\u001b[0m     \u001b[38;5;28;01mraise\u001b[39;00m \u001b[38;5;167;01mFileNotFoundError\u001b[39;00m(\u001b[38;5;124mf\u001b[39m\u001b[38;5;124m\"\u001b[39m\u001b[38;5;124mNo such file or no access: \u001b[39m\u001b[38;5;124m'\u001b[39m\u001b[38;5;132;01m{\u001b[39;00mfilename\u001b[38;5;132;01m}\u001b[39;00m\u001b[38;5;124m'\u001b[39m\u001b[38;5;124m\"\u001b[39m)\n\u001b[0;32m    103\u001b[0m \u001b[38;5;28;01mif\u001b[39;00m stat_result\u001b[38;5;241m.\u001b[39mst_size \u001b[38;5;241m<\u001b[39m\u001b[38;5;241m=\u001b[39m \u001b[38;5;241m0\u001b[39m:\n\u001b[0;32m    104\u001b[0m     \u001b[38;5;28;01mraise\u001b[39;00m ImageFileError(\u001b[38;5;124mf\u001b[39m\u001b[38;5;124m\"\u001b[39m\u001b[38;5;124mEmpty file: \u001b[39m\u001b[38;5;124m'\u001b[39m\u001b[38;5;132;01m{\u001b[39;00mfilename\u001b[38;5;132;01m}\u001b[39;00m\u001b[38;5;124m'\u001b[39m\u001b[38;5;124m\"\u001b[39m)\n",
      "\u001b[1;31mFileNotFoundError\u001b[0m: No such file or no access: 'P:\\userdata\\raulh87\\data\\Complex\\preprocessing\\D-sub-001\\D-sub-001_task-visual_mean_fct.nii.gz'"
     ]
    }
   ],
   "source": [
    "# Define the dictionary and the display functions\n",
    "reload(utils)\n",
    "reload(preprocess_functions)\n",
    "\n",
    "project_dict = {\n",
    "    \"User\": \"\",\n",
    "    \"Dataset\": \"\",\n",
    "    \"Session\": \"\",\n",
    "    \"Task\": \"\",\n",
    "    \"Participants\": \"\",\n",
    "    \"Runs\": \"\",\n",
    "    \"Specie\": \"\",\n",
    "}\n",
    "project_dict = {\n",
    "    \"User\": \"raulh87\",\n",
    "    \"Dataset\": \"Complex\",\n",
    "    \"Session\": \"\",\n",
    "    \"Task\": \"visual\",\n",
    "    \"Participants\": [1,2,3,4,5],\n",
    "    \"Runs\": [1,2,3],\n",
    "    \"Specie\": \"D\",\n",
    "}\n",
    "if project_dict['User']:\n",
    "    username = project_dict['User']\n",
    "    if os.name == 'nt':\n",
    "        datafolder = r\"P:\\userdata\" + os.sep + username + r\"\\data\"\n",
    "    else:\n",
    "        datafolder = '/home' + os.sep + username + '/mnt/a471/userdata/' + username + '/data'\n",
    "else:\n",
    "    datafolder = ''\n",
    "# assign to project dict\n",
    "project_dict['Datafolder'] = datafolder\n",
    "# Create a list to store the jobs\n",
    "job_list = []\n",
    "\n",
    "# Create the input widgets\n",
    "input_widgets = create_input_widgets()\n",
    "update_button = widgets.Button(description=\"Update\")\n",
    "cancel_button = widgets.Button(description=\"Cancel\")\n",
    "\n",
    "# Assign an event to the button\n",
    "update_button.on_click(update_data)\n",
    "cancel_button.on_click(cancel_update)\n",
    "\n",
    "# Create a tab widget\n",
    "tab = widgets.Tab()\n",
    "\n",
    "# Create the rows to store the widgets\n",
    "row_1 = widgets.VBox([widgets.VBox(list(input_widgets.values())), update_button, cancel_button])\n",
    "row_2 = widgets.Output(layout={'border': '1px solid black'})                     \n",
    "\n",
    "# Create the columns to store in tab 1\n",
    "data_entry_tab = widgets.HBox([row_1,row_2])\n",
    "\n",
    "#participant_list = [f\"{project_dict['Specie']}-sub-{i:03d}\" for i in project_dict['Participants']]\n",
    "\n",
    "# Create the sub_selector dropdown for participants\n",
    "sub_selector = widgets.Dropdown(\n",
    "    options=[f\"{project_dict['Specie']}-sub-{i:03d}\" for i in project_dict['Participants']],\n",
    "    value=f\"{project_dict['Specie']}-sub-{project_dict['Participants'][0]:03d}\",\n",
    "    description='Participants:',\n",
    "    disabled=False,\n",
    ")\n",
    "\n",
    "# Create the process_selector ToggleButtons for process based on process_list\n",
    "process_selector = widgets.ToggleButtons(\n",
    "    options=[process[1]['name'] for process in process_dict.items()],\n",
    "    description='Process:',\n",
    "    disabled=False,\n",
    "    button_style='', # 'success', 'info', 'warning', 'danger' or ''\n",
    "    # icons=['check'] * 3\n",
    ")\n",
    "\n",
    "# Create checkbox to select the runs to process\n",
    "run_selector = widgets.HBox(\n",
    "    [widgets.Checkbox(value=True, description=f\"Run {i}\") for i in project_dict['Runs']]\n",
    ")\n",
    "\n",
    "\n",
    "# Button to schedule the process, make the button black with white text\n",
    "run_button = widgets.Button(\n",
    "    description='Add job',\n",
    "    disabled=False,\n",
    "    button_style='success', # 'success', 'info', 'warning', 'danger' or ''\n",
    "    tooltip='Add selected process to the job list   ',\n",
    "    icon='book',\n",
    ")\n",
    "\n",
    "run_jobs_button = widgets.Button(\n",
    "    description='Run jobs',\n",
    "    disabled=False,\n",
    "    button_style='info', # 'success', 'info', 'warning', 'danger' or ''\n",
    "    tooltip='Run the selected jobs',\n",
    "    icon='mail-forward'\n",
    ")\n",
    "\n",
    "# Create job_dict to store the process information\n",
    "job_dict = {\n",
    "    \"User\": project_dict['User'],\n",
    "    \"Dataset\": project_dict['Dataset'],\n",
    "    \"Session\": project_dict['Session'],\n",
    "    \"Task\": project_dict['Task'],\n",
    "    \"sub_N\":  int(sub_selector.value.split('-')[-1]),\n",
    "    \"run_N\": [i+1 for i, run in enumerate(run_selector.children) if run.value],\n",
    "    \"Specie\": project_dict['Specie'],\n",
    "    \"Process\": process_selector.value,\n",
    "    \"Datafolder\": project_dict['Datafolder'],\n",
    "    \"Status\": \"Scheduled\",\n",
    "    \"Atlas_type\": 'Czeibert',\n",
    "    \"Combination\": ['-x','z','-y'],\n",
    "    \"Smooth\": 0,\n",
    "}\n",
    "\n",
    "# create empty schedule_table\n",
    "schedule_table = pd.DataFrame()\n",
    "html_table = schedule_table.to_html(classes='table table-striped')\n",
    "table_widget = widgets.HTML(value=html_table)\n",
    "\n",
    "def update_sub(b):\n",
    "    global job_dict\n",
    "    job_dict['sub_N'] = int(sub_selector.value.split('-')[-1])\n",
    "\n",
    "def process_selector_button_pressed(b):\n",
    "    global job_dict\n",
    "    # get the key of the process selected matching process_selector.value with process_name_list\n",
    "    # process_key = [key for key, value in process_dict.items() if value['name'] == job_dict['Process']][0]\n",
    "    process_key = [key for key, value in process_dict.items() if value['name'] == process_selector.value][0]\n",
    "\n",
    "    job_dict['Process'] = process_selector.value\n",
    "    #print(job_dict['Process'])\n",
    "    # check if the process is by run\n",
    "    if process_dict[process_key]['by_run']:\n",
    "        run_selector.children = [widgets.Checkbox(value=True, description=f\"Run {i}\") for i in project_dict['Runs']]\n",
    "    else:\n",
    "        run_selector.children = [widgets.Checkbox(value=True, description=f\"Run {i}\", disabled=True) for i in project_dict['Runs']]\n",
    "    # update job_dict\n",
    "    job_dict['run_N'] = [i+1 for i, run in enumerate(run_selector.children) if run.value]\n",
    "    #print(job_dict)\n",
    "\n",
    "def update_runs(b):\n",
    "    global job_dict\n",
    "    job_dict['run_N'] = [i+1 for i, run in enumerate(run_selector.children) if run.value]\n",
    "    #print(job_dict['run_N'])\n",
    "\n",
    "# Create function for run_button\n",
    "def add_job_button_pressed(b):\n",
    "    global job_dict, job_list, schedule_table\n",
    "    # clear the output\n",
    "    #clear_output(wait=True)\n",
    "    #Output.clear_output()\n",
    "        # print the job_dict\n",
    "\n",
    "    # add the job_dict to the job_list\n",
    "    job_list.append(job_dict.copy())\n",
    "    #print('job added number of jobs: ' + str(len(job_list)))\n",
    "    # update the schedule_table\n",
    "    schedule_table = utils.job_list_to_table(job_list)\n",
    "    html_table = schedule_table.to_html(classes='table table-striped')\n",
    "    # update the table_widget\n",
    "    table_widget.value = html_table\n",
    "\n",
    "def crop_app_pushed():\n",
    "    with crop_app_out:\n",
    "        # Clear previous output\n",
    "        crop_app_out.clear_output()\n",
    "    display(crop_app_out)\n",
    "\n",
    "def bet_app_pushed():\n",
    "    with bet_app_out:\n",
    "        # Clear previous output\n",
    "        bet_app_out.clear_output()\n",
    "    display(bet_app_out)\n",
    "\n",
    "def other_pushed():\n",
    "    with crop_app_out:\n",
    "        # Clear previous output\n",
    "        crop_app_out.clear_output()\n",
    "    \n",
    "\n",
    "def run_jobs(b):\n",
    "    global job_list, schedule_table\n",
    "    for n,job in enumerate(job_list):\n",
    "        #print(job)\n",
    "        # check status of the job\n",
    "        if job_list[n]['Status'] == 'Finished':\n",
    "            continue\n",
    "        else:\n",
    "            preprocess_functions.run_process(job)\n",
    "            # check if the job is finished\n",
    "            job_status = preprocess_functions.check_job_status(job)\n",
    "            job_list[n]['Status'] = job_status\n",
    "    # clear the job_list and schedule_table\n",
    "    #job_list = []\n",
    "    #schedule_table = pd.DataFrame()\n",
    "    \n",
    "# add function to sub_selector\n",
    "sub_selector.observe(update_sub, names='value')\n",
    "\n",
    "# add function to process_selector\n",
    "process_selector.observe(process_selector_button_pressed, names='value')\n",
    "\n",
    "# add function to run_selector\n",
    "for run in run_selector.children:\n",
    "    run.observe(update_runs, names='value')\n",
    "\n",
    "# attach function to run_button\n",
    "run_button.on_click(add_job_button_pressed)\n",
    "\n",
    "# attach function to run_jobs_button\n",
    "run_jobs_button.on_click(run_jobs)\n",
    "\n",
    "# Create Scheduler tab\n",
    "scheduler_tab = widgets.VBox([\n",
    "    sub_selector,\n",
    "    process_selector,\n",
    "    run_selector,\n",
    "    run_button,\n",
    "    run_jobs_button,\n",
    "    table_widget,\n",
    "    ])\n",
    "\n",
    "tab_crop_app,crop_app_out = preprocess_functions.crop_app(project_dict, 1)\n",
    "\n",
    "## HERE###########\n",
    "#bet_app_tab, bet_app_out = preprocess_functions.bet_app(project_dict, 1)\n",
    "# # Organize contents into tabs\n",
    "# tab_contents = ['Data Entry', 'Scheduler', 'Crop app', 'BET app']\n",
    "# tab_list = [scheduler_tab,\n",
    "#             data_entry_tab, \n",
    "#             tab_crop_app,\n",
    "#             bet_app_tab,\n",
    "#             ]\n",
    "## HERE###########\n",
    "\n",
    "# Organize contents into tabs\n",
    "tab_contents = ['Data Entry', 'Scheduler', 'Crop app']\n",
    "tab_list = [scheduler_tab,\n",
    "            data_entry_tab, \n",
    "            tab_crop_app,\n",
    "            ]\n",
    "\n",
    "tab.children = tab_list\n",
    "\n",
    "for i, name in enumerate(tab_contents):\n",
    "    tab.set_title(i, name)\n",
    "\n",
    "# Function to handle tab change\n",
    "def on_tab_change(change):\n",
    "    if change['name'] == 'selected_index' and change['new'] == 2:\n",
    "        crop_app_pushed()\n",
    "    elif change['name'] == 'selected_index' and change['new'] == 3:\n",
    "        bet_app_pushed()\n",
    "    elif change['name'] == 'selected_index' and change['new'] == 1:\n",
    "        other_pushed()\n",
    "        \n",
    "# Observe changes in the tab widget\n",
    "tab.observe(on_tab_change, names='selected_index')\n",
    "\n",
    "# Display the tab widget\n",
    "display(tab)\n",
    "\n",
    "\n"
   ]
  },
  {
   "cell_type": "code",
   "execution_count": 67,
   "metadata": {},
   "outputs": [
    {
     "data": {
      "text/plain": [
       "[{'User': 'raulh87',\n",
       "  'Dataset': 'Complex',\n",
       "  'Session': '',\n",
       "  'Task': 'visual',\n",
       "  'sub_N': 2,\n",
       "  'run_N': [1, 2, 3],\n",
       "  'Specie': 'D',\n",
       "  'Process': 'Preprocess',\n",
       "  'Datafolder': 'P:\\\\userdata\\\\raulh87\\\\data',\n",
       "  'Status': 'Scheduled',\n",
       "  'Atlas_type': 'Czeibert',\n",
       "  'Combination': ['-x', 'z', '-y'],\n",
       "  'Smooth': 0},\n",
       " {'User': 'raulh87',\n",
       "  'Dataset': 'Complex',\n",
       "  'Session': '',\n",
       "  'Task': 'visual',\n",
       "  'sub_N': 3,\n",
       "  'run_N': [1, 2, 3],\n",
       "  'Specie': 'D',\n",
       "  'Process': 'Preprocess',\n",
       "  'Datafolder': 'P:\\\\userdata\\\\raulh87\\\\data',\n",
       "  'Status': 'Scheduled',\n",
       "  'Atlas_type': 'Czeibert',\n",
       "  'Combination': ['-x', 'z', '-y'],\n",
       "  'Smooth': 0},\n",
       " {'User': 'raulh87',\n",
       "  'Dataset': 'Complex',\n",
       "  'Session': '',\n",
       "  'Task': 'visual',\n",
       "  'sub_N': 4,\n",
       "  'run_N': [1, 2, 3],\n",
       "  'Specie': 'D',\n",
       "  'Process': 'Preprocess',\n",
       "  'Datafolder': 'P:\\\\userdata\\\\raulh87\\\\data',\n",
       "  'Status': 'Scheduled',\n",
       "  'Atlas_type': 'Czeibert',\n",
       "  'Combination': ['-x', 'z', '-y'],\n",
       "  'Smooth': 0}]"
      ]
     },
     "execution_count": 67,
     "metadata": {},
     "output_type": "execute_result"
    }
   ],
   "source": []
  },
  {
   "cell_type": "code",
   "execution_count": 47,
   "metadata": {},
   "outputs": [
    {
     "data": {
      "text/plain": [
       "{'User': 'raulh87',\n",
       " 'Dataset': 'Complex',\n",
       " 'Session': '',\n",
       " 'Task': 'visual',\n",
       " 'sub_N': 4,\n",
       " 'run_N': [1, 2, 3],\n",
       " 'Specie': 'D',\n",
       " 'Process': 'Runs to atlas',\n",
       " 'Datafolder': 'P:\\\\userdata\\\\raulh87\\\\data',\n",
       " 'Status': 'Scheduled'}"
      ]
     },
     "execution_count": 47,
     "metadata": {},
     "output_type": "execute_result"
    }
   ],
   "source": [
    "job_dict"
   ]
  },
  {
   "cell_type": "code",
   "execution_count": 21,
   "metadata": {},
   "outputs": [
    {
     "data": {
      "text/plain": [
       "{'User': 'raulh87',\n",
       " 'Dataset': 'Complex',\n",
       " 'Session': '',\n",
       " 'Task': 'visual',\n",
       " 'Participants': [1, 2, 3, 4, 5],\n",
       " 'Runs': [1, 2, 3],\n",
       " 'Specie': 'D'}"
      ]
     },
     "execution_count": 21,
     "metadata": {},
     "output_type": "execute_result"
    }
   ],
   "source": [
    "project_dict"
   ]
  },
  {
   "cell_type": "code",
   "execution_count": 23,
   "metadata": {},
   "outputs": [],
   "source": [
    "import preprocess_functions\n"
   ]
  },
  {
   "cell_type": "code",
   "execution_count": 55,
   "metadata": {},
   "outputs": [],
   "source": [
    "reload(preprocess_functions)\n",
    "\n",
    "\n",
    "\n",
    "#job=job_list[0]\n",
    "#run_process(job)\n"
   ]
  },
  {
   "cell_type": "code",
   "execution_count": 56,
   "metadata": {},
   "outputs": [
    {
     "name": "stdout",
     "output_type": "stream",
     "text": [
      "Running process: Preprocess\n",
      "Running preprocess\n",
      "This is a test, no actual fslinfo command will be run, giving back random values\n",
      "Output design file: c:\\github\\dog_brain_toolkit\\FSL_designs\\preprocess_modified.fsf\n",
      "feat c:\\github\\dog_brain_toolkit\\FSL_designs\\preprocess_modified.fsf\n",
      "The system is windows, command not executed.\n"
     ]
    },
    {
     "ename": "FileNotFoundError",
     "evalue": "[Errno 2] No such file or directory: 'P:\\\\userdata\\\\raulh87\\\\data\\\\Complex\\\\preprocessing\\\\D-sub-001\\\\D-sub-001_task-visual_run-01.feat\\\\filtered_func_data.nii.gz'",
     "output_type": "error",
     "traceback": [
      "\u001b[1;31m---------------------------------------------------------------------------\u001b[0m",
      "\u001b[1;31mFileNotFoundError\u001b[0m                         Traceback (most recent call last)",
      "Cell \u001b[1;32mIn[56], line 2\u001b[0m\n\u001b[0;32m      1\u001b[0m job_list[\u001b[38;5;241m0\u001b[39m]\n\u001b[1;32m----> 2\u001b[0m run_process(job_list[\u001b[38;5;241m0\u001b[39m])\n",
      "Cell \u001b[1;32mIn[55], line 39\u001b[0m, in \u001b[0;36mrun_process\u001b[1;34m(job)\u001b[0m\n\u001b[0;32m     33\u001b[0m \u001b[38;5;28mprint\u001b[39m(\u001b[38;5;124mf\u001b[39m\u001b[38;5;124m\"\u001b[39m\u001b[38;5;124mRunning process: \u001b[39m\u001b[38;5;132;01m{\u001b[39;00mprocess\u001b[38;5;132;01m}\u001b[39;00m\u001b[38;5;124m\"\u001b[39m)\n\u001b[0;32m     34\u001b[0m \u001b[38;5;66;03m# run the adecuate process\u001b[39;00m\n\u001b[0;32m     35\u001b[0m \u001b[38;5;28;01mmatch\u001b[39;00m process:\n\u001b[0;32m     36\u001b[0m     \u001b[38;5;28;01mcase\u001b[39;00m \u001b[38;5;124m'\u001b[39m\u001b[38;5;124mPreprocess\u001b[39m\u001b[38;5;124m'\u001b[39m:\n\u001b[0;32m     37\u001b[0m         \u001b[38;5;28mprint\u001b[39m(\u001b[38;5;124m'\u001b[39m\u001b[38;5;124mRunning preprocess\u001b[39m\u001b[38;5;124m'\u001b[39m)\n\u001b[0;32m     38\u001b[0m         \u001b[38;5;28;01mfor\u001b[39;00m run_N \u001b[38;5;129;01min\u001b[39;00m job[\u001b[38;5;124m'\u001b[39m\u001b[38;5;124mrun_N\u001b[39m\u001b[38;5;124m'\u001b[39m]:\n\u001b[1;32m---> 39\u001b[0m             preprocess_functions\u001b[38;5;241m.\u001b[39mpreprocess_run(\n\u001b[0;32m     40\u001b[0m                 sub_N, run_N, dataset, task, specie,\n\u001b[0;32m     41\u001b[0m                 datafolder, session, smooth,\n\u001b[0;32m     42\u001b[0m                     combination)\n\u001b[0;32m     43\u001b[0m     \u001b[38;5;28;01mcase\u001b[39;00m \u001b[38;5;124m'\u001b[39m\u001b[38;5;124mMean fct\u001b[39m\u001b[38;5;124m'\u001b[39m:\n\u001b[0;32m     44\u001b[0m         \u001b[38;5;28mprint\u001b[39m(\u001b[38;5;124m'\u001b[39m\u001b[38;5;124mRunning get_mean_fct\u001b[39m\u001b[38;5;124m'\u001b[39m)\n\u001b[0;32m     45\u001b[0m         runs_to_use \u001b[38;5;241m=\u001b[39m  job[\u001b[38;5;124m'\u001b[39m\u001b[38;5;124mrun_N\u001b[39m\u001b[38;5;124m'\u001b[39m]\n\u001b[0;32m     46\u001b[0m         preprocess_functions\u001b[38;5;241m.\u001b[39mget_mean_fct(\n\u001b[0;32m     47\u001b[0m             sub_N, runs_to_use, base_run, dataset, \n\u001b[0;32m     48\u001b[0m             task, specie, datafolder, session, first_time\u001b[38;5;241m=\u001b[39m\u001b[38;5;28;01mTrue\u001b[39;00m)\n\u001b[0;32m     49\u001b[0m     \u001b[38;5;28;01mcase\u001b[39;00m \u001b[38;5;124m'\u001b[39m\u001b[38;5;124mCrop\u001b[39m\u001b[38;5;124m'\u001b[39m:\n\u001b[0;32m     50\u001b[0m         \u001b[38;5;28mprint\u001b[39m(\u001b[38;5;124m'\u001b[39m\u001b[38;5;124mRunning crop_interface\u001b[39m\u001b[38;5;124m'\u001b[39m)\n\u001b[0;32m     51\u001b[0m         \u001b[38;5;66;03m#preprocess_functions.crop_interface(job)\u001b[39;00m\n\u001b[0;32m     52\u001b[0m     \u001b[38;5;28;01mcase\u001b[39;00m \u001b[38;5;124m'\u001b[39m\u001b[38;5;124mBET\u001b[39m\u001b[38;5;124m'\u001b[39m:\n\u001b[0;32m     53\u001b[0m         \u001b[38;5;28mprint\u001b[39m(\u001b[38;5;124m'\u001b[39m\u001b[38;5;124mRunning bet_interface\u001b[39m\u001b[38;5;124m'\u001b[39m)\n\u001b[0;32m     54\u001b[0m         \u001b[38;5;66;03m#preprocess_functions.bet_interface(job)\u001b[39;00m\n\u001b[0;32m     55\u001b[0m     \u001b[38;5;28;01mcase\u001b[39;00m \u001b[38;5;124m'\u001b[39m\u001b[38;5;124mMean to atlas\u001b[39m\u001b[38;5;124m'\u001b[39m:\n\u001b[0;32m     56\u001b[0m         \u001b[38;5;28mprint\u001b[39m(\u001b[38;5;124m'\u001b[39m\u001b[38;5;124mRunning mean_to_STD\u001b[39m\u001b[38;5;124m'\u001b[39m)\n\u001b[0;32m     57\u001b[0m         preprocess_functions\u001b[38;5;241m.\u001b[39mmean_to_STD(\n\u001b[0;32m     58\u001b[0m             sub_N, dataset, task, specie, datafolder, \n\u001b[0;32m     59\u001b[0m             atlas_type, session, img_type\u001b[38;5;241m=\u001b[39m\u001b[38;5;124m'\u001b[39m\u001b[38;5;124mbrain2mm\u001b[39m\u001b[38;5;124m'\u001b[39m)\n\u001b[0;32m     60\u001b[0m     \u001b[38;5;28;01mcase\u001b[39;00m \u001b[38;5;124m'\u001b[39m\u001b[38;5;124mRuns to atlas\u001b[39m\u001b[38;5;124m'\u001b[39m:\n\u001b[0;32m     61\u001b[0m         \u001b[38;5;28mprint\u001b[39m(\u001b[38;5;124m'\u001b[39m\u001b[38;5;124mRunning run_to_STD\u001b[39m\u001b[38;5;124m'\u001b[39m)\n\u001b[0;32m     62\u001b[0m         \u001b[38;5;28;01mfor\u001b[39;00m run_N \u001b[38;5;129;01min\u001b[39;00m job[\u001b[38;5;124m'\u001b[39m\u001b[38;5;124mrun_N\u001b[39m\u001b[38;5;124m'\u001b[39m]:\n\u001b[0;32m     63\u001b[0m             preprocess_functions\u001b[38;5;241m.\u001b[39mrun_to_STD(\n\u001b[0;32m     64\u001b[0m                 sub_N, run_N, dataset, task, \n\u001b[0;32m     65\u001b[0m                 specie, datafolder, atlas_type, \n\u001b[0;32m     66\u001b[0m                 img_type\u001b[38;5;241m=\u001b[39m\u001b[38;5;124m'\u001b[39m\u001b[38;5;124mbrain2mm\u001b[39m\u001b[38;5;124m'\u001b[39m, session\u001b[38;5;241m=\u001b[39msession)\n\u001b[0;32m     67\u001b[0m     \u001b[38;5;28;01mcase\u001b[39;00m \u001b[38;5;124m'\u001b[39m\u001b[38;5;124mMotion\u001b[39m\u001b[38;5;124m'\u001b[39m:\n\u001b[0;32m     68\u001b[0m         \u001b[38;5;28mprint\u001b[39m(\u001b[38;5;124m'\u001b[39m\u001b[38;5;124mRunning process_motion\u001b[39m\u001b[38;5;124m'\u001b[39m)\n\u001b[0;32m     69\u001b[0m         \u001b[38;5;66;03m#preprocess_functions.process_motion(job)\u001b[39;00m\n\u001b[0;32m     70\u001b[0m     \u001b[38;5;28;01mcase\u001b[39;00m\u001b[38;5;250m \u001b[39m\u001b[38;5;28;01m_\u001b[39;00m:\n\u001b[0;32m     71\u001b[0m         \u001b[38;5;28mprint\u001b[39m(\u001b[38;5;124m'\u001b[39m\u001b[38;5;124mProcess not found\u001b[39m\u001b[38;5;124m'\u001b[39m)\n",
      "File \u001b[1;32mc:\\github\\dog_brain_toolkit\\preprocess_functions.py:109\u001b[0m, in \u001b[0;36mpreprocess_run\u001b[1;34m(sub_N, run_N, dataset, task, specie, datafolder, session, smooth, combination)\u001b[0m\n\u001b[0;32m    107\u001b[0m preprocessed_file \u001b[38;5;241m=\u001b[39m fsl_outputdir \u001b[38;5;241m+\u001b[39m \u001b[38;5;124m'\u001b[39m\u001b[38;5;124m.feat\u001b[39m\u001b[38;5;124m'\u001b[39m \u001b[38;5;241m+\u001b[39m os\u001b[38;5;241m.\u001b[39msep \u001b[38;5;241m+\u001b[39m \u001b[38;5;124m'\u001b[39m\u001b[38;5;124mfiltered_func_data.nii.gz\u001b[39m\u001b[38;5;124m'\u001b[39m\n\u001b[0;32m    108\u001b[0m \u001b[38;5;66;03m#copy preprocessed_file to non_oriented_file\u001b[39;00m\n\u001b[1;32m--> 109\u001b[0m shutil\u001b[38;5;241m.\u001b[39mcopyfile(preprocessed_file, outputdir \u001b[38;5;241m+\u001b[39m os\u001b[38;5;241m.\u001b[39msep \u001b[38;5;241m+\u001b[39m non_oriented_file)\n\u001b[0;32m    110\u001b[0m \u001b[38;5;28mprint\u001b[39m(non_oriented_file \u001b[38;5;241m+\u001b[39m \u001b[38;5;124m'\u001b[39m\u001b[38;5;124m created\u001b[39m\u001b[38;5;124m'\u001b[39m)\n\u001b[0;32m    111\u001b[0m \u001b[38;5;28mprint\u001b[39m(\u001b[38;5;124m'\u001b[39m\u001b[38;5;124mFSL output directory: \u001b[39m\u001b[38;5;124m'\u001b[39m \u001b[38;5;241m+\u001b[39m fsl_outputdir)\n",
      "File \u001b[1;32mc:\\ProgramData\\anaconda3\\Lib\\shutil.py:256\u001b[0m, in \u001b[0;36mcopyfile\u001b[1;34m(src, dst, follow_symlinks)\u001b[0m\n\u001b[0;32m    254\u001b[0m     os\u001b[38;5;241m.\u001b[39msymlink(os\u001b[38;5;241m.\u001b[39mreadlink(src), dst)\n\u001b[0;32m    255\u001b[0m \u001b[38;5;28;01melse\u001b[39;00m:\n\u001b[1;32m--> 256\u001b[0m     \u001b[38;5;28;01mwith\u001b[39;00m \u001b[38;5;28mopen\u001b[39m(src, \u001b[38;5;124m'\u001b[39m\u001b[38;5;124mrb\u001b[39m\u001b[38;5;124m'\u001b[39m) \u001b[38;5;28;01mas\u001b[39;00m fsrc:\n\u001b[0;32m    257\u001b[0m         \u001b[38;5;28;01mtry\u001b[39;00m:\n\u001b[0;32m    258\u001b[0m             \u001b[38;5;28;01mwith\u001b[39;00m \u001b[38;5;28mopen\u001b[39m(dst, \u001b[38;5;124m'\u001b[39m\u001b[38;5;124mwb\u001b[39m\u001b[38;5;124m'\u001b[39m) \u001b[38;5;28;01mas\u001b[39;00m fdst:\n\u001b[0;32m    259\u001b[0m                 \u001b[38;5;66;03m# macOS\u001b[39;00m\n",
      "\u001b[1;31mFileNotFoundError\u001b[0m: [Errno 2] No such file or directory: 'P:\\\\userdata\\\\raulh87\\\\data\\\\Complex\\\\preprocessing\\\\D-sub-001\\\\D-sub-001_task-visual_run-01.feat\\\\filtered_func_data.nii.gz'"
     ]
    }
   ],
   "source": [
    "job_list[0]\n",
    "run_process(job_list[0])"
   ]
  },
  {
   "cell_type": "code",
   "execution_count": 25,
   "metadata": {},
   "outputs": [
    {
     "ename": "NameError",
     "evalue": "name 'datafolder' is not defined",
     "output_type": "error",
     "traceback": [
      "\u001b[1;31m---------------------------------------------------------------------------\u001b[0m",
      "\u001b[1;31mNameError\u001b[0m                                 Traceback (most recent call last)",
      "Cell \u001b[1;32mIn[25], line 1\u001b[0m\n\u001b[1;32m----> 1\u001b[0m datafolder\n",
      "\u001b[1;31mNameError\u001b[0m: name 'datafolder' is not defined"
     ]
    }
   ],
   "source": []
  },
  {
   "cell_type": "code",
   "execution_count": 15,
   "metadata": {},
   "outputs": [
    {
     "data": {
      "application/vnd.jupyter.widget-view+json": {
       "model_id": "7728c0f328b848949f3e325c7cca3f3c",
       "version_major": 2,
       "version_minor": 0
      },
      "text/plain": [
       "VBox(children=(HTML(value='<table border=\"1\" class=\"dataframe table table-striped\">\\n  <thead>\\n    <tr style=…"
      ]
     },
     "metadata": {},
     "output_type": "display_data"
    }
   ],
   "source": [
    "\n",
    "app = widgets.VBox([table_widget])\n",
    "display(app)\n",
    "\n",
    "\n"
   ]
  },
  {
   "cell_type": "code",
   "execution_count": 14,
   "metadata": {},
   "outputs": [
    {
     "data": {
      "application/vnd.jupyter.widget-view+json": {
       "model_id": "ecd85e74a85245b6b661cf1e36bec51e",
       "version_major": 2,
       "version_minor": 0
      },
      "text/plain": [
       "VBox(children=(HTML(value='<table border=\"1\" class=\"dataframe table table-striped\">\\n  <thead>\\n    <tr style=…"
      ]
     },
     "metadata": {},
     "output_type": "display_data"
    }
   ],
   "source": [
    "html_table = scheduler_table2.to_html(classes='table table-striped')\n",
    "html_widget = widgets.HTML(value=html_table)\n",
    "app = widgets.VBox([html_widget])\n",
    "display(app)\n",
    "\n"
   ]
  },
  {
   "cell_type": "code",
   "execution_count": 88,
   "metadata": {},
   "outputs": [
    {
     "data": {
      "text/plain": [
       "{'User': 'raulh87',\n",
       " 'Dataset': 'Complex',\n",
       " 'Session': '',\n",
       " 'Task': 'visual',\n",
       " 'sub_N': 1,\n",
       " 'run_N': [1, 2, 3],\n",
       " 'Specie': 'D',\n",
       " 'Process': 'Preprocess',\n",
       " 'Status': 'Scheduled'}"
      ]
     },
     "execution_count": 88,
     "metadata": {},
     "output_type": "execute_result"
    }
   ],
   "source": [
    "job_dict"
   ]
  },
  {
   "cell_type": "code",
   "execution_count": 11,
   "metadata": {},
   "outputs": [
    {
     "data": {
      "text/html": [
       "<div>\n",
       "<style scoped>\n",
       "    .dataframe tbody tr th:only-of-type {\n",
       "        vertical-align: middle;\n",
       "    }\n",
       "\n",
       "    .dataframe tbody tr th {\n",
       "        vertical-align: top;\n",
       "    }\n",
       "\n",
       "    .dataframe thead th {\n",
       "        text-align: right;\n",
       "    }\n",
       "</style>\n",
       "<table border=\"1\" class=\"dataframe\">\n",
       "  <thead>\n",
       "    <tr style=\"text-align: right;\">\n",
       "      <th></th>\n",
       "      <th>Participant</th>\n",
       "      <th>Run</th>\n",
       "      <th>Process</th>\n",
       "      <th>Status</th>\n",
       "    </tr>\n",
       "  </thead>\n",
       "  <tbody>\n",
       "    <tr>\n",
       "      <th>0</th>\n",
       "      <td>S1</td>\n",
       "      <td>R1</td>\n",
       "      <td>P1</td>\n",
       "      <td>Complete</td>\n",
       "    </tr>\n",
       "    <tr>\n",
       "      <th>1</th>\n",
       "      <td>S1</td>\n",
       "      <td>R1</td>\n",
       "      <td>P1</td>\n",
       "      <td>Complete</td>\n",
       "    </tr>\n",
       "    <tr>\n",
       "      <th>2</th>\n",
       "      <td>S1</td>\n",
       "      <td>R1</td>\n",
       "      <td>P1</td>\n",
       "      <td>Complete</td>\n",
       "    </tr>\n",
       "    <tr>\n",
       "      <th>3</th>\n",
       "      <td>S1</td>\n",
       "      <td>R1</td>\n",
       "      <td>P1</td>\n",
       "      <td>Complete</td>\n",
       "    </tr>\n",
       "  </tbody>\n",
       "</table>\n",
       "</div>"
      ],
      "text/plain": [
       "  Participant Run Process    Status\n",
       "0          S1  R1      P1  Complete\n",
       "1          S1  R1      P1  Complete\n",
       "2          S1  R1      P1  Complete\n",
       "3          S1  R1      P1  Complete"
      ]
     },
     "execution_count": 11,
     "metadata": {},
     "output_type": "execute_result"
    }
   ],
   "source": [
    "scheduler_table"
   ]
  },
  {
   "cell_type": "code",
   "execution_count": 3,
   "metadata": {},
   "outputs": [],
   "source": []
  },
  {
   "cell_type": "code",
   "execution_count": 6,
   "metadata": {},
   "outputs": [
    {
     "data": {
      "text/html": [
       "<div>\n",
       "<style scoped>\n",
       "    .dataframe tbody tr th:only-of-type {\n",
       "        vertical-align: middle;\n",
       "    }\n",
       "\n",
       "    .dataframe tbody tr th {\n",
       "        vertical-align: top;\n",
       "    }\n",
       "\n",
       "    .dataframe thead th {\n",
       "        text-align: right;\n",
       "    }\n",
       "</style>\n",
       "<table border=\"1\" class=\"dataframe\">\n",
       "  <thead>\n",
       "    <tr style=\"text-align: right;\">\n",
       "      <th></th>\n",
       "      <th>Participant</th>\n",
       "      <th>Run</th>\n",
       "      <th>Process</th>\n",
       "      <th>Status</th>\n",
       "    </tr>\n",
       "  </thead>\n",
       "  <tbody>\n",
       "    <tr>\n",
       "      <th>0</th>\n",
       "      <td>S1</td>\n",
       "      <td>R1</td>\n",
       "      <td>P1</td>\n",
       "      <td>Complete</td>\n",
       "    </tr>\n",
       "    <tr>\n",
       "      <th>1</th>\n",
       "      <td>S1</td>\n",
       "      <td>R1</td>\n",
       "      <td>P1</td>\n",
       "      <td>Complete</td>\n",
       "    </tr>\n",
       "    <tr>\n",
       "      <th>2</th>\n",
       "      <td>S1</td>\n",
       "      <td>R1</td>\n",
       "      <td>P1</td>\n",
       "      <td>Complete</td>\n",
       "    </tr>\n",
       "    <tr>\n",
       "      <th>3</th>\n",
       "      <td>S1</td>\n",
       "      <td>R1</td>\n",
       "      <td>P1</td>\n",
       "      <td>Complete</td>\n",
       "    </tr>\n",
       "  </tbody>\n",
       "</table>\n",
       "</div>"
      ],
      "text/plain": [
       "  Participant Run Process    Status\n",
       "0          S1  R1      P1  Complete\n",
       "1          S1  R1      P1  Complete\n",
       "2          S1  R1      P1  Complete\n",
       "3          S1  R1      P1  Complete"
      ]
     },
     "execution_count": 6,
     "metadata": {},
     "output_type": "execute_result"
    }
   ],
   "source": [
    "reload(utils)\n",
    "scheduler_table2 = utils.job_list_to_table(job_list)\n",
    "scheduler_table2"
   ]
  },
  {
   "cell_type": "code",
   "execution_count": 112,
   "metadata": {},
   "outputs": [
    {
     "data": {
      "text/html": [
       "<div>\n",
       "<style scoped>\n",
       "    .dataframe tbody tr th:only-of-type {\n",
       "        vertical-align: middle;\n",
       "    }\n",
       "\n",
       "    .dataframe tbody tr th {\n",
       "        vertical-align: top;\n",
       "    }\n",
       "\n",
       "    .dataframe thead th {\n",
       "        text-align: right;\n",
       "    }\n",
       "</style>\n",
       "<table border=\"1\" class=\"dataframe\">\n",
       "  <thead>\n",
       "    <tr style=\"text-align: right;\">\n",
       "      <th></th>\n",
       "      <th>Participant</th>\n",
       "      <th>Run</th>\n",
       "      <th>Process</th>\n",
       "      <th>Status</th>\n",
       "      <th>0</th>\n",
       "    </tr>\n",
       "  </thead>\n",
       "  <tbody>\n",
       "    <tr>\n",
       "      <th>0</th>\n",
       "      <td>NaN</td>\n",
       "      <td>NaN</td>\n",
       "      <td>NaN</td>\n",
       "      <td>NaN</td>\n",
       "      <td>1</td>\n",
       "    </tr>\n",
       "    <tr>\n",
       "      <th>1</th>\n",
       "      <td>NaN</td>\n",
       "      <td>NaN</td>\n",
       "      <td>NaN</td>\n",
       "      <td>NaN</td>\n",
       "      <td>[1, 2, 3]</td>\n",
       "    </tr>\n",
       "    <tr>\n",
       "      <th>2</th>\n",
       "      <td>NaN</td>\n",
       "      <td>NaN</td>\n",
       "      <td>NaN</td>\n",
       "      <td>NaN</td>\n",
       "      <td>Preprocess</td>\n",
       "    </tr>\n",
       "    <tr>\n",
       "      <th>3</th>\n",
       "      <td>NaN</td>\n",
       "      <td>NaN</td>\n",
       "      <td>NaN</td>\n",
       "      <td>NaN</td>\n",
       "      <td>Scheduled</td>\n",
       "    </tr>\n",
       "    <tr>\n",
       "      <th>4</th>\n",
       "      <td>NaN</td>\n",
       "      <td>NaN</td>\n",
       "      <td>NaN</td>\n",
       "      <td>NaN</td>\n",
       "      <td>1</td>\n",
       "    </tr>\n",
       "    <tr>\n",
       "      <th>5</th>\n",
       "      <td>NaN</td>\n",
       "      <td>NaN</td>\n",
       "      <td>NaN</td>\n",
       "      <td>NaN</td>\n",
       "      <td>[1, 2, 3]</td>\n",
       "    </tr>\n",
       "    <tr>\n",
       "      <th>6</th>\n",
       "      <td>NaN</td>\n",
       "      <td>NaN</td>\n",
       "      <td>NaN</td>\n",
       "      <td>NaN</td>\n",
       "      <td>Preprocess</td>\n",
       "    </tr>\n",
       "    <tr>\n",
       "      <th>7</th>\n",
       "      <td>NaN</td>\n",
       "      <td>NaN</td>\n",
       "      <td>NaN</td>\n",
       "      <td>NaN</td>\n",
       "      <td>Scheduled</td>\n",
       "    </tr>\n",
       "    <tr>\n",
       "      <th>8</th>\n",
       "      <td>NaN</td>\n",
       "      <td>NaN</td>\n",
       "      <td>NaN</td>\n",
       "      <td>NaN</td>\n",
       "      <td>1</td>\n",
       "    </tr>\n",
       "    <tr>\n",
       "      <th>9</th>\n",
       "      <td>NaN</td>\n",
       "      <td>NaN</td>\n",
       "      <td>NaN</td>\n",
       "      <td>NaN</td>\n",
       "      <td>[1, 2, 3]</td>\n",
       "    </tr>\n",
       "    <tr>\n",
       "      <th>10</th>\n",
       "      <td>NaN</td>\n",
       "      <td>NaN</td>\n",
       "      <td>NaN</td>\n",
       "      <td>NaN</td>\n",
       "      <td>Preprocess</td>\n",
       "    </tr>\n",
       "    <tr>\n",
       "      <th>11</th>\n",
       "      <td>NaN</td>\n",
       "      <td>NaN</td>\n",
       "      <td>NaN</td>\n",
       "      <td>NaN</td>\n",
       "      <td>Scheduled</td>\n",
       "    </tr>\n",
       "    <tr>\n",
       "      <th>12</th>\n",
       "      <td>NaN</td>\n",
       "      <td>NaN</td>\n",
       "      <td>NaN</td>\n",
       "      <td>NaN</td>\n",
       "      <td>1</td>\n",
       "    </tr>\n",
       "    <tr>\n",
       "      <th>13</th>\n",
       "      <td>NaN</td>\n",
       "      <td>NaN</td>\n",
       "      <td>NaN</td>\n",
       "      <td>NaN</td>\n",
       "      <td>[1, 2, 3]</td>\n",
       "    </tr>\n",
       "    <tr>\n",
       "      <th>14</th>\n",
       "      <td>NaN</td>\n",
       "      <td>NaN</td>\n",
       "      <td>NaN</td>\n",
       "      <td>NaN</td>\n",
       "      <td>Preprocess</td>\n",
       "    </tr>\n",
       "    <tr>\n",
       "      <th>15</th>\n",
       "      <td>NaN</td>\n",
       "      <td>NaN</td>\n",
       "      <td>NaN</td>\n",
       "      <td>NaN</td>\n",
       "      <td>Scheduled</td>\n",
       "    </tr>\n",
       "    <tr>\n",
       "      <th>16</th>\n",
       "      <td>NaN</td>\n",
       "      <td>NaN</td>\n",
       "      <td>NaN</td>\n",
       "      <td>NaN</td>\n",
       "      <td>1</td>\n",
       "    </tr>\n",
       "    <tr>\n",
       "      <th>17</th>\n",
       "      <td>NaN</td>\n",
       "      <td>NaN</td>\n",
       "      <td>NaN</td>\n",
       "      <td>NaN</td>\n",
       "      <td>[1, 2, 3]</td>\n",
       "    </tr>\n",
       "    <tr>\n",
       "      <th>18</th>\n",
       "      <td>NaN</td>\n",
       "      <td>NaN</td>\n",
       "      <td>NaN</td>\n",
       "      <td>NaN</td>\n",
       "      <td>Preprocess</td>\n",
       "    </tr>\n",
       "    <tr>\n",
       "      <th>19</th>\n",
       "      <td>NaN</td>\n",
       "      <td>NaN</td>\n",
       "      <td>NaN</td>\n",
       "      <td>NaN</td>\n",
       "      <td>Scheduled</td>\n",
       "    </tr>\n",
       "    <tr>\n",
       "      <th>20</th>\n",
       "      <td>NaN</td>\n",
       "      <td>NaN</td>\n",
       "      <td>NaN</td>\n",
       "      <td>NaN</td>\n",
       "      <td>1</td>\n",
       "    </tr>\n",
       "    <tr>\n",
       "      <th>21</th>\n",
       "      <td>NaN</td>\n",
       "      <td>NaN</td>\n",
       "      <td>NaN</td>\n",
       "      <td>NaN</td>\n",
       "      <td>[1, 2, 3]</td>\n",
       "    </tr>\n",
       "    <tr>\n",
       "      <th>22</th>\n",
       "      <td>NaN</td>\n",
       "      <td>NaN</td>\n",
       "      <td>NaN</td>\n",
       "      <td>NaN</td>\n",
       "      <td>Preprocess</td>\n",
       "    </tr>\n",
       "    <tr>\n",
       "      <th>23</th>\n",
       "      <td>NaN</td>\n",
       "      <td>NaN</td>\n",
       "      <td>NaN</td>\n",
       "      <td>NaN</td>\n",
       "      <td>Scheduled</td>\n",
       "    </tr>\n",
       "  </tbody>\n",
       "</table>\n",
       "</div>"
      ],
      "text/plain": [
       "   Participant  Run Process Status           0\n",
       "0          NaN  NaN     NaN    NaN           1\n",
       "1          NaN  NaN     NaN    NaN   [1, 2, 3]\n",
       "2          NaN  NaN     NaN    NaN  Preprocess\n",
       "3          NaN  NaN     NaN    NaN   Scheduled\n",
       "4          NaN  NaN     NaN    NaN           1\n",
       "5          NaN  NaN     NaN    NaN   [1, 2, 3]\n",
       "6          NaN  NaN     NaN    NaN  Preprocess\n",
       "7          NaN  NaN     NaN    NaN   Scheduled\n",
       "8          NaN  NaN     NaN    NaN           1\n",
       "9          NaN  NaN     NaN    NaN   [1, 2, 3]\n",
       "10         NaN  NaN     NaN    NaN  Preprocess\n",
       "11         NaN  NaN     NaN    NaN   Scheduled\n",
       "12         NaN  NaN     NaN    NaN           1\n",
       "13         NaN  NaN     NaN    NaN   [1, 2, 3]\n",
       "14         NaN  NaN     NaN    NaN  Preprocess\n",
       "15         NaN  NaN     NaN    NaN   Scheduled\n",
       "16         NaN  NaN     NaN    NaN           1\n",
       "17         NaN  NaN     NaN    NaN   [1, 2, 3]\n",
       "18         NaN  NaN     NaN    NaN  Preprocess\n",
       "19         NaN  NaN     NaN    NaN   Scheduled\n",
       "20         NaN  NaN     NaN    NaN           1\n",
       "21         NaN  NaN     NaN    NaN   [1, 2, 3]\n",
       "22         NaN  NaN     NaN    NaN  Preprocess\n",
       "23         NaN  NaN     NaN    NaN   Scheduled"
      ]
     },
     "execution_count": 112,
     "metadata": {},
     "output_type": "execute_result"
    }
   ],
   "source": [
    "scheduler_table = pd.concat([scheduler_table,pd.Series(new_row)], ignore_index=True)\n",
    "scheduler_table"
   ]
  },
  {
   "cell_type": "code",
   "execution_count": null,
   "metadata": {},
   "outputs": [],
   "source": []
  },
  {
   "cell_type": "code",
   "execution_count": 104,
   "metadata": {},
   "outputs": [
    {
     "data": {
      "text/plain": [
       "{'Participant': 1,\n",
       " 'Run': [1, 2, 3],\n",
       " 'Process': 'Preprocess',\n",
       " 'Status': 'Scheduled'}"
      ]
     },
     "execution_count": 104,
     "metadata": {},
     "output_type": "execute_result"
    }
   ],
   "source": [
    "new_row"
   ]
  },
  {
   "cell_type": "code",
   "execution_count": 108,
   "metadata": {},
   "outputs": [
    {
     "data": {
      "text/html": [
       "<div>\n",
       "<style scoped>\n",
       "    .dataframe tbody tr th:only-of-type {\n",
       "        vertical-align: middle;\n",
       "    }\n",
       "\n",
       "    .dataframe tbody tr th {\n",
       "        vertical-align: top;\n",
       "    }\n",
       "\n",
       "    .dataframe thead th {\n",
       "        text-align: right;\n",
       "    }\n",
       "</style>\n",
       "<table border=\"1\" class=\"dataframe\">\n",
       "  <thead>\n",
       "    <tr style=\"text-align: right;\">\n",
       "      <th></th>\n",
       "      <th>Participant</th>\n",
       "      <th>Run</th>\n",
       "      <th>Process</th>\n",
       "      <th>Status</th>\n",
       "      <th>0</th>\n",
       "    </tr>\n",
       "  </thead>\n",
       "  <tbody>\n",
       "    <tr>\n",
       "      <th>0</th>\n",
       "      <td>NaN</td>\n",
       "      <td>NaN</td>\n",
       "      <td>NaN</td>\n",
       "      <td>NaN</td>\n",
       "      <td>1</td>\n",
       "    </tr>\n",
       "    <tr>\n",
       "      <th>1</th>\n",
       "      <td>NaN</td>\n",
       "      <td>NaN</td>\n",
       "      <td>NaN</td>\n",
       "      <td>NaN</td>\n",
       "      <td>[1, 2, 3]</td>\n",
       "    </tr>\n",
       "    <tr>\n",
       "      <th>2</th>\n",
       "      <td>NaN</td>\n",
       "      <td>NaN</td>\n",
       "      <td>NaN</td>\n",
       "      <td>NaN</td>\n",
       "      <td>Preprocess</td>\n",
       "    </tr>\n",
       "    <tr>\n",
       "      <th>3</th>\n",
       "      <td>NaN</td>\n",
       "      <td>NaN</td>\n",
       "      <td>NaN</td>\n",
       "      <td>NaN</td>\n",
       "      <td>Scheduled</td>\n",
       "    </tr>\n",
       "    <tr>\n",
       "      <th>4</th>\n",
       "      <td>NaN</td>\n",
       "      <td>NaN</td>\n",
       "      <td>NaN</td>\n",
       "      <td>NaN</td>\n",
       "      <td>1</td>\n",
       "    </tr>\n",
       "    <tr>\n",
       "      <th>5</th>\n",
       "      <td>NaN</td>\n",
       "      <td>NaN</td>\n",
       "      <td>NaN</td>\n",
       "      <td>NaN</td>\n",
       "      <td>[1, 2, 3]</td>\n",
       "    </tr>\n",
       "    <tr>\n",
       "      <th>6</th>\n",
       "      <td>NaN</td>\n",
       "      <td>NaN</td>\n",
       "      <td>NaN</td>\n",
       "      <td>NaN</td>\n",
       "      <td>Preprocess</td>\n",
       "    </tr>\n",
       "    <tr>\n",
       "      <th>7</th>\n",
       "      <td>NaN</td>\n",
       "      <td>NaN</td>\n",
       "      <td>NaN</td>\n",
       "      <td>NaN</td>\n",
       "      <td>Scheduled</td>\n",
       "    </tr>\n",
       "    <tr>\n",
       "      <th>8</th>\n",
       "      <td>NaN</td>\n",
       "      <td>NaN</td>\n",
       "      <td>NaN</td>\n",
       "      <td>NaN</td>\n",
       "      <td>1</td>\n",
       "    </tr>\n",
       "    <tr>\n",
       "      <th>9</th>\n",
       "      <td>NaN</td>\n",
       "      <td>NaN</td>\n",
       "      <td>NaN</td>\n",
       "      <td>NaN</td>\n",
       "      <td>[1, 2, 3]</td>\n",
       "    </tr>\n",
       "    <tr>\n",
       "      <th>10</th>\n",
       "      <td>NaN</td>\n",
       "      <td>NaN</td>\n",
       "      <td>NaN</td>\n",
       "      <td>NaN</td>\n",
       "      <td>Preprocess</td>\n",
       "    </tr>\n",
       "    <tr>\n",
       "      <th>11</th>\n",
       "      <td>NaN</td>\n",
       "      <td>NaN</td>\n",
       "      <td>NaN</td>\n",
       "      <td>NaN</td>\n",
       "      <td>Scheduled</td>\n",
       "    </tr>\n",
       "    <tr>\n",
       "      <th>12</th>\n",
       "      <td>NaN</td>\n",
       "      <td>NaN</td>\n",
       "      <td>NaN</td>\n",
       "      <td>NaN</td>\n",
       "      <td>1</td>\n",
       "    </tr>\n",
       "    <tr>\n",
       "      <th>13</th>\n",
       "      <td>NaN</td>\n",
       "      <td>NaN</td>\n",
       "      <td>NaN</td>\n",
       "      <td>NaN</td>\n",
       "      <td>[1, 2, 3]</td>\n",
       "    </tr>\n",
       "    <tr>\n",
       "      <th>14</th>\n",
       "      <td>NaN</td>\n",
       "      <td>NaN</td>\n",
       "      <td>NaN</td>\n",
       "      <td>NaN</td>\n",
       "      <td>Preprocess</td>\n",
       "    </tr>\n",
       "    <tr>\n",
       "      <th>15</th>\n",
       "      <td>NaN</td>\n",
       "      <td>NaN</td>\n",
       "      <td>NaN</td>\n",
       "      <td>NaN</td>\n",
       "      <td>Scheduled</td>\n",
       "    </tr>\n",
       "  </tbody>\n",
       "</table>\n",
       "</div>"
      ],
      "text/plain": [
       "   Participant  Run Process Status           0\n",
       "0          NaN  NaN     NaN    NaN           1\n",
       "1          NaN  NaN     NaN    NaN   [1, 2, 3]\n",
       "2          NaN  NaN     NaN    NaN  Preprocess\n",
       "3          NaN  NaN     NaN    NaN   Scheduled\n",
       "4          NaN  NaN     NaN    NaN           1\n",
       "5          NaN  NaN     NaN    NaN   [1, 2, 3]\n",
       "6          NaN  NaN     NaN    NaN  Preprocess\n",
       "7          NaN  NaN     NaN    NaN   Scheduled\n",
       "8          NaN  NaN     NaN    NaN           1\n",
       "9          NaN  NaN     NaN    NaN   [1, 2, 3]\n",
       "10         NaN  NaN     NaN    NaN  Preprocess\n",
       "11         NaN  NaN     NaN    NaN   Scheduled\n",
       "12         NaN  NaN     NaN    NaN           1\n",
       "13         NaN  NaN     NaN    NaN   [1, 2, 3]\n",
       "14         NaN  NaN     NaN    NaN  Preprocess\n",
       "15         NaN  NaN     NaN    NaN   Scheduled"
      ]
     },
     "execution_count": 108,
     "metadata": {},
     "output_type": "execute_result"
    }
   ],
   "source": [
    "scheduler_table = pd.concat([scheduler_table,pd.Series(new_row)], ignore_index=True)\n",
    "scheduler_table"
   ]
  },
  {
   "cell_type": "code",
   "execution_count": 98,
   "metadata": {},
   "outputs": [
    {
     "data": {
      "text/plain": [
       "[{'User': 'raulh87',\n",
       "  'Dataset': 'Complex',\n",
       "  'Session': '',\n",
       "  'Task': 'visual',\n",
       "  'sub_N': 1,\n",
       "  'run_N': [1, 2, 3],\n",
       "  'Specie': 'D',\n",
       "  'Process': 'Preprocess',\n",
       "  'Status': 'Scheduled'},\n",
       " {'User': 'raulh87',\n",
       "  'Dataset': 'Complex',\n",
       "  'Session': '',\n",
       "  'Task': 'visual',\n",
       "  'sub_N': 1,\n",
       "  'run_N': [1, 2, 3],\n",
       "  'Specie': 'D',\n",
       "  'Process': 'Preprocess',\n",
       "  'Status': 'Scheduled'},\n",
       " {'User': 'raulh87',\n",
       "  'Dataset': 'Complex',\n",
       "  'Session': '',\n",
       "  'Task': 'visual',\n",
       "  'sub_N': 1,\n",
       "  'run_N': [1, 2, 3],\n",
       "  'Specie': 'D',\n",
       "  'Process': 'Preprocess',\n",
       "  'Status': 'Scheduled'}]"
      ]
     },
     "execution_count": 98,
     "metadata": {},
     "output_type": "execute_result"
    }
   ],
   "source": [
    "job_list"
   ]
  },
  {
   "cell_type": "code",
   "execution_count": 93,
   "metadata": {},
   "outputs": [
    {
     "name": "stdout",
     "output_type": "stream",
     "text": [
      "{'User': 'raulh87', 'Dataset': 'Complex', 'Session': '', 'Task': 'visual', 'sub_N': 1, 'run_N': [1, 2, 3], 'Specie': 'D', 'Process': 'Preprocess', 'Status': 'Scheduled'}\n",
      "{'User': 'raulh87', 'Dataset': 'Complex', 'Session': '', 'Task': 'visual', 'sub_N': 1, 'run_N': [1, 2, 3], 'Specie': 'D', 'Process': 'Preprocess', 'Status': 'Scheduled'}\n",
      "{'User': 'raulh87', 'Dataset': 'Complex', 'Session': '', 'Task': 'visual', 'sub_N': 1, 'run_N': [1, 2, 3], 'Specie': 'D', 'Process': 'Preprocess', 'Status': 'Scheduled'}\n"
     ]
    }
   ],
   "source": [
    "for job in job_list:\n",
    "    print(job)"
   ]
  },
  {
   "cell_type": "code",
   "execution_count": 90,
   "metadata": {},
   "outputs": [
    {
     "data": {
      "text/plain": [
       "{'User': 'raulh87',\n",
       " 'Dataset': 'Complex',\n",
       " 'Session': '',\n",
       " 'Task': 'visual',\n",
       " 'sub_N': 1,\n",
       " 'run_N': [1, 2, 3],\n",
       " 'Specie': 'D',\n",
       " 'Process': 'Preprocess',\n",
       " 'Status': 'Scheduled'}"
      ]
     },
     "execution_count": 90,
     "metadata": {},
     "output_type": "execute_result"
    }
   ],
   "source": [
    "job_dict"
   ]
  },
  {
   "cell_type": "code",
   "execution_count": 87,
   "metadata": {},
   "outputs": [
    {
     "data": {
      "application/vnd.jupyter.widget-view+json": {
       "model_id": "28cb4fdd439940db9e7d7f4b283c7a72",
       "version_major": 2,
       "version_minor": 0
      },
      "text/plain": [
       "VBox(children=(HTML(value='<table border=\"1\" class=\"dataframe table table-striped\">\\n  <thead>\\n    <tr style=…"
      ]
     },
     "metadata": {},
     "output_type": "display_data"
    }
   ],
   "source": [
    "import ipywidgets as widgets\n",
    "from IPython.display import display\n",
    "import pandas as pd\n",
    "\n",
    "# Sample DataFrame\n",
    "data = {\n",
    "    'Name': ['Alice', 'Bob', 'Charlie', 'David'],\n",
    "    'Age': [24, 30, 22, 35],\n",
    "    'Occupation': ['Engineer', 'Doctor', 'Artist', 'Data Scientist']\n",
    "}\n",
    "df = pd.DataFrame(data)\n",
    "\n",
    "# Convert DataFrame to HTML\n",
    "html_table = df.to_html(classes='table table-striped')\n",
    "\n",
    "# Create an HTML widget\n",
    "html_widget = widgets.HTML(value=html_table)\n",
    "\n",
    "# Layout the application\n",
    "app = widgets.VBox([html_widget])\n",
    "\n",
    "# Display the application\n",
    "display(app)\n"
   ]
  },
  {
   "cell_type": "code",
   "execution_count": 72,
   "metadata": {},
   "outputs": [
    {
     "name": "stdout",
     "output_type": "stream",
     "text": [
      "key: preprocess_run: value: {'name': 'Preprocess', 'by_run': True, 'process_used': 'preprocess_run'}\n",
      "key: get_mean_fct: value: {'name': 'Mean fct', 'by_run': False, 'process_used': 'get_mean_fct'}\n",
      "key: crop_interface: value: {'name': 'Crop', 'by_run': False, 'process_used': 'crop_interface'}\n",
      "key: bet_interface: value: {'name': 'BET', 'by_run': False, 'process_used': 'bet_interface'}\n",
      "key: mean_to_STD: value: {'name': 'Mean to atlas', 'by_run': False, 'process_used': 'mean_to_STD'}\n",
      "key: run_to_STD: value: {'name': 'Runs to atlas', 'by_run': True, 'process_used': 'run_to_STD'}\n",
      "key: process_motion: value: {'name': 'Motion', 'by_run': False, 'process_used': 'process_motion'}\n"
     ]
    }
   ],
   "source": [
    "for key, value in process_dict.items():\n",
    "    print(f\"key: {key}: value: {value}\")"
   ]
  },
  {
   "cell_type": "code",
   "execution_count": null,
   "metadata": {},
   "outputs": [],
   "source": [
    "process_key = [key for key, value in process_dict.items() if value['name'] == job_dict['Process']][0]\n"
   ]
  },
  {
   "cell_type": "code",
   "execution_count": 77,
   "metadata": {},
   "outputs": [
    {
     "data": {
      "text/plain": [
       "'mean_to_STD'"
      ]
     },
     "execution_count": 77,
     "metadata": {},
     "output_type": "execute_result"
    }
   ],
   "source": [
    "for key, value in process_dict.items():\n",
    "    if value['name'] == job_dict['Process']:\n",
    "        process_key = key\n",
    "process_key"
   ]
  },
  {
   "cell_type": "code",
   "execution_count": 79,
   "metadata": {},
   "outputs": [
    {
     "name": "stdout",
     "output_type": "stream",
     "text": [
      "Preprocess\n",
      "Mean fct\n",
      "Crop\n",
      "BET\n",
      "Mean to atlas\n",
      "Runs to atlas\n",
      "Motion\n"
     ]
    }
   ],
   "source": [
    "for key, value in process_dict.items():\n",
    "    if value['name'] == process_selector.value:\n",
    "        process_key = key\n",
    "\n",
    "process_key = [key for key, value in process_dict.items() if value['name'] == process_selector.value][0]\n"
   ]
  },
  {
   "cell_type": "code",
   "execution_count": null,
   "metadata": {},
   "outputs": [],
   "source": [
    "process_dict"
   ]
  },
  {
   "cell_type": "code",
   "execution_count": 71,
   "metadata": {},
   "outputs": [
    {
     "data": {
      "text/plain": [
       "[]"
      ]
     },
     "execution_count": 71,
     "metadata": {},
     "output_type": "execute_result"
    }
   ],
   "source": [
    "[key for key, value in process_dict.items() if value['name'] == job_dict['Process']]"
   ]
  },
  {
   "cell_type": "code",
   "execution_count": 70,
   "metadata": {},
   "outputs": [
    {
     "data": {
      "text/plain": [
       "'get_mean_fct'"
      ]
     },
     "execution_count": 70,
     "metadata": {},
     "output_type": "execute_result"
    }
   ],
   "source": [
    "process_key"
   ]
  },
  {
   "cell_type": "code",
   "execution_count": null,
   "metadata": {},
   "outputs": [],
   "source": [
    "process_key = [key for key, value in process_dict.items() if value['name'] == job_dict['Process']][0]"
   ]
  },
  {
   "cell_type": "code",
   "execution_count": 65,
   "metadata": {},
   "outputs": [
    {
     "data": {
      "text/plain": [
       "{'User': 'raulh87',\n",
       " 'Dataset': 'Complex',\n",
       " 'Session': '',\n",
       " 'Task': 'visual',\n",
       " 'sub_N': 1,\n",
       " 'run_N': [1, 2, 3],\n",
       " 'Specie': 'D',\n",
       " 'Process': 'preprocess_run',\n",
       " 'Status': 'Scheduled'}"
      ]
     },
     "execution_count": 65,
     "metadata": {},
     "output_type": "execute_result"
    }
   ],
   "source": [
    "job_dict"
   ]
  },
  {
   "cell_type": "code",
   "execution_count": 67,
   "metadata": {},
   "outputs": [
    {
     "data": {
      "text/plain": [
       "dict_items([('preprocess_run', {'name': 'Preprocess', 'by_run': True, 'process_used': 'preprocess_run'}), ('get_mean_fct', {'name': 'Mean fct', 'by_run': False, 'process_used': 'get_mean_fct'}), ('crop_interface', {'name': 'Crop', 'by_run': False, 'process_used': 'crop_interface'}), ('bet_interface', {'name': 'BET', 'by_run': False, 'process_used': 'bet_interface'}), ('mean_to_STD', {'name': 'Mean to atlas', 'by_run': False, 'process_used': 'mean_to_STD'}), ('run_to_STD', {'name': 'Runs to atlas', 'by_run': True, 'process_used': 'run_to_STD'}), ('process_motion', {'name': 'Motion', 'by_run': False, 'process_used': 'process_motion'})])"
      ]
     },
     "execution_count": 67,
     "metadata": {},
     "output_type": "execute_result"
    }
   ],
   "source": [
    "process_dict.items()"
   ]
  },
  {
   "cell_type": "code",
   "execution_count": 66,
   "metadata": {},
   "outputs": [
    {
     "ename": "IndexError",
     "evalue": "list index out of range",
     "output_type": "error",
     "traceback": [
      "\u001b[1;31m---------------------------------------------------------------------------\u001b[0m",
      "\u001b[1;31mIndexError\u001b[0m                                Traceback (most recent call last)",
      "Cell \u001b[1;32mIn[66], line 1\u001b[0m\n\u001b[1;32m----> 1\u001b[0m process_key \u001b[38;5;241m=\u001b[39m [key \u001b[38;5;28;01mfor\u001b[39;00m key, value \u001b[38;5;129;01min\u001b[39;00m process_dict\u001b[38;5;241m.\u001b[39mitems() \u001b[38;5;28;01mif\u001b[39;00m value[\u001b[38;5;124m'\u001b[39m\u001b[38;5;124mname\u001b[39m\u001b[38;5;124m'\u001b[39m] \u001b[38;5;241m==\u001b[39m job_dict[\u001b[38;5;124m'\u001b[39m\u001b[38;5;124mProcess\u001b[39m\u001b[38;5;124m'\u001b[39m]][\u001b[38;5;241m0\u001b[39m]\n\u001b[0;32m      2\u001b[0m process_key\n",
      "\u001b[1;31mIndexError\u001b[0m: list index out of range"
     ]
    }
   ],
   "source": [
    "process_key = [key for key, value in process_dict.items() if value['name'] == job_dict['Process']][0]\n",
    "process_key"
   ]
  },
  {
   "cell_type": "code",
   "execution_count": 60,
   "metadata": {},
   "outputs": [
    {
     "data": {
      "text/plain": [
       "'get_mean_fct'"
      ]
     },
     "execution_count": 60,
     "metadata": {},
     "output_type": "execute_result"
    }
   ],
   "source": [
    "process_name_list = [process[1]['name'] for process in process_dict.items()]\n",
    "# Check which process matches between process_name_list and job_dict['Process']\n",
    "\n",
    "\n",
    "process_key"
   ]
  },
  {
   "cell_type": "code",
   "execution_count": 62,
   "metadata": {},
   "outputs": [
    {
     "data": {
      "text/plain": [
       "False"
      ]
     },
     "execution_count": 62,
     "metadata": {},
     "output_type": "execute_result"
    }
   ],
   "source": [
    "process_dict[process_key]['by_run']"
   ]
  },
  {
   "cell_type": "code",
   "execution_count": 61,
   "metadata": {},
   "outputs": [
    {
     "data": {
      "text/plain": [
       "{'preprocess_run': {'name': 'Preprocess',\n",
       "  'by_run': True,\n",
       "  'process_used': 'preprocess_run'},\n",
       " 'get_mean_fct': {'name': 'Mean fct',\n",
       "  'by_run': False,\n",
       "  'process_used': 'get_mean_fct'},\n",
       " 'crop_interface': {'name': 'Crop',\n",
       "  'by_run': False,\n",
       "  'process_used': 'crop_interface'},\n",
       " 'bet_interface': {'name': 'BET',\n",
       "  'by_run': False,\n",
       "  'process_used': 'bet_interface'},\n",
       " 'mean_to_STD': {'name': 'Mean to atlas',\n",
       "  'by_run': False,\n",
       "  'process_used': 'mean_to_STD'},\n",
       " 'run_to_STD': {'name': 'Runs to atlas',\n",
       "  'by_run': True,\n",
       "  'process_used': 'run_to_STD'},\n",
       " 'process_motion': {'name': 'Motion',\n",
       "  'by_run': False,\n",
       "  'process_used': 'process_motion'}}"
      ]
     },
     "execution_count": 61,
     "metadata": {},
     "output_type": "execute_result"
    }
   ],
   "source": [
    "process_dict"
   ]
  },
  {
   "cell_type": "code",
   "execution_count": 58,
   "metadata": {},
   "outputs": [
    {
     "data": {
      "text/plain": [
       "'Mean fct'"
      ]
     },
     "execution_count": 58,
     "metadata": {},
     "output_type": "execute_result"
    }
   ],
   "source": []
  },
  {
   "cell_type": "code",
   "execution_count": 6,
   "metadata": {},
   "outputs": [
    {
     "data": {
      "text/plain": [
       "['Run 1', 'Run 2', 'Run 3']"
      ]
     },
     "execution_count": 6,
     "metadata": {},
     "output_type": "execute_result"
    }
   ],
   "source": [
    "options=[f\"Run {i}\" for i in project_dict['Runs']]\n",
    "options"
   ]
  },
  {
   "cell_type": "code",
   "execution_count": 53,
   "metadata": {},
   "outputs": [
    {
     "data": {
      "text/plain": [
       "{'preprocess_run': {'name': 'Preprocess',\n",
       "  'by_run': True,\n",
       "  'process_used': 'preprocess_run'},\n",
       " 'get_mean_fct': {'name': 'Mean fct',\n",
       "  'by_run': False,\n",
       "  'process_used': 'get_mean_fct'},\n",
       " 'crop_interface': {'name': 'Crop',\n",
       "  'by_run': False,\n",
       "  'process_used': 'crop_interface'},\n",
       " 'bet_interface': {'name': 'BET',\n",
       "  'by_run': False,\n",
       "  'process_used': 'bet_interface'},\n",
       " 'mean_to_STD': {'name': 'Mean to atlas',\n",
       "  'by_run': False,\n",
       "  'process_used': 'mean_to_STD'},\n",
       " 'run_to_STD': {'name': 'Runs to atlas',\n",
       "  'by_run': True,\n",
       "  'process_used': 'run_to_STD'},\n",
       " 'process_motion': {'name': 'Motion',\n",
       "  'by_run': False,\n",
       "  'process_used': 'process_motion'}}"
      ]
     },
     "execution_count": 53,
     "metadata": {},
     "output_type": "execute_result"
    }
   ],
   "source": [
    "process_dict"
   ]
  },
  {
   "cell_type": "code",
   "execution_count": null,
   "metadata": {},
   "outputs": [],
   "source": [
    "# Create the process_menu ToggleButtons for process based on process_list\n",
    "process_menu = widgets.ToggleButtons(\n",
    "    options=[process_dict for process in process_list],\n",
    "    description='Process:',\n",
    "    disabled=False,\n",
    "    button_style='', # 'success', 'info', 'warning', 'danger' or ''\n",
    "    # icons=['check'] * 3\n",
    ")\n",
    "\n"
   ]
  },
  {
   "cell_type": "code",
   "execution_count": 47,
   "metadata": {},
   "outputs": [
    {
     "name": "stdout",
     "output_type": "stream",
     "text": [
      "Preprocess\n",
      "Mean fct\n",
      "Crop\n",
      "BET\n",
      "Mean to atlas\n",
      "Runs to atlas\n",
      "Motion\n",
      "['Preprocess', 'Mean fct', 'Crop', 'BET', 'Mean to atlas', 'Runs to atlas', 'Motion']\n"
     ]
    }
   ],
   "source": [
    "for process in process_dict.items():\n",
    "    print(process[1]['name'])\n",
    "\n",
    "options = [process[1]['name'] for process in process_dict.items()]\n",
    "print(options)"
   ]
  },
  {
   "cell_type": "code",
   "execution_count": 45,
   "metadata": {},
   "outputs": [
    {
     "data": {
      "text/plain": [
       "'Preprocess'"
      ]
     },
     "execution_count": 45,
     "metadata": {},
     "output_type": "execute_result"
    }
   ],
   "source": [
    "process[1]['name']"
   ]
  },
  {
   "cell_type": "code",
   "execution_count": 6,
   "metadata": {},
   "outputs": [
    {
     "ename": "SyntaxError",
     "evalue": "invalid syntax (4281251277.py, line 1)",
     "output_type": "error",
     "traceback": [
      "\u001b[1;36m  Cell \u001b[1;32mIn[6], line 1\u001b[1;36m\u001b[0m\n\u001b[1;33m    f\"{project_dict['Specie']}-sub-{i:03d}\" for i in project_dict['Participants']\u001b[0m\n\u001b[1;37m                                            ^\u001b[0m\n\u001b[1;31mSyntaxError\u001b[0m\u001b[1;31m:\u001b[0m invalid syntax\n"
     ]
    }
   ],
   "source": [
    "f\"{project_dict['Specie']}-sub-{i:03d}\" for i in project_dict['Participants']"
   ]
  },
  {
   "cell_type": "code",
   "execution_count": 25,
   "metadata": {},
   "outputs": [
    {
     "name": "stdout",
     "output_type": "stream",
     "text": [
      "['D-sub-001', 'D-sub-002', 'D-sub-003', 'D-sub-004', 'D-sub-005']\n"
     ]
    }
   ],
   "source": [
    "project_dict['Participants']\n",
    "\n",
    "# Create a list of participants padded with three zeros\n",
    "participant_list = [f\"{project_dict['Specie']}-sub-{i:03d}\" for i in project_dict['Participants']]\n",
    "print(participant_list)"
   ]
  },
  {
   "cell_type": "code",
   "execution_count": 11,
   "metadata": {},
   "outputs": [
    {
     "data": {
      "text/plain": [
       "[1, 2, 3, 4, 5]"
      ]
     },
     "execution_count": 11,
     "metadata": {},
     "output_type": "execute_result"
    }
   ],
   "source": [
    "# Transform project_dict['Participants'] into a list of integers:\n",
    "participants_list = project_dict['Participants'].split(',')\n",
    "participants_list = [int(i) for i in participants_list]\n",
    "participants_list\n",
    "\n"
   ]
  },
  {
   "cell_type": "markdown",
   "metadata": {},
   "source": [
    "## Scheduler"
   ]
  },
  {
   "cell_type": "code",
   "execution_count": 5,
   "metadata": {},
   "outputs": [
    {
     "data": {
      "text/plain": [
       "'Preprocess'"
      ]
     },
     "execution_count": 5,
     "metadata": {},
     "output_type": "execute_result"
    }
   ],
   "source": [
    "# Define the class named Process\n",
    "class Process:\n",
    "    def __init__(self, name, by_run, process_used):\n",
    "        self.name = name\n",
    "        self.by_run = by_run\n",
    "        self.process_used = process_used\n",
    "\n",
    "process_list = [\n",
    "    Process('Preprocess', True, 'preprocess_run'),\n",
    "    Process('Mean fct', False, 'get_mean_fct'),\n",
    "    Process('Crop', False, 'crop_interface'),\n",
    "    Process('BET', False, 'bet_interface'),\n",
    "    Process('Mean to atlas', False, 'mean_to_STD'),\n",
    "    Process('Runs to atlas', True, 'run_to_STD'),\n",
    "    Process('Motion', False, 'process_motion'),\n",
    "]\n",
    "\n",
    "runs_available = [1,2,3,4]\n",
    "subs_possible = [1,2,3,4]\n",
    "\n",
    "process_list[0].name\n"
   ]
  },
  {
   "cell_type": "code",
   "execution_count": null,
   "metadata": {},
   "outputs": [],
   "source": [
    "# Define a new class Job\n",
    "class Job:\n",
    "    def __init__(self, process, participant, run):\n",
    "        self.process = process\n",
    "        self.participant = participant\n",
    "        self.run = run\n",
    "        self.status = 'Pending'\n",
    "        "
   ]
  },
  {
   "cell_type": "code",
   "execution_count": 12,
   "metadata": {},
   "outputs": [
    {
     "data": {
      "application/vnd.jupyter.widget-view+json": {
       "model_id": "b78aeff5f8984d25bffef98ad0c5930f",
       "version_major": 2,
       "version_minor": 0
      },
      "text/plain": [
       "GridBox(children=(Label(value=''), Label(value='Preprocess'), Label(value='Mean fct'), Label(value='Crop'), La…"
      ]
     },
     "metadata": {},
     "output_type": "display_data"
    }
   ],
   "source": [
    "import ipywidgets as widgets\n",
    "from IPython.display import display, HTML\n",
    "\n",
    "# Define the class named Process\n",
    "class Process:\n",
    "    def __init__(self, name, by_run, process_used):\n",
    "        self.name = name\n",
    "        self.by_run = by_run\n",
    "        self.process_used = process_used\n",
    "\n",
    "# Create a list of processes\n",
    "process_list = [\n",
    "    Process('Preprocess', True, 'preprocess_run'),\n",
    "    Process('Mean fct', False, 'get_mean_fct'),\n",
    "    Process('Crop', False, 'crop_interface'),\n",
    "    Process('BET', False, 'bet_interface'),\n",
    "    Process('Mean to atlas', False, 'mean_to_STD'),\n",
    "    Process('Runs to atlas', True, 'run_to_STD'),\n",
    "    Process('Motion', False, 'process_motion'),\n",
    "]\n",
    "\n",
    "subs_possible = [1, 2, 3, 4]\n",
    "runs_available = [1, 2, 3, 4]\n",
    "\n"
   ]
  },
  {
   "cell_type": "code",
   "execution_count": null,
   "metadata": {},
   "outputs": [],
   "source": [
    "preprocess = {\n",
    "    'name': 'Preprocess',\n",
    "    'by_run': False,\n",
    "    'function': 'preprocess_run'\n",
    "    }\n",
    "\n",
    "\n"
   ]
  },
  {
   "cell_type": "code",
   "execution_count": 4,
   "metadata": {},
   "outputs": [
    {
     "data": {
      "application/vnd.jupyter.widget-view+json": {
       "model_id": "b5452496f9044ad9a749be1744a6dd1b",
       "version_major": 2,
       "version_minor": 0
      },
      "text/plain": [
       "GridBox(children=(Button(description='Button 1,1', style=ButtonStyle()), Button(description='Button 1,2', styl…"
      ]
     },
     "metadata": {},
     "output_type": "display_data"
    },
    {
     "name": "stdout",
     "output_type": "stream",
     "text": [
      "Button at Row 1, Column 1 was pressed\n",
      "Button at Row 1, Column 2 was pressed\n",
      "Button at Row 1, Column 3 was pressed\n",
      "Button at Row 1, Column 4 was pressed\n",
      "Button at Row 2, Column 1 was pressed\n",
      "Button at Row 2, Column 2 was pressed\n",
      "Button at Row 2, Column 3 was pressed\n",
      "Button at Row 2, Column 4 was pressed\n",
      "Button at Row 3, Column 1 was pressed\n",
      "Button at Row 3, Column 2 was pressed\n",
      "Button at Row 3, Column 3 was pressed\n",
      "Button at Row 3, Column 4 was pressed\n",
      "Button at Row 2, Column 4 was pressed\n",
      "Button at Row 1, Column 4 was pressed\n"
     ]
    }
   ],
   "source": [
    "import ipywidgets as widgets\n",
    "from IPython.display import display\n",
    "\n",
    "def create_button_matrix(rows, columns):\n",
    "    # This function creates a button and assigns an on_click event\n",
    "    def create_button(row, col):\n",
    "        button = widgets.Button(description=f\"Button {row+1},{col+1}\")\n",
    "        button.on_click(lambda b: print(f\"Button at Row {row+1}, Column {col+1} was pressed\"))\n",
    "        return button\n",
    "\n",
    "    # Create a grid of buttons\n",
    "    grid = widgets.GridBox(children=[\n",
    "        create_button(row, col) for row in range(rows) for col in range(columns)\n",
    "    ], layout=widgets.Layout(grid_template_columns=\"repeat(4, 100px)\"))\n",
    "    \n",
    "    display(grid)\n",
    "\n",
    "# Create a 3x4 matrix of buttons\n",
    "create_button_matrix(3, 4)\n"
   ]
  },
  {
   "cell_type": "code",
   "execution_count": 6,
   "metadata": {},
   "outputs": [
    {
     "data": {
      "application/vnd.jupyter.widget-view+json": {
       "model_id": "1aac1c10c9e340aca3c1c43d7b1cd16b",
       "version_major": 2,
       "version_minor": 0
      },
      "text/plain": [
       "Tab(children=(Text(value='', description='Tab 1'), Text(value='', description='Tab 2'), Text(value='', descrip…"
      ]
     },
     "metadata": {},
     "output_type": "display_data"
    }
   ],
   "source": [
    "# Create a tab widget\n",
    "tab = widgets.Tab()\n",
    "\n",
    "# Create contents for each tab\n",
    "children = [widgets.Text(description=f\"Tab {i+1}\") for i in range(3)]\n",
    "\n",
    "# Set the children for the tab widget\n",
    "tab.children = children\n",
    "\n",
    "# Name your tabs\n",
    "for i in range(len(children)):\n",
    "    tab.set_title(i, f'Tab {i+1}')\n",
    "\n",
    "# Display the tab widget\n",
    "display(tab)\n"
   ]
  }
 ],
 "metadata": {
  "kernelspec": {
   "display_name": "base",
   "language": "python",
   "name": "python3"
  },
  "language_info": {
   "codemirror_mode": {
    "name": "ipython",
    "version": 3
   },
   "file_extension": ".py",
   "mimetype": "text/x-python",
   "name": "python",
   "nbconvert_exporter": "python",
   "pygments_lexer": "ipython3",
   "version": "3.11.5"
  }
 },
 "nbformat": 4,
 "nbformat_minor": 2
}
